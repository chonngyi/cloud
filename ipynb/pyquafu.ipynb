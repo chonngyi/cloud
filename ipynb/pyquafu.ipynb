{
 "cells": [
  {
   "cell_type": "code",
   "execution_count": 3,
   "metadata": {},
   "outputs": [],
   "source": [
    "from quafu import User\n",
    "user=User()\n",
    "user.save_apitoken(\"0vk-o9br9MKWUpUjPiJh2aZ562T-cXrNJm_aKcuUhmP.QfyIDO4MzN1kjNxojIwhXZiwCO4AzM6ICZpJye.9JiN1IzUIJiOicGbhJCLiQ1VKJiOiAXe0Jye\")"
   ]
  },
  {
   "cell_type": "code",
   "execution_count": 4,
   "metadata": {},
   "outputs": [],
   "source": [
    "import numpy as np\n",
    "from quafu import QuantumCircuit\n",
    "\n",
    "q = QuantumCircuit(4)"
   ]
  },
  {
   "cell_type": "code",
   "execution_count": 5,
   "metadata": {},
   "outputs": [
    {
     "data": {
      "text/plain": [
       "<quafu.circuits.quantum_circuit.QuantumCircuit at 0x17760a7e810>"
      ]
     },
     "execution_count": 5,
     "metadata": {},
     "output_type": "execute_result"
    }
   ],
   "source": [
    "q.h(0)\n",
    "q.h(1)\n",
    "q.cnot(0,2)\n",
    "q.cnot(1,3)\n",
    "q.cnot(0,2)\n",
    "q.h(1)\n",
    "q.cnot(0,3)\n",
    "q.h(0)\n",
    "\n"
   ]
  },
  {
   "cell_type": "code",
   "execution_count": 6,
   "metadata": {},
   "outputs": [],
   "source": [
    "measures=[0,1]\n",
    "cbits = [0,1]\n",
    "q.measure(measures,cbits=cbits)"
   ]
  },
  {
   "cell_type": "code",
   "execution_count": 8,
   "metadata": {},
   "outputs": [
    {
     "name": "stdout",
     "output_type": "stream",
     "text": [
      "q[0]  --H----*---------*---------*----H-- M->c[0]\n",
      "             |         |         |       \n",
      "q[1]  --H----|----*----|----H----|------- M->c[1]\n",
      "             |    |    |         |       \n",
      "q[2]  -------+----|----+---------|-------\n",
      "                  |              |       \n",
      "q[3]  ------------+--------------+-------\n"
     ]
    }
   ],
   "source": [
    "q.draw_circuit(width=4)"
   ]
  },
  {
   "cell_type": "code",
   "execution_count": 9,
   "metadata": {},
   "outputs": [],
   "source": [
    "from quafu import Task\n",
    "task=Task()"
   ]
  },
  {
   "cell_type": "code",
   "execution_count": 12,
   "metadata": {},
   "outputs": [],
   "source": [
    "task.config(backend=\"ScQ-P18\",shots=3000,compile=True)\n"
   ]
  },
  {
   "cell_type": "code",
   "execution_count": 13,
   "metadata": {},
   "outputs": [],
   "source": [
    "res = task.send(q)"
   ]
  },
  {
   "cell_type": "code",
   "execution_count": 14,
   "metadata": {},
   "outputs": [
    {
     "name": "stdout",
     "output_type": "stream",
     "text": [
      "OrderedDict([('00', 1442), ('01', 107), ('10', 146), ('11', 1305)])\n",
      "{'00': 0.4806666666666667, '01': 0.035666666666666666, '10': 0.048666666666666664, '11': 0.435}\n"
     ]
    },
    {
     "data": {
      "image/png": "[encoded data removed]",
      "text/plain": [
       "<Figure size 640x480 with 1 Axes>"
      ]
     },
     "metadata": {},
     "output_type": "display_data"
    }
   ],
   "source": [
    "print(res.counts) #counts\n",
    "print(res.probabilities) #probabilities\n",
    "res.plot_probabilities()"
   ]
  }
 ],
 "metadata": {
  "kernelspec": {
   "display_name": "pyquafu",
   "language": "python",
   "name": "python3"
  },
  "language_info": {
   "codemirror_mode": {
    "name": "ipython",
    "version": 3
   },
   "file_extension": ".py",
   "mimetype": "text/x-python",
   "name": "python",
   "nbconvert_exporter": "python",
   "pygments_lexer": "ipython3",
   "version": "3.11.4"
  },
  "orig_nbformat": 4
 },
 "nbformat": 4,
 "nbformat_minor": 2
}
