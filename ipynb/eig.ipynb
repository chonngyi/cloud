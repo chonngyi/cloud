{
 "cells": [
  {
   "cell_type": "code",
   "execution_count": 1,
   "metadata": {},
   "outputs": [
    {
     "name": "stdout",
     "output_type": "stream",
     "text": [
      "Eigenvalues (Energy levels):\n",
      "[ 2.00000000e+00+0.j -6.42809725e-17+0.j -2.00000000e+00+0.j\n",
      "  0.00000000e+00+0.j]\n",
      "\n",
      "Eigenvectors (Wavefunctions):\n",
      "[[ 5.00000000e-01-0.j  7.07106781e-01+0.j  5.00000000e-01-0.j\n",
      "  -0.00000000e+00-0.j]\n",
      " [ 5.00000000e-01-0.j -7.63278329e-17-0.j -5.00000000e-01-0.j\n",
      "   7.07106781e-01+0.j]\n",
      " [ 5.00000000e-01-0.j -1.38777878e-17-0.j -5.00000000e-01-0.j\n",
      "  -7.07106781e-01-0.j]\n",
      " [ 5.00000000e-01+0.j -7.07106781e-01-0.j  5.00000000e-01+0.j\n",
      "  -0.00000000e+00-0.j]]\n"
     ]
    }
   ],
   "source": [
    "import numpy as np\n",
    "from scipy.linalg import eig\n",
    "\n",
    "# 定义系统参数\n",
    "N = 2  # 或者 N = 3\n",
    "\n",
    "# 以下是一个简单的哈密顿量示例（使用Pauli矩阵）\n",
    "# 这个示例适用于自旋1/2的系统，可以根据你的系统更改哈密顿量\n",
    "# 这里只是一个示例，你需要根据你的系统来定义合适的哈密顿量\n",
    "sigma_x = np.array([[0, 1], [1, 0]])\n",
    "sigma_y = np.array([[0, -1j], [1j, 0]])\n",
    "sigma_z = np.array([[1, 0], [0, -1]])\n",
    "\n",
    "# 构建哈密顿量\n",
    "H = np.zeros((2**N, 2**N), dtype=complex)\n",
    "for i in range(N):\n",
    "    # 例如，这里简单地将sigma_x加到哈密顿量中\n",
    "    H += np.kron(np.kron(np.eye(2**i), sigma_x), np.eye(2**(N-i-1)))\n",
    "\n",
    "# 对角化哈密顿量\n",
    "eigenvalues, eigenvectors = eig(H)\n",
    "\n",
    "# 输出结果\n",
    "print(\"Eigenvalues (Energy levels):\")\n",
    "print(eigenvalues)\n",
    "print(\"\\nEigenvectors (Wavefunctions):\")\n",
    "print(eigenvectors)\n"
   ]
  },
  {
   "cell_type": "code",
   "execution_count": 2,
   "metadata": {},
   "outputs": [
    {
     "name": "stdout",
     "output_type": "stream",
     "text": [
      "Eigenvalues (Energy levels):\n",
      "[8.60555128e+00+0.j 2.37169797e-16+0.j 1.39444872e+00+0.j\n",
      " 0.00000000e+00+0.j]\n",
      "\n",
      "Eigenvectors (Wavefunctions):\n",
      "[[-0.        -0.j -0.        -0.j -0.        -0.j  1.        +0.j]\n",
      " [ 0.0987837 -0.j  0.57735027+0.j  0.81049889+0.j  0.        +0.j]\n",
      " [ 0.65252078-0.j  0.57735027-0.j -0.49079864-0.j  0.        +0.j]\n",
      " [ 0.75130448+0.j -0.57735027-0.j  0.31970025-0.j  0.        +0.j]]\n"
     ]
    }
   ],
   "source": [
    "import numpy as np\n",
    "from scipy.linalg import eig\n",
    "\n",
    "# 定义系统参数\n",
    "N = 2  # 或者 N = 3\n",
    "# 定义T和V的形式，这里是示例形式，你需要根据你的系统来修改它们\n",
    "T = np.identity(N)  # 例如，这里假设T是单位矩阵\n",
    "V = np.zeros((N, N))  # 例如，这里假设V是零矩阵\n",
    "\n",
    "# 构建哈密顿量矩阵\n",
    "H = np.zeros((2**N, 2**N), dtype=complex)\n",
    "for i in range(2**N):\n",
    "    for j in range(2**N):\n",
    "        H_ij = 0\n",
    "        for n in range(N):\n",
    "            for n_prime in range(N):\n",
    "                H_ij += (T[n_prime, n] + V[n_prime, n]) * (i & (1 << n)) * (j & (1 << n_prime))\n",
    "        H[i, j] = H_ij\n",
    "\n",
    "# 对角化哈密顿量\n",
    "eigenvalues, eigenvectors = eig(H)\n",
    "\n",
    "# 输出结果\n",
    "print(\"Eigenvalues (Energy levels):\")\n",
    "print(eigenvalues)\n",
    "print(\"\\nEigenvectors (Wavefunctions):\")\n",
    "print(eigenvectors)\n"
   ]
  },
  {
   "cell_type": "code",
   "execution_count": 23,
   "metadata": {},
   "outputs": [
    {
     "name": "stdout",
     "output_type": "stream",
     "text": [
      "Eigenvalues (Energy levels):\n",
      "[15.27610407+0.j  9.66433667+0.j 15.27610407+0.j 15.27610407+0.j]\n",
      "\n",
      "Eigenvectors (Wavefunctions):\n",
      "[[ 0.8660254 +0.j  0.5       -0.j  0.18918883+0.j  0.24508698+0.j]\n",
      " [-0.28867513-0.j  0.5       -0.j  0.71823971+0.j -0.56248338+0.j]\n",
      " [-0.28867513-0.j  0.5       +0.j -0.58903986+0.j -0.37664029+0.j]\n",
      " [-0.28867513-0.j  0.5       -0.j -0.31838868+0.j  0.69403669+0.j]]\n"
     ]
    }
   ],
   "source": [
    "import numpy as np\n",
    "from scipy.linalg import eig\n",
    "\n",
    "# 定义系统参数\n",
    "N = 2  # 或者 N = 3\n",
    "hbar = 1.0  # 哈密顿量中的常数因子\n",
    "omega = 1.0  # 假设的频率\n",
    "V0 = 5.68658111  # 势能的强度\n",
    "\n",
    "# 构建哈密顿量矩阵\n",
    "H = np.zeros((2**N, 2**N), dtype=complex)\n",
    "for i in range(2**N):\n",
    "    for j in range(2**N):\n",
    "        H_ij = 0\n",
    "        for n in range(N):\n",
    "            n_prime = n\n",
    "            delta_n = 0\n",
    "            if i == j:\n",
    "                delta_n = 1\n",
    "            if n_prime == n:\n",
    "                term1 = (2 * n + 1.5) * delta_n\n",
    "                term2 = np.sqrt(n * (n + 0.5)) * (1 - delta_n)\n",
    "                term3 = np.sqrt(n * (n + 1.5)) * (1 - delta_n)\n",
    "                H_ij += (hbar * omega / 2) * (term1 - term2 - term3)\n",
    "            H_ij += V0 * delta_n  # 添加势能项\n",
    "        H[i, j] = H_ij\n",
    "\n",
    "# 对角化哈密顿量\n",
    "eigenvalues, eigenvectors = eig(H)\n",
    "\n",
    "# 输出结果\n",
    "print(\"Eigenvalues (Energy levels):\")\n",
    "print(eigenvalues)\n",
    "print(\"\\nEigenvectors (Wavefunctions):\")\n",
    "print(eigenvectors)\n"
   ]
  },
  {
   "cell_type": "code",
   "execution_count": 4,
   "metadata": {},
   "outputs": [
    {
     "name": "stdout",
     "output_type": "stream",
     "text": [
      "Eigenvalues (Energy levels in MeV):\n",
      "[  46.59721714+0.j -168.65846659+0.j   46.59721714+0.j   46.59721714+0.j\n",
      "   46.59721714+0.j   46.59721714+0.j   46.59721714+0.j   46.59721714+0.j]\n",
      "\n",
      "Eigenvectors (Wavefunctions):\n",
      "[[ 0.93541435+0.j  0.35355339-0.j -0.25567387+0.j  0.05877089-0.j\n",
      "  -0.01743415+0.j -0.04706366+0.j -0.02278016+0.j  0.04561804+0.j]\n",
      " [-0.13363062-0.j  0.35355339+0.j  0.92709083+0.j  0.2979753 -0.j\n",
      "  -0.03754684+0.j -0.05047277+0.j  0.11351308+0.j  0.01422992+0.j]\n",
      " [-0.13363062-0.j  0.35355339-0.j -0.11190283+0.j  0.63519802+0.j\n",
      "  -0.03676142+0.j -0.05950983+0.j  0.06071015+0.j -0.15094042+0.j]\n",
      " [-0.13363062-0.j  0.35355339-0.j -0.11190283+0.j  0.24325698-0.j\n",
      "   0.90422362+0.j  0.06599494+0.j  0.03624033+0.j -0.14708962+0.j]\n",
      " [-0.13363062-0.j  0.35355339-0.j -0.11190283+0.j -0.52733357-0.j\n",
      "  -0.09961992+0.j  0.84279292+0.j -0.28404633+0.j -0.11841366+0.j]\n",
      " [-0.13363062-0.j  0.35355339-0.j -0.11190283+0.j -0.23595587-0.j\n",
      "  -0.23762043+0.j -0.49371155+0.j -0.49860377+0.j -0.41158466+0.j]\n",
      " [-0.13363062-0.j  0.35355339-0.j -0.11190283+0.j -0.23595587-0.j\n",
      "  -0.23762043+0.j -0.12901503+0.j -0.19001846+0.j  0.87133954+0.j]\n",
      " [-0.13363062-0.j  0.35355339-0.j -0.11190283+0.j -0.23595587-0.j\n",
      "  -0.23762043+0.j -0.12901503+0.j  0.78498517+0.j -0.10315915+0.j]]\n"
     ]
    }
   ],
   "source": [
    "import numpy as np\n",
    "from scipy.linalg import eig\n",
    "\n",
    "# 定义系统参数\n",
    "N = 3  # 或者 N = 3\n",
    "hbar_omega = 7.0  # MeV\n",
    "V0 = -5.68658111  # MeV\n",
    "\n",
    "# 构建哈密顿量矩阵\n",
    "H = np.zeros((2**N, 2**N), dtype=complex)\n",
    "for i in range(2**N):\n",
    "    for j in range(2**N):\n",
    "        H_ij = 0\n",
    "        for n in range(N):\n",
    "            n_prime = n\n",
    "            delta_n = 0\n",
    "            if i == j:\n",
    "                delta_n = 1\n",
    "            if n_prime == n:\n",
    "                term1 = (2 * n + 1.5) * delta_n\n",
    "                term2 = np.sqrt(n * (n + 0.5)) * (1 - delta_n)\n",
    "                term3 = np.sqrt(n * (n + 1.5)) * (1 - delta_n)\n",
    "                H_ij += (hbar_omega / 2) * (term1 - term2 - term3)\n",
    "            H_ij += V0 * delta_n  # 添加势能项\n",
    "        H[i, j] = H_ij\n",
    "\n",
    "# 对角化哈密顿量\n",
    "eigenvalues, eigenvectors = eig(H)\n",
    "\n",
    "# 输出结果\n",
    "print(\"Eigenvalues (Energy levels in MeV):\")\n",
    "print(eigenvalues)\n",
    "print(\"\\nEigenvectors (Wavefunctions):\")\n",
    "print(eigenvectors)\n"
   ]
  },
  {
   "cell_type": "code",
   "execution_count": 6,
   "metadata": {},
   "outputs": [
    {
     "name": "stdout",
     "output_type": "stream",
     "text": [
      "Hamiltonian Matrix:\n",
      "[[-14.42922999+0.j -26.90696047+0.j -26.90696047+0.j -26.90696047+0.j\n",
      "  -26.90696047+0.j -26.90696047+0.j -26.90696047+0.j -26.90696047+0.j]\n",
      " [-26.90696047+0.j -14.42922999+0.j -26.90696047+0.j -26.90696047+0.j\n",
      "  -26.90696047+0.j -26.90696047+0.j -26.90696047+0.j -26.90696047+0.j]\n",
      " [-26.90696047+0.j -26.90696047+0.j -14.42922999+0.j -26.90696047+0.j\n",
      "  -26.90696047+0.j -26.90696047+0.j -26.90696047+0.j -26.90696047+0.j]\n",
      " [-26.90696047+0.j -26.90696047+0.j -26.90696047+0.j -14.42922999+0.j\n",
      "  -26.90696047+0.j -26.90696047+0.j -26.90696047+0.j -26.90696047+0.j]\n",
      " [-26.90696047+0.j -26.90696047+0.j -26.90696047+0.j -26.90696047+0.j\n",
      "  -14.42922999+0.j -26.90696047+0.j -26.90696047+0.j -26.90696047+0.j]\n",
      " [-26.90696047+0.j -26.90696047+0.j -26.90696047+0.j -26.90696047+0.j\n",
      "  -26.90696047+0.j -14.42922999+0.j -26.90696047+0.j -26.90696047+0.j]\n",
      " [-26.90696047+0.j -26.90696047+0.j -26.90696047+0.j -26.90696047+0.j\n",
      "  -26.90696047+0.j -26.90696047+0.j -14.42922999+0.j -26.90696047+0.j]\n",
      " [-26.90696047+0.j -26.90696047+0.j -26.90696047+0.j -26.90696047+0.j\n",
      "  -26.90696047+0.j -26.90696047+0.j -26.90696047+0.j -14.42922999+0.j]]\n"
     ]
    }
   ],
   "source": [
    "import numpy as np\n",
    "\n",
    "def calculate_H_ij(N, hbar_omega, V0, i, j):\n",
    "    H_ij = 0\n",
    "    for n in range(N):\n",
    "        for n_prime in range(N):\n",
    "            delta_n = 0\n",
    "            if i == j:\n",
    "                delta_n = 1\n",
    "            if n_prime == n:\n",
    "                term1 = (2 * n + 1.5) * delta_n\n",
    "                term2 = np.sqrt(n * (n + 0.5)) * (1 - delta_n)\n",
    "                term3 = np.sqrt(n * (n + 1.5)) * (1 - delta_n)\n",
    "                H_ij += (hbar_omega / 2) * (term1 - term2 - term3)\n",
    "            H_ij += V0 * delta_n  # 添加势能项\n",
    "    return H_ij\n",
    "\n",
    "# 定义系统参数\n",
    "N = 3  # 或者 N = 3\n",
    "hbar_omega = 7.0  # MeV\n",
    "V0 = -5.68658111  # MeV\n",
    "\n",
    "# 构建哈密顿量矩阵\n",
    "H = np.zeros((2**N, 2**N), dtype=complex)\n",
    "for i in range(2**N):\n",
    "    for j in range(2**N):\n",
    "        H[i, j] = calculate_H_ij(N, hbar_omega, V0, i, j)\n",
    "\n",
    "# 输出哈密顿量矩阵\n",
    "print(\"Hamiltonian Matrix:\")\n",
    "print(H)\n"
   ]
  },
  {
   "cell_type": "code",
   "execution_count": 19,
   "metadata": {},
   "outputs": [
    {
     "ename": "IndentationError",
     "evalue": "expected an indented block (405756005.py, line 11)",
     "output_type": "error",
     "traceback": [
      "\u001b[1;36m  Cell \u001b[1;32mIn[19], line 11\u001b[1;36m\u001b[0m\n\u001b[1;33m    H = np.zeros((2**N, 2**N), dtype=complex)\u001b[0m\n\u001b[1;37m    ^\u001b[0m\n\u001b[1;31mIndentationError\u001b[0m\u001b[1;31m:\u001b[0m expected an indented block\n"
     ]
    }
   ],
   "source": [
    "import numpy as np\n",
    "from scipy.linalg import eig\n",
    "\n",
    "# 定义系统参数\n",
    "N = 2  # 或者 N = 3\n",
    "hbar_omega = 7.0  # MeV\n",
    "V0 = -5.68658111  # MeV\n",
    "\n",
    "# 构建哈密顿量矩阵\n",
    "def calculate_H_ij(N, hbar_omega, V0, i, j):\n",
    "H = np.zeros((2**N, 2**N), dtype=complex)\n",
    "for i in range(2**N):\n",
    "    for j in range(2**N):\n",
    "        H_ij = 0\n",
    "        for n in range(N):\n",
    "            n_prime = n\n",
    "            delta_n = 0\n",
    "            if i == j:\n",
    "                delta_n = 1\n",
    "            if n_prime == n:\n",
    "                term1 = (2 * n + 1.5) * delta_n\n",
    "                term2 = np.sqrt(n * (n + 0.5)) * (1 - delta_n)\n",
    "                term3 = np.sqrt(n * (n + 1.5)) * (1 - delta_n)\n",
    "                H_ij += (hbar_omega / 2) * (term1 - term2 - term3)\n",
    "            H_ij += V0 * delta_n  # 添加势能项\n",
    "        H[i, j] = H_ij\n",
    "    return H_ij\n",
    "\n",
    "# 定义系统参数\n",
    "N = 3  # 或者 N = 3\n",
    "hbar_omega = 7.0  # MeV\n",
    "V0 = -5.68658111  # MeV\n",
    "\n",
    "# 构建哈密顿量矩阵\n",
    "H = np.zeros((2**N, 2**N), dtype=complex)\n",
    "for i in range(2**N):\n",
    "    for j in range(2**N):\n",
    "        H[i, j] = calculate_H_ij(N, hbar_omega, V0, i, j)\n",
    "\n",
    "# 输出哈密顿量矩阵\n",
    "print(\"Hamiltonian Matrix:\")\n",
    "print(H)\n",
    "\n",
    "H = np.zeros((2**N, 2**N), dtype=complex)\n",
    "for i in range(2**N):\n",
    "    for j in range(2**N):\n",
    "        H[i, j] = calculate_H_ij(N, hbar_omega, V0, i, j)\n",
    "\n",
    "# 对角化哈密顿量\n",
    "eigenvalues, eigenvectors = eig(H)\n",
    "\n",
    "# 输出结果\n",
    "print(\"Eigenvalues (Energy levels in MeV):\")\n",
    "print(eigenvalues)\n",
    "print(\"\\nEigenvectors (Wavefunctions):\")\n",
    "print(eigenvectors)\n"
   ]
  },
  {
   "cell_type": "code",
   "execution_count": 20,
   "metadata": {},
   "outputs": [
    {
     "ename": "SyntaxError",
     "evalue": "'return' outside function (527388001.py, line 27)",
     "output_type": "error",
     "traceback": [
      "\u001b[1;36m  Cell \u001b[1;32mIn[20], line 27\u001b[1;36m\u001b[0m\n\u001b[1;33m    return H_ij\u001b[0m\n\u001b[1;37m    ^\u001b[0m\n\u001b[1;31mSyntaxError\u001b[0m\u001b[1;31m:\u001b[0m 'return' outside function\n"
     ]
    }
   ],
   "source": [
    "import numpy as np\n",
    "from scipy.linalg import eigvals\n",
    "\n",
    "# 定义系统参数\n",
    "N = 2  # 或者 N = 3\n",
    "hbar_omega = 7.0  # MeV\n",
    "V0 = -5.68658111  # MeV\n",
    "\n",
    "# 构建哈密顿量矩阵\n",
    "def calculate_H_ij(N, hbar_omega, V0, i, j):\n",
    "    H_ij = 0\n",
    "    for n in range(N):\n",
    "        for n_prime in range(N):\n",
    "            delta_n = 0\n",
    "            if i == j:\n",
    "                delta_n = 1\n",
    "            if n_prime == n:\n",
    "                term1 = (2 * n + 1.5) * delta_n\n",
    "                term2 = np.sqrt(n * (n + 0.5)) * (1 - delta_n)\n",
    "                term3 = np.sqrt(n * (n + 1.5)) * (1 - delta_n)\n",
    "                H_ij += (hbar_omega / 2) * (term1 - term2 - term3)\n",
    "            H_ij += V0 * delta_n  # 添加势能项\n",
    "    return H_ij\n",
    "\n",
    "H = np.zeros((2**N, 2**N), dtype=complex)\n",
    "for i in range(2**N):\n",
    "    for j in range(2**N):\n",
    "        H[i, j] = calculate_H_ij(N, hbar_omega, V0, i, j)\n",
    "\n",
    "# 计算哈密顿量的本征值\n",
    "eigenvalues = eigvals(H)\n",
    "\n",
    "# 输出结果\n",
    "print(\"Eigenvalues (Energy levels in MeV):\")\n",
    "print(eigenvalues)\n"
   ]
  },
  {
   "cell_type": "code",
   "execution_count": 21,
   "metadata": {},
   "outputs": [
    {
     "name": "stdout",
     "output_type": "stream",
     "text": [
      "Eigenvalues (Energy levels in MeV):\n",
      "(4.574268515165225+0j)\n",
      "(-34.708103305495676+0j)\n",
      "(4.574268515165223+0j)\n",
      "(4.574268515165225+0j)\n"
     ]
    }
   ],
   "source": [
    "import numpy as np\n",
    "from scipy.linalg import eigvals\n",
    "\n",
    "# 定义系统参数\n",
    "N = 2  # 或者 N = 3\n",
    "hbar_omega = 7.0  # MeV\n",
    "V0 = -5.68658111  # MeV\n",
    "\n",
    "# 构建哈密顿量矩阵\n",
    "def calculate_H_ij(N, hbar_omega, V0, i, j):\n",
    "    H_ij = 0\n",
    "    for n in range(N):\n",
    "        for n_prime in range(N):\n",
    "            delta_n = 0\n",
    "            if i == j:\n",
    "                delta_n = 1\n",
    "            if n_prime == n:\n",
    "                term1 = (2 * n + 1.5) * delta_n\n",
    "                term2 = np.sqrt(n * (n + 0.5)) * (1 - delta_n)\n",
    "                term3 = np.sqrt(n * (n + 1.5)) * (1 - delta_n)\n",
    "                H_ij += (hbar_omega / 2) * (term1 - term2 - term3)\n",
    "            H_ij += V0 * delta_n  # 添加势能项\n",
    "    return H_ij\n",
    "\n",
    "H = np.zeros((2**N, 2**N), dtype=complex)\n",
    "for i in range(2**N):\n",
    "    for j in range(2**N):\n",
    "        H[i, j] = calculate_H_ij(N, hbar_omega, V0, i, j)\n",
    "\n",
    "# 计算哈密顿量的本征值\n",
    "eigenvalues = eigvals(H)\n",
    "\n",
    "# 输出结果\n",
    "print(\"Eigenvalues (Energy levels in MeV):\")\n",
    "for eigenvalue in eigenvalues:\n",
    "    print(eigenvalue)\n"
   ]
  },
  {
   "cell_type": "code",
   "execution_count": 24,
   "metadata": {},
   "outputs": [
    {
     "name": "stdout",
     "output_type": "stream",
     "text": [
      "Eigenvalues (Energy levels in MeV):\n",
      "[ 15.94743074+0.j -23.33494109+0.j  15.94743074+0.j  15.94743074+0.j]\n",
      "\n",
      "Eigenvectors (Wavefunctions):\n",
      "[[ 0.8660254 +0.j  0.5       +0.j  0.14779939+0.j -0.2209904 -0.j]\n",
      " [-0.28867513-0.j  0.5       -0.j -0.61814659+0.j  0.79272013+0.j]\n",
      " [-0.28867513-0.j  0.5       -0.j  0.72783824+0.j -0.00362329-0.j]\n",
      " [-0.28867513-0.j  0.5       -0.j -0.25749104+0.j -0.56810643-0.j]]\n"
     ]
    }
   ],
   "source": [
    "import numpy as np\n",
    "from scipy.linalg import eig\n",
    "\n",
    "# 定义系统参数\n",
    "N = 2  # 或者 N = 3\n",
    "hbar_omega = 7.0  # MeV\n",
    "V0 = -5.68658111  # MeV\n",
    "\n",
    "# 构建哈密顿量矩阵\n",
    "def calculate_H_ij(N, hbar_omega, V0, i, j):\n",
    "    H_ij = 0\n",
    "    for n in range(N):\n",
    "        n_prime = n\n",
    "        delta_n = 0\n",
    "        if i == j:\n",
    "            delta_n = 1\n",
    "        if n_prime == n:\n",
    "            term1 = (2 * n + 1.5) * delta_n\n",
    "            term2 = np.sqrt(n * (n + 0.5)) * (1 - delta_n)\n",
    "            term3 = np.sqrt(n * (n + 1.5)) * (1 - delta_n)\n",
    "            H_ij += (hbar_omega / 2) * (term1 - term2 - term3)\n",
    "        H_ij += V0 * delta_n  # 添加势能项\n",
    "    return H_ij\n",
    "\n",
    "# 构建哈密顿量矩阵\n",
    "dimension = 2**N\n",
    "H = np.zeros((dimension, dimension), dtype=complex)\n",
    "for i in range(dimension):\n",
    "    for j in range(dimension):\n",
    "        H[i, j] = calculate_H_ij(N, hbar_omega, V0, i, j)\n",
    "\n",
    "# 对角化哈密顿量\n",
    "eigenvalues, eigenvectors = eig(H)\n",
    "\n",
    "# 输出结果\n",
    "print(\"Eigenvalues (Energy levels in MeV):\")\n",
    "print(eigenvalues)\n",
    "print(\"\\nEigenvectors (Wavefunctions):\")\n",
    "print(eigenvectors)\n"
   ]
  },
  {
   "cell_type": "code",
   "execution_count": 27,
   "metadata": {},
   "outputs": [
    {
     "name": "stdout",
     "output_type": "stream",
     "text": [
      "Eigenvalues (Energy levels in MeV) for Deuteron:\n",
      "[  46.59721714+0.j -168.65846659+0.j   46.59721714+0.j   46.59721714+0.j\n",
      "   46.59721714+0.j   46.59721714+0.j   46.59721714+0.j   46.59721714+0.j]\n"
     ]
    }
   ],
   "source": [
    "import numpy as np\n",
    "from scipy.linalg import eigvals\n",
    "\n",
    "# 定义系统参数（氘核的参数）\n",
    "N = 3\n",
    "hbar_omega = 7.0  # MeV\n",
    "V0 = -5.68658111  # MeV\n",
    "\n",
    "# 构建哈密顿量矩阵\n",
    "def calculate_H_ij(N, hbar_omega, V0, i, j):\n",
    "    H_ij = 0\n",
    "    for n in range(N):\n",
    "        n_prime = n\n",
    "        delta_n = 0\n",
    "        if i == j:\n",
    "            delta_n = 1\n",
    "        if n_prime == n:\n",
    "            term1 = (2 * n + 1.5) * delta_n\n",
    "            term2 = np.sqrt(n * (n + 0.5)) * (1 - delta_n)\n",
    "            term3 = np.sqrt(n * (n + 1.5)) * (1 - delta_n)\n",
    "            H_ij += (hbar_omega / 2) * (term1 - term2 - term3)\n",
    "        H_ij += V0 * delta_n  # 添加势能项\n",
    "    return H_ij\n",
    "\n",
    "# 构建哈密顿量矩阵\n",
    "dimension = 2**N\n",
    "H = np.zeros((dimension, dimension), dtype=complex)\n",
    "for i in range(dimension):\n",
    "    for j in range(dimension):\n",
    "        H[i, j] = calculate_H_ij(N, hbar_omega, V0, i, j)\n",
    "\n",
    "# 计算哈密顿量的本征值\n",
    "eigenvalues = eigvals(H)\n",
    "\n",
    "# 输出结果\n",
    "print(\"Eigenvalues (Energy levels in MeV) for Deuteron:\")\n",
    "print(eigenvalues)\n"
   ]
  },
  {
   "cell_type": "code",
   "execution_count": 8,
   "metadata": {},
   "outputs": [
    {
     "name": "stdout",
     "output_type": "stream",
     "text": [
      "Eigenvalues:\n",
      "Eigenvalue 1: -0.43658110999999966\n",
      "Eigenvalue 2: 12.25\n",
      "\n",
      "Eigenvectors (columns represent eigenvectors):\n",
      "[[0.91659172 0.        ]\n",
      " [0.39982448 1.        ]]\n"
     ]
    }
   ],
   "source": [
    "import numpy as np\n",
    "\n",
    "# 定义哈密顿矩阵元素的函数\n",
    "def hamiltonian_element(n, n_prime):\n",
    "    # 在这里使用你提供的哈密顿矩阵元素表达式\n",
    "    # 根据你的具体表达式计算 H[n, n_prime] 的值\n",
    "    # 这里仅提供一个示例\n",
    "    h = (2 * n + 3/2) * (n == n_prime) - np.sqrt(n * (n + 1/2)) * (n + 1 == n_prime) - np.sqrt(n * (n + 3/2)) * (n - 1 == n_prime)\n",
    "    return h\n",
    "\n",
    "# 系统参数\n",
    "N = 2  # 设置系统的维度\n",
    "hbar_omega = 7.0  # ~ω = 7 MeV\n",
    "V0 = -5.68658111  # V0 = −5.68658111 MeV\n",
    "\n",
    "# 构建哈密顿矩阵\n",
    "H = np.zeros((N, N))\n",
    "for n in range(N):\n",
    "    for n_prime in range(N):\n",
    "        H[n, n_prime] = (hbar_omega / 2) * hamiltonian_element(n, n_prime) + V0 * (n == 0 and n_prime == 0)\n",
    "\n",
    "# 对角化哈密顿矩阵\n",
    "eigenvalues, eigenvectors = np.linalg.eig(H)\n",
    "\n",
    "# 对本征值从小到大排序\n",
    "sorted_indices = np.argsort(eigenvalues)\n",
    "sorted_eigenvalues = eigenvalues[sorted_indices]\n",
    "sorted_eigenvectors = eigenvectors[:, sorted_indices]\n",
    "\n",
    "# 打印本征值和本征态\n",
    "print(\"Eigenvalues:\")\n",
    "for i, eigenvalue in enumerate(sorted_eigenvalues):\n",
    "    print(f\"Eigenvalue {i + 1}: {eigenvalue}\")\n",
    "\n",
    "print(\"\\nEigenvectors (columns represent eigenvectors):\")\n",
    "print(sorted_eigenvectors)\n"
   ]
  },
  {
   "cell_type": "code",
   "execution_count": 26,
   "metadata": {},
   "outputs": [
    {
     "name": "stdout",
     "output_type": "stream",
     "text": [
      "Eigenvalues:\n",
      "Eigenvalue 1: -4.167382825033673\n",
      "Eigenvalue 2: 15.980801715033673\n",
      "\n",
      "Eigenvectors (columns represent eigenvectors):\n",
      "[[-0.90268038 -0.43031167]\n",
      " [-0.43031167  0.90268038]]\n"
     ]
    }
   ],
   "source": [
    "import numpy as np\n",
    "from scipy.linalg import eigh\n",
    "\n",
    "# 定义哈密顿矩阵元素的函数\n",
    "def hamiltonian_element(n, n_prime):\n",
    "    # 在这里使用你提供的哈密顿矩阵元素表达式\n",
    "    # 根据你的具体表达式计算 H[n, n_prime] 的值\n",
    "    # 这里仅提供一个示例\n",
    "    h = (2 * n + 3/2) * (n == n_prime) - np.sqrt(n * (n + 1/2)) * (n + 1 == n_prime) - np.sqrt((n +1)* (n + 3/2)) * (n - 1 == n_prime)\n",
    "    return h\n",
    "\n",
    "# 系统参数\n",
    "N = 2  # 设置系统的维度\n",
    "hbar_omega = 7.0  # ~ω = 7 MeV\n",
    "V0 = -5.68658111  # V0 = −5.68658111 MeV\n",
    "\n",
    "# 构建哈密顿矩阵\n",
    "H = np.zeros((N, N))\n",
    "for n in range(N):\n",
    "    for n_prime in range(N):\n",
    "        H[n, n_prime] = (hbar_omega / 2) * hamiltonian_element(n, n_prime) + V0 * (n == 0 and n_prime == 0)\n",
    "\n",
    "# 对角化哈密顿矩阵\n",
    "eigenvalues, eigenvectors = eigh(H)\n",
    "\n",
    "# 对本征值从小到大排序\n",
    "sorted_indices = np.argsort(eigenvalues)\n",
    "sorted_eigenvalues = eigenvalues[sorted_indices]\n",
    "sorted_eigenvectors = eigenvectors[:, sorted_indices]\n",
    "\n",
    "# 打印本征值和本征态\n",
    "print(\"Eigenvalues:\")\n",
    "for i, eigenvalue in enumerate(sorted_eigenvalues):\n",
    "    print(f\"Eigenvalue {i + 1}: {eigenvalue}\")\n",
    "\n",
    "print(\"\\nEigenvectors (columns represent eigenvectors):\")\n",
    "print(sorted_eigenvectors)\n"
   ]
  },
  {
   "cell_type": "code",
   "execution_count": 20,
   "metadata": {},
   "outputs": [
    {
     "name": "stdout",
     "output_type": "stream",
     "text": [
      "Eigenvalues:\n",
      "Eigenvalue 1: -4.167382825033673\n",
      "Eigenvalue 2: 15.980801715033675\n",
      "\n",
      "Eigenvectors (columns represent eigenvectors):\n",
      "[[-0.90268038 -0.43031167]\n",
      " [-0.43031167  0.90268038]]\n"
     ]
    }
   ],
   "source": [
    "import numpy as np\n",
    "from scipy.linalg import eigh\n",
    "from mpmath import mp\n",
    "\n",
    "# 设置更高的精度，例如，使用100位精度\n",
    "mp.dps = 100\n",
    "\n",
    "# 定义哈密顿矩阵元素的函数\n",
    "def hamiltonian_element(n, n_prime):\n",
    "    # 使用mpmath的高精度浮点数进行计算\n",
    "    n = mp.mpf(n)\n",
    "    n_prime = mp.mpf(n_prime)\n",
    "    \n",
    "    # 在这里使用你提供的哈密顿矩阵元素表达式\n",
    "    # 根据你的具体表达式计算 H[n, n_prime] 的值\n",
    "    # 这里仅提供一个示例\n",
    "    h = (2 * n + 3/2) * (n == n_prime) - mp.sqrt(n * (n + 1/2)) * (n + 1 == n_prime) - mp.sqrt((n+1) * (n + 3/2)) * (n - 1 == n_prime)\n",
    "    return h\n",
    "\n",
    "# 系统参数\n",
    "N = 2  # 设置系统的维度\n",
    "hbar_omega = mp.mpf('7.0')  # ~ω = 7 MeV\n",
    "V0 = mp.mpf('-5.68658111')  # V0 = −5.68658111 MeV\n",
    "\n",
    "# 构建哈密顿矩阵\n",
    "H = np.zeros((N, N))\n",
    "for n in range(N):\n",
    "    for n_prime in range(N):\n",
    "        H[n, n_prime] = (hbar_omega / 2) * hamiltonian_element(n, n_prime) + V0 * (n == 0 and n_prime == 0)\n",
    "\n",
    "# 对角化哈密顿矩阵\n",
    "eigenvalues, eigenvectors = eigh(H)\n",
    "\n",
    "# 对本征值从小到大排序\n",
    "sorted_indices = np.argsort(eigenvalues)\n",
    "sorted_eigenvalues = eigenvalues[sorted_indices]\n",
    "sorted_eigenvectors = eigenvectors[:, sorted_indices]\n",
    "\n",
    "# 打印本征值和本征态\n",
    "print(\"Eigenvalues:\")\n",
    "for i, eigenvalue in enumerate(sorted_eigenvalues):\n",
    "    print(f\"Eigenvalue {i + 1}: {eigenvalue}\")\n",
    "\n",
    "print(\"\\nEigenvectors (columns represent eigenvectors):\")\n",
    "print(sorted_eigenvectors)\n"
   ]
  },
  {
   "cell_type": "code",
   "execution_count": 23,
   "metadata": {},
   "outputs": [
    {
     "name": "stdout",
     "output_type": "stream",
     "text": [
      "Sorted Eigenvalues (Energy Levels):\n",
      "Energy Level 1: -0.43658110999999966 MeV\n",
      "Energy Level 2: 10.216014094705335 MeV\n",
      "Energy Level 3: 21.283985905294664 MeV\n",
      "\n",
      "Corresponding Quantum States (Eigenvectors):\n",
      "Energy Level 1 Eigenstate:\n",
      "[1. 0. 0.]\n",
      "Energy Level 2 Eigenstate:\n",
      "[-0.         -0.90345325 -0.42868664]\n",
      "Energy Level 3 Eigenstate:\n",
      "[ 0.         -0.42868664  0.90345325]\n"
     ]
    }
   ],
   "source": [
    "import numpy as np\n",
    "\n",
    "# 定义系统的参数\n",
    "N = 3  # 假设系统的维度是 10\n",
    "V0 = -5.68658111  # MeV\n",
    "hbar_omega = 7  # MeV\n",
    "Lambda = 152  # MeV\n",
    "\n",
    "# 创建哈密顿矩阵 H_N\n",
    "H_N = np.zeros((N, N), dtype=float)\n",
    "\n",
    "for n in range(N):\n",
    "    for n_prime in range(N):\n",
    "        H_N[n_prime, n] = (hbar_omega / 2) * ((2 * n + 1.5) * (n_prime == n) - np.sqrt(n * (n + 0.5)) * (n_prime == n + 1) - np.sqrt((n + 1) * (n + 1.5)) * (n_prime == n - 1)) + V0 * (n == 0) * (n_prime == n)\n",
    "\n",
    "# 计算哈密顿矩阵的本征值和本征矢量\n",
    "eigenvalues, eigenvectors = np.linalg.eigh(H_N)\n",
    "\n",
    "# 对本征值进行排序\n",
    "sorted_indices = np.argsort(eigenvalues)\n",
    "sorted_eigenvalues = eigenvalues[sorted_indices]\n",
    "sorted_eigenvectors = eigenvectors[:, sorted_indices]\n",
    "\n",
    "# 输出本征值\n",
    "print(\"Sorted Eigenvalues (Energy Levels):\")\n",
    "for i, eigenvalue in enumerate(sorted_eigenvalues):\n",
    "    print(f\"Energy Level {i + 1}: {eigenvalue} MeV\")\n",
    "\n",
    "# 输出本征矢量（量子态）\n",
    "print(\"\\nCorresponding Quantum States (Eigenvectors):\")\n",
    "for i, eigenvector in enumerate(sorted_eigenvectors.T):\n",
    "    print(f\"Energy Level {i + 1} Eigenstate:\")\n",
    "    print(eigenvector)\n"
   ]
  },
  {
   "cell_type": "markdown",
   "metadata": {},
   "source": [
    "对角化程序"
   ]
  },
  {
   "cell_type": "code",
   "execution_count": 166,
   "metadata": {},
   "outputs": [
    {
     "name": "stdout",
     "output_type": "stream",
     "text": [
      "Eigenvalues (in MeV):\n",
      "[-2.20156815  3.65379671 11.44995826 22.14853571 36.8893105  58.87338586]\n",
      "\n",
      "Eigenvectors:\n",
      "[[ 0.90040679+0.j -0.34539007-0.j  0.24506954+0.j  0.09780648+0.j\n",
      "  -0.01861815-0.j  0.0012228 +0.j]\n",
      " [ 0.37073758-0.j  0.32957905-0.j -0.67956514-0.j -0.51531914-0.j\n",
      "   0.16211865+0.j -0.01691885-0.j]\n",
      " [ 0.19141371-0.j  0.55118181-0.j -0.20369906-0.j  0.59819891+0.j\n",
      "  -0.50019986-0.j  0.10012121+0.j]\n",
      " [ 0.10621748-0.j  0.5305372 -0.j  0.3288493 -0.j  0.20272015-0.j\n",
      "   0.66609683+0.j -0.33812101-0.j]\n",
      " [ 0.05732105-0.j  0.38635037+0.j  0.48333743-0.j -0.40088925-0.j\n",
      "  -0.09521673-0.j  0.66637392+0.j]\n",
      " [ 0.02478305-0.j  0.19376694-0.j  0.30802907+0.j -0.40648553-0.j\n",
      "  -0.52001904-0.j -0.65674042-0.j]]\n"
     ]
    }
   ],
   "source": [
    "import numpy as np\n",
    "from scipy.linalg import eigh\n",
    "\n",
    "# 定义常数\n",
    "hbar_times_omega = 7.0  # hbar * omega = 7 MeV\n",
    "V0 = -5.68658111  # 势能常数 V0 = -5.68658111 MeV\n",
    "Lambda = 152.0  # 超紫外截断 Λ ≈ 152 MeV\n",
    "N = 6  # 假设基础维度为100（可以根据需要更改）\n",
    "\n",
    "# 构建哈密顿量矩阵\n",
    "H = np.zeros((N, N), dtype=complex)\n",
    "\n",
    "for n in range(N):\n",
    "    for n_prime in range(N):\n",
    "        T_element = (hbar_times_omega / 2) * (\n",
    "            (2 * n + 3/2) * (n_prime == n) -\n",
    "            np.sqrt(n * (n + 1/2)) * (n_prime + 1 == n ) -\n",
    "            np.sqrt((n + 1) * (n + 3/2)) * (n_prime-1 == n )\n",
    "        )\n",
    "        V_element = V0 * (n == 0) * (n_prime == n)\n",
    "        H[n, n_prime] = T_element + V_element\n",
    "\n",
    "# 对角化哈密顿量矩阵\n",
    "eigenvalues, eigenvectors = eigh(H)\n",
    "\n",
    "# 输出结果\n",
    "print(\"Eigenvalues (in MeV):\")\n",
    "print(eigenvalues)\n",
    "print(\"\\nEigenvectors:\")\n",
    "print(eigenvectors)\n"
   ]
  },
  {
   "cell_type": "code",
   "execution_count": 173,
   "metadata": {},
   "outputs": [
    {
     "name": "stdout",
     "output_type": "stream",
     "text": [
      "[-0.43658111 -1.74915988 -2.0456709  -2.14398103 -2.18359171 -2.20156815\n",
      " -2.21041583 -2.21503787 -2.21756649 -2.21900223]\n"
     ]
    },
    {
     "data": {
      "image/png": "[encoded data removed]",
      "text/plain": [
       "<Figure size 640x480 with 1 Axes>"
      ]
     },
     "metadata": {},
     "output_type": "display_data"
    }
   ],
   "source": [
    "import numpy as np\n",
    "from scipy.linalg import eigh\n",
    "import matplotlib.pyplot as plt\n",
    "\n",
    "# 定义常数\n",
    "hbar_times_omega = 7.0  # hbar * omega = 7 MeV\n",
    "V0 = -5.68658111  # 势能常数 V0 = -5.68658111 MeV\n",
    "Lambda = 152.0  # 超紫外截断 Λ ≈ 152 MeV\n",
    "N_max = 10  # 最大基础维度（可以根据需要更改）\n",
    "n_values = np.arange(1, N_max + 1)\n",
    "\n",
    "# 存储最小 eigenvalue\n",
    "min_eigenvalues = []\n",
    "\n",
    "for N in n_values:\n",
    "    # 构建哈密顿量矩阵\n",
    "    H = np.zeros((N, N), dtype=complex)\n",
    "\n",
    "    for n in range(N):\n",
    "        for n_prime in range(N):\n",
    "            T_element = (hbar_times_omega / 2) * (\n",
    "                (2 * n + 3/2) * (n_prime == n) -\n",
    "                np.sqrt(n * (n + 1/2)) * (n_prime + 1 == n ) -\n",
    "                np.sqrt((n + 1) * (n + 3/2)) * (n_prime-1 == n )\n",
    "            )\n",
    "            V_element = V0 * (n == 0) * (n_prime == n)\n",
    "            H[n, n_prime] = T_element + V_element\n",
    "\n",
    "    # 对角化哈密顿量矩阵\n",
    "    eigenvalues, eigenvectors = eigh(H)\n",
    "    \n",
    "    # 获取最小 eigenvalue 并添加到列表\n",
    "    min_eigenvalues.append(min(eigenvalues))\n",
    "    \n",
    "\n",
    "# 转换为 NumPy 数组\n",
    "min_eigenvalues = np.array(min_eigenvalues)\n",
    "print(min_eigenvalues)\n",
    "\n",
    "# 绘制最小 eigenvalue 与 n 的关系图像\n",
    "plt.plot(n_values, min_eigenvalues, marker='o')\n",
    "plt.xlabel('n')\n",
    "plt.ylabel('Minimum Eigenvalue (MeV)')\n",
    "plt.title('Minimum Eigenvalue vs. n')\n",
    "plt.grid(True)\n",
    "plt.show()\n"
   ]
  },
  {
   "cell_type": "code",
   "execution_count": 3,
   "metadata": {},
   "outputs": [
    {
     "name": "stdout",
     "output_type": "stream",
     "text": [
      "(-0.43658110999999966+0j)\n",
      "(-0.43658110999999966+0j)\n",
      "(-4.286607049870561+0j)\n",
      "(-4.286607049870561+0j)\n",
      "(12.25+0j)\n"
     ]
    }
   ],
   "source": [
    "import numpy as np\n",
    "from scipy.linalg import eigh\n",
    "import matplotlib.pyplot as plt\n",
    "\n",
    "# 定义常数\n",
    "hbar_times_omega = 7.0  # hbar * omega = 7 MeV\n",
    "V0 = -5.68658111  # 势能常数 V0 = -5.68658111 MeV\n",
    "Lambda = 152.0  # 超紫外截断 Λ ≈ 152 MeV\n",
    "N_max = 2  # 最大基础维度（可以根据需要更改）\n",
    "n_values = np.arange(1, N_max + 1)\n",
    "\n",
    "# 存储最小 eigenvalue\n",
    "min_eigenvalues = []\n",
    "\n",
    "for N in n_values:\n",
    "    # 构建哈密顿量矩阵\n",
    "    H = np.zeros((N, N), dtype=complex)\n",
    "\n",
    "    for n in range(N):\n",
    "        for n_prime in range(N):\n",
    "            T_element = (hbar_times_omega / 2) * (\n",
    "                (2 * n + 3/2) * (n_prime == n) -\n",
    "                np.sqrt(n * (n + 1/2)) * (n_prime + 1 == n ) -\n",
    "                np.sqrt((n + 1) * (n + 3/2)) * (n_prime-1 == n )\n",
    "            )\n",
    "            V_element = V0 * (n == 0) * (n_prime == n)\n",
    "            H[n, n_prime] = T_element + V_element\n",
    "            print(H[n, n_prime])\n",
    "\n"
   ]
  },
  {
   "cell_type": "markdown",
   "metadata": {},
   "source": [
    "外推公式的证明"
   ]
  },
  {
   "cell_type": "markdown",
   "metadata": {},
   "source": [
    "要复现外推公式对其进行的实验"
   ]
  },
  {
   "cell_type": "code",
   "execution_count": 14,
   "metadata": {},
   "outputs": [
    {
     "name": "stdout",
     "output_type": "stream",
     "text": [
      "-1.123891952932604e-53\n"
     ]
    }
   ],
   "source": [
    "hbar=6.5821220*10**-22\n",
    "L=9.14\n",
    "k = 100.0\n",
    "gamma = 0.006\n",
    "omega = 1.0\n",
    "E_N=-(hbar*k)**2/2*m*(1-2*gamma**2/k*np.exp(-2*k*L)-4*gamma**4*L/k*np.exp(-4*k*L))+((hbar*gamma)**2*k)/m*(1-gamma**2/k-gamma**4/(4*k**2)+2*omega2*k*gamma**4)*np.exp(-4*k*L)\n",
    "print(E_N)\n",
    "\n"
   ]
  },
  {
   "cell_type": "code",
   "execution_count": 90,
   "metadata": {},
   "outputs": [
    {
     "ename": "OverflowError",
     "evalue": "(34, 'Result too large')",
     "output_type": "error",
     "traceback": [
      "\u001b[1;31m---------------------------------------------------------------------------\u001b[0m",
      "\u001b[1;31mOverflowError\u001b[0m                             Traceback (most recent call last)",
      "\u001b[1;32md:\\zsy\\python\\python\\ipynb\\eig.ipynb 单元格 21\u001b[0m line \u001b[0;36m2\n\u001b[0;32m     <a href='vscode-notebook-cell:/d%3A/zsy/python/python/ipynb/eig.ipynb#X26sZmlsZQ%3D%3D?line=17'>18</a>\u001b[0m L \u001b[39m=\u001b[39m np\u001b[39m.\u001b[39msqrt((\u001b[39m4\u001b[39m \u001b[39m*\u001b[39m N \u001b[39m+\u001b[39m \u001b[39m7\u001b[39m) \u001b[39m*\u001b[39m hbar \u001b[39m/\u001b[39m (m \u001b[39m*\u001b[39m omega))\n\u001b[0;32m     <a href='vscode-notebook-cell:/d%3A/zsy/python/python/ipynb/eig.ipynb#X26sZmlsZQ%3D%3D?line=19'>20</a>\u001b[0m \u001b[39m# 计算能量值\u001b[39;00m\n\u001b[1;32m---> <a href='vscode-notebook-cell:/d%3A/zsy/python/python/ipynb/eig.ipynb#X26sZmlsZQ%3D%3D?line=20'>21</a>\u001b[0m E_N \u001b[39m=\u001b[39m \u001b[39m-\u001b[39m(hbar \u001b[39m*\u001b[39;49m k)\u001b[39m*\u001b[39;49m\u001b[39m*\u001b[39;49m\u001b[39m2\u001b[39;49m \u001b[39m/\u001b[39m (\u001b[39m2\u001b[39m \u001b[39m*\u001b[39m m) \u001b[39m*\u001b[39m (\u001b[39m1\u001b[39m \u001b[39m-\u001b[39m \u001b[39m2\u001b[39m \u001b[39m*\u001b[39m gamma\u001b[39m*\u001b[39m\u001b[39m*\u001b[39m\u001b[39m2\u001b[39m \u001b[39m/\u001b[39m k \u001b[39m*\u001b[39m np\u001b[39m.\u001b[39mexp(\u001b[39m-\u001b[39m\u001b[39m2\u001b[39m \u001b[39m*\u001b[39m k \u001b[39m*\u001b[39m L) \u001b[39m-\u001b[39m \u001b[39m4\u001b[39m \u001b[39m*\u001b[39m gamma\u001b[39m*\u001b[39m\u001b[39m*\u001b[39m\u001b[39m4\u001b[39m \u001b[39m*\u001b[39m L \u001b[39m/\u001b[39m k \u001b[39m*\u001b[39m np\u001b[39m.\u001b[39mexp(\u001b[39m-\u001b[39m\u001b[39m4\u001b[39m \u001b[39m*\u001b[39m k \u001b[39m*\u001b[39m L)) \u001b[39m+\u001b[39m ((hbar \u001b[39m*\u001b[39m gamma)\u001b[39m*\u001b[39m\u001b[39m*\u001b[39m\u001b[39m2\u001b[39m \u001b[39m*\u001b[39m k) \u001b[39m/\u001b[39m m \u001b[39m*\u001b[39m (\u001b[39m1\u001b[39m \u001b[39m-\u001b[39m gamma\u001b[39m*\u001b[39m\u001b[39m*\u001b[39m\u001b[39m2\u001b[39m \u001b[39m/\u001b[39m k \u001b[39m-\u001b[39m gamma\u001b[39m*\u001b[39m\u001b[39m*\u001b[39m\u001b[39m4\u001b[39m \u001b[39m/\u001b[39m (\u001b[39m4\u001b[39m \u001b[39m*\u001b[39m k\u001b[39m*\u001b[39m\u001b[39m*\u001b[39m\u001b[39m2\u001b[39m) ) \u001b[39m*\u001b[39m np\u001b[39m.\u001b[39mexp(\u001b[39m-\u001b[39m\u001b[39m4\u001b[39m \u001b[39m*\u001b[39m k \u001b[39m*\u001b[39m L    )\n\u001b[0;32m     <a href='vscode-notebook-cell:/d%3A/zsy/python/python/ipynb/eig.ipynb#X26sZmlsZQ%3D%3D?line=21'>22</a>\u001b[0m E_N_values\u001b[39m.\u001b[39mappend(E_N)\n\u001b[0;32m     <a href='vscode-notebook-cell:/d%3A/zsy/python/python/ipynb/eig.ipynb#X26sZmlsZQ%3D%3D?line=22'>23</a>\u001b[0m \u001b[39mprint\u001b[39m(E_N)\n",
      "\u001b[1;31mOverflowError\u001b[0m: (34, 'Result too large')"
     ]
    }
   ],
   "source": [
    "import numpy as np\n",
    "import matplotlib.pyplot as plt\n",
    "\n",
    "# 定义常数和参数\n",
    "hbar = 6.5821220 * 10**-22\n",
    "omega = 7 / hbar\n",
    "m = 55176584.58114082 / omega\n",
    "k = -54155407727747**14\n",
    "gamma = 8057451.122372734\n",
    "\n",
    "\n",
    "# 创建一个空的能量值数组，用于存储计算得到的能量值\n",
    "E_N_values = []\n",
    "\n",
    "# 计算不同 N 值下的能量值\n",
    "for N in N_values:\n",
    "    if N > 0:  # 仅在 N 为正整数时计算\n",
    "        L = np.sqrt((4 * N + 7) * hbar / (m * omega))\n",
    "    \n",
    "        # 计算能量值\n",
    "        E_N = -(hbar * k)**2 / (2 * m) * (1 - 2 * gamma**2 / k * np.exp(-2 * k * L) - 4 * gamma**4 * L / k * np.exp(-4 * k * L)) + ((hbar * gamma)**2 * k) / m * (1 - gamma**2 / k - gamma**4 / (4 * k**2) ) * np.exp(-4 * k * L    )\n",
    "        E_N_values.append(E_N)\n",
    "        print(E_N)\n",
    "\n",
    "# 创建图表\n",
    "plt.figure(figsize=(10, 6))\n",
    "plt.plot(N_values[N_values > 0], E_N_values, marker='o')\n",
    "plt.xlabel('N')\n",
    "plt.ylabel('Energy (E_N)')\n",
    "plt.title('Energy Function E_N vs. N')\n",
    "plt.grid(True)\n",
    "plt.show()\n",
    "\n",
    "\n"
   ]
  },
  {
   "cell_type": "code",
   "execution_count": 170,
   "metadata": {},
   "outputs": [
    {
     "name": "stdout",
     "output_type": "stream",
     "text": [
      "0.9999999999999465\n"
     ]
    },
    {
     "ename": "OverflowError",
     "evalue": "(34, 'Result too large')",
     "output_type": "error",
     "traceback": [
      "\u001b[1;31m---------------------------------------------------------------------------\u001b[0m",
      "\u001b[1;31mOverflowError\u001b[0m                             Traceback (most recent call last)",
      "\u001b[1;32md:\\zsy\\python\\python\\ipynb\\eig.ipynb 单元格 22\u001b[0m line \u001b[0;36m1\n\u001b[0;32m      <a href='vscode-notebook-cell:/d%3A/zsy/python/python/ipynb/eig.ipynb#X30sZmlsZQ%3D%3D?line=6'>7</a>\u001b[0m L \u001b[39m=\u001b[39m np\u001b[39m.\u001b[39msqrt((\u001b[39m4\u001b[39m \u001b[39m*\u001b[39m N \u001b[39m+\u001b[39m \u001b[39m7\u001b[39m) \u001b[39m*\u001b[39m hbar \u001b[39m/\u001b[39m (m \u001b[39m*\u001b[39m omega))\n\u001b[0;32m      <a href='vscode-notebook-cell:/d%3A/zsy/python/python/ipynb/eig.ipynb#X30sZmlsZQ%3D%3D?line=7'>8</a>\u001b[0m \u001b[39mprint\u001b[39m(np\u001b[39m.\u001b[39mexp(\u001b[39m-\u001b[39m\u001b[39m4\u001b[39m\u001b[39m*\u001b[39mL))\n\u001b[1;32m---> <a href='vscode-notebook-cell:/d%3A/zsy/python/python/ipynb/eig.ipynb#X30sZmlsZQ%3D%3D?line=9'>10</a>\u001b[0m E_N\u001b[39m=\u001b[39m\u001b[39m-\u001b[39m(hbar\u001b[39m*\u001b[39;49mk)\u001b[39m*\u001b[39;49m\u001b[39m*\u001b[39;49m\u001b[39m2\u001b[39;49m\u001b[39m/\u001b[39m\u001b[39m2\u001b[39m\u001b[39m*\u001b[39mm\u001b[39m*\u001b[39m(\u001b[39m1\u001b[39m\u001b[39m-\u001b[39m\u001b[39m2\u001b[39m\u001b[39m*\u001b[39mgamma\u001b[39m*\u001b[39m\u001b[39m*\u001b[39m\u001b[39m2\u001b[39m\u001b[39m/\u001b[39mk\u001b[39m*\u001b[39mnp\u001b[39m.\u001b[39mexp(\u001b[39m-\u001b[39m\u001b[39m2\u001b[39m\u001b[39m*\u001b[39mk\u001b[39m*\u001b[39mL)\u001b[39m-\u001b[39m\u001b[39m4\u001b[39m\u001b[39m*\u001b[39mgamma\u001b[39m*\u001b[39m\u001b[39m*\u001b[39m\u001b[39m4\u001b[39m\u001b[39m*\u001b[39mL\u001b[39m/\u001b[39mk\u001b[39m*\u001b[39mnp\u001b[39m.\u001b[39mexp(\u001b[39m-\u001b[39m\u001b[39m4\u001b[39m\u001b[39m*\u001b[39mk\u001b[39m*\u001b[39mL))\u001b[39m+\u001b[39m((hbar\u001b[39m*\u001b[39mgamma)\u001b[39m*\u001b[39m\u001b[39m*\u001b[39m\u001b[39m2\u001b[39m\u001b[39m*\u001b[39mk)\u001b[39m/\u001b[39mm\u001b[39m*\u001b[39m(\u001b[39m1\u001b[39m\u001b[39m-\u001b[39mgamma\u001b[39m*\u001b[39m\u001b[39m*\u001b[39m\u001b[39m2\u001b[39m\u001b[39m/\u001b[39mk\u001b[39m-\u001b[39mgamma\u001b[39m*\u001b[39m\u001b[39m*\u001b[39m\u001b[39m4\u001b[39m\u001b[39m/\u001b[39m(\u001b[39m4\u001b[39m\u001b[39m*\u001b[39mk\u001b[39m*\u001b[39m\u001b[39m*\u001b[39m\u001b[39m2\u001b[39m))\u001b[39m*\u001b[39mnp\u001b[39m.\u001b[39mexp(\u001b[39m-\u001b[39m\u001b[39m4\u001b[39m\u001b[39m*\u001b[39mk\u001b[39m*\u001b[39mL)\n\u001b[0;32m     <a href='vscode-notebook-cell:/d%3A/zsy/python/python/ipynb/eig.ipynb#X30sZmlsZQ%3D%3D?line=10'>11</a>\u001b[0m \u001b[39mprint\u001b[39m(E_N)\n",
      "\u001b[1;31mOverflowError\u001b[0m: (34, 'Result too large')"
     ]
    }
   ],
   "source": [
    "hbar=6.5821220*10**-22\n",
    "omega=7/hbar\n",
    "m=55176584.58114082/omega\n",
    "k = -54155407727747**14\n",
    "gamma = 8057451.122372734\n",
    "N=2\n",
    "L = np.sqrt((4 * N + 7) * hbar / (m * omega))\n",
    "print(np.exp(-4*L))\n",
    "\n",
    "E_N=-(hbar*k)**2/2*m*(1-2*gamma**2/k*np.exp(-2*k*L)-4*gamma**4*L/k*np.exp(-4*k*L))+((hbar*gamma)**2*k)/m*(1-gamma**2/k-gamma**4/(4*k**2))*np.exp(-4*k*L)\n",
    "print(E_N)"
   ]
  },
  {
   "cell_type": "markdown",
   "metadata": {},
   "source": [
    "寻找正确的单位制和常量输出相近的L(N)\n",
    "\n",
    "$2023.9.27$\n",
    "一般情况下使用natural units"
   ]
  },
  {
   "cell_type": "code",
   "execution_count": 43,
   "metadata": {},
   "outputs": [
    {
     "name": "stdout",
     "output_type": "stream",
     "text": [
      "7000000\n",
      "9.14e-15\n",
      "4.639593908629442e-08\n",
      "1.145e-14\n",
      "5.812182741116752e-08\n",
      "1.338e-14\n",
      "6.791878172588834e-08\n",
      "N = 1, m = 464558125.7272 MeV\n",
      "N = 2, m = 465174740.5928294 MeV\n",
      "N = 3, m = 464529655.49468577 MeV\n",
      "464754173.9382384\n"
     ]
    }
   ],
   "source": [
    "import numpy as np\n",
    "\n",
    "hbar = 1  # 普朗克常数\n",
    "omega = 7*(10**6)  # 角频率\n",
    "print(omega)\n",
    "\n",
    "# 存储不同 N 对应的 L 值（已转换为国际单位制）\n",
    "L = np.array([9.14e-15, 11.45e-15, 13.38e-15])\n",
    "for i in range(3):\n",
    "    print(L[i])\n",
    "    L[i]=L[i]/(1.97*10**-7)\n",
    "    print(L[i])\n",
    "aver=0\n",
    "# 计算并使用 momega 值\n",
    "for N in range(3):\n",
    "    m = (4 * N + 7) * hbar / L[N]**2/omega\n",
    "    print(f\"N = {N+1}, m = {m} MeV\")\n",
    "    aver+=m\n",
    "print(aver/3)\n",
    "    \n"
   ]
  },
  {
   "cell_type": "code",
   "execution_count": 55,
   "metadata": {},
   "outputs": [
    {
     "name": "stdout",
     "output_type": "stream",
     "text": [
      "0.02306665455923916\n",
      "0.02891558175622854\n",
      "0.03376612480056017\n",
      "0.03800251965058202\n",
      "0.04181186213909565\n",
      "0.04530201023447644\n",
      "0.0485418628302466\n",
      "0.05157860760796422\n",
      "0.05444624026066641\n",
      "0.05717021422268837\n",
      "0.05977017408385179\n"
     ]
    }
   ],
   "source": [
    "hbar=1\n",
    "omega=7/hbar\n",
    "m=1879.45\n",
    "for N in range(0,11):\n",
    "    L = np.sqrt((4 * N + 7) * hbar / (m * omega))\n",
    "    e=-(hbar * k)**2 / (2 * m) * (1 - 2 * gamma**2 / k * np.exp(-2 * k * L) - 4 * gamma**4 * L / k * np.exp(-4 * k * L)) + ((hbar * gamma)**2 * k) / m * (1 - gamma**2 / k - gamma**4 / (4 * k**2)+2*omega2*k*gamma**4 ) * np.exp(-4 * k * L)\n",
    "    \n",
    "    print(L)\n"
   ]
  },
  {
   "cell_type": "code",
   "execution_count": 56,
   "metadata": {},
   "outputs": [
    {
     "name": "stdout",
     "output_type": "stream",
     "text": [
      "4.638615240679897e-08\n",
      "5.814811934825777e-08\n",
      "6.790237427639535e-08\n",
      "7.642160087962122e-08\n",
      "8.40820416595397e-08\n",
      "9.110059482939186e-08\n",
      "9.761581340593063e-08\n",
      "1.0372258999626798e-07\n",
      "1.0948928862754729e-07\n",
      "1.1496709517422282e-07\n",
      "1.201955141485374e-07\n"
     ]
    }
   ],
   "source": [
    "hbar = 6.5821220 * 10**-22\n",
    "omega = 7 / hbar\n",
    "m = 55176584.58114082 / omega\n",
    "for N in range(0,11):\n",
    "    L = np.sqrt((4 * N + 7) * hbar / (m * omega))\n",
    "    e=-(hbar * k)**2 / (2 * m) * (1 - 2 * gamma**2 / k * np.exp(-2 * k * L) - 4 * gamma**4 * L / k * np.exp(-4 * k * L)) + ((hbar * gamma)**2 * k) / m * (1 - gamma**2 / k - gamma**4 / (4 * k**2)+2*omega2*k*gamma**4 ) * np.exp(-4 * k * L)\n",
    "    \n",
    "    print(L/(1.97*10**-7))\n"
   ]
  },
  {
   "cell_type": "code",
   "execution_count": 171,
   "metadata": {},
   "outputs": [
    {
     "data": {
      "image/png": "[encoded data removed]",
      "text/plain": [
       "<Figure size 640x480 with 1 Axes>"
      ]
     },
     "metadata": {},
     "output_type": "display_data"
    }
   ],
   "source": [
    "import numpy as np\n",
    "import matplotlib.pyplot as plt\n",
    "\n",
    "# 定义常数和参数\n",
    "hbar = 6.5821220 * 10**-22\n",
    "omega = 7 / hbar\n",
    "m = 55176584.58114082 / omega\n",
    "k = 2.3045e+14\n",
    "gamma = 80600891.0\n",
    "omega2 = 2.2095e-44\n",
    "\n",
    "# 初始化空列表来存储计算的能量值\n",
    "E_N_values = []\n",
    "\n",
    "# 循环计算能量值，从N=1开始\n",
    "for N in range(1, 11):\n",
    "    L = np.sqrt((4 * N + 7) * hbar / (m * omega))\n",
    "    e = -(hbar * k)**2 / (2 * m) * (1 - 2 * gamma**2 / k * np.exp(-2 * k * L) - 4 * gamma**4 * L / k * np.exp(-4 * k * L)) + ((hbar * gamma)**2 * k) / m * (1 - gamma**2 / k - gamma**4 / (4 * k**2) + 2 * omega2 * k * gamma**4) * np.exp(-4 * k * L)\n",
    "    E_N_values.append(e)\n",
    "\n",
    "# 将结果转换为NumPy数组\n",
    "E_N_values = np.array(E_N_values)\n",
    "\n",
    "# 绘制E_N关于N的图像\n",
    "N_values = np.arange(1, 11)\n",
    "plt.plot(N_values, E_N_values, marker='o')\n",
    "plt.xlabel('N')\n",
    "plt.ylabel('Energy (E_N)')\n",
    "plt.title('Energy Function E_N vs. N')\n",
    "plt.grid(True)\n",
    "plt.show()\n"
   ]
  },
  {
   "cell_type": "markdown",
   "metadata": {},
   "source": [
    "拟合曲线寻找k,$\\omega$,和$\\gamma$的取值"
   ]
  },
  {
   "cell_type": "code",
   "execution_count": 62,
   "metadata": {},
   "outputs": [
    {
     "name": "stdout",
     "output_type": "stream",
     "text": [
      "E_N when N=1: -0.43599999999999905\n",
      "E_N when N=2: -1.749000000000004\n"
     ]
    }
   ],
   "source": [
    "import numpy as np\n",
    "\n",
    "hbar = 6.5821220 * 10**-22\n",
    "omega = 7 / hbar\n",
    "m = 55176584.58114082 / omega\n",
    "k = -26743129849360.53\n",
    "gamma = 13834391.498240285\n",
    "\n",
    "def model_function(N):\n",
    "    L = np.sqrt((4 * N + 7) * hbar / (m * omega))\n",
    "    \n",
    "    E_N = -(hbar * k)**2 / (2 * m) * (1 - 2 * gamma**2 / k * np.exp(-2 * k * L) - 4 * gamma**4 * L / k * np.exp(-4 * k * L)) + ((hbar * gamma)**2 * k) / m * (1 - gamma**2 / k - gamma**4 / (4 * k**2)) * np.exp(-4 * k * L)\n",
    "    return E_N\n",
    "\n",
    "# 获取N=1和N=2时的E_N值\n",
    "E_N_N1 = model_function(N=1)\n",
    "E_N_N2 = model_function(N=2)\n",
    "\n",
    "print(\"E_N when N=1:\", E_N_N1)\n",
    "print(\"E_N when N=2:\", E_N_N2)\n"
   ]
  },
  {
   "cell_type": "code",
   "execution_count": 16,
   "metadata": {},
   "outputs": [
    {
     "name": "stdout",
     "output_type": "stream",
     "text": [
      "[[Model]]\n",
      "    Model(model_function)\n",
      "[[Fit Statistics]]\n",
      "    # fitting method   = leastsq\n",
      "    # function evals   = 17\n",
      "    # data points      = 6\n",
      "    # variables        = 3\n",
      "    chi-square         = 3.5699e-05\n",
      "    reduced chi-square = 1.1900e-05\n",
      "    Akaike info crit   = -66.1928117\n",
      "    Bayesian info crit = -66.8175333\n",
      "    R-squared          = 0.99998480\n",
      "[[Variables]]\n",
      "    k:       2.3045e+14 +/- 1.2870e+11 (0.06%) (init = 2.3045e+14)\n",
      "    gamma:   80600891.0 +/- 1105023.11 (1.37%) (init = 8.060089e+07)\n",
      "    omega2:  2.2095e-44 +/- 1.4948e-45 (6.77%) (init = 2.2095e-44)\n",
      "[[Correlations]] (unreported correlations are < 0.100)\n",
      "    C(gamma, omega2) = -0.9978\n",
      "    C(k, gamma)      = +0.8208\n",
      "    C(k, omega2)     = -0.7873\n"
     ]
    },
    {
     "data": {
      "image/png": "[encoded data removed]",
      "text/plain": [
       "<Figure size 640x480 with 1 Axes>"
      ]
     },
     "metadata": {},
     "output_type": "display_data"
    }
   ],
   "source": [
    "import numpy as np\n",
    "import matplotlib.pyplot as plt\n",
    "from lmfit import Model\n",
    "\n",
    "# 定义常数和参数\n",
    "hbar = 1\n",
    "omega = 7 / hbar\n",
    "m = 8.38279578852243e+28/omega\n",
    "k = -26743129849360.53\n",
    "gamma = 13834391.498240285\n",
    "N_values = np.array([ 1,2,3,4,5,6])  # 数据点对应的 N 值\n",
    "E_N_values = np.array([-0.436, -1.749, -2.045, -2.143, -2.183,-2.201])  # 数据点对应的能量值\n",
    "\n",
    "# 定义模型函数，这里的函数形式应该与您的能量函数匹配\n",
    "def model_function(N, k, gamma, omega2):\n",
    "    L = np.sqrt((4 * N + 7) * hbar / (m * omega))\n",
    "    \n",
    "    # 计算模型的能量值\n",
    "    E_N =-(hbar * k)**2 / (2 * m) * (1 - 2 * gamma**2 / k * np.exp(-2 * k * L) - 4 * gamma**4 * L / k * np.exp(-4 * k * L)) + ((hbar * gamma)**2 * k) / m * (1 - gamma**2 / k - gamma**4 / (4 * k**2) + 2 * omega2 * k * gamma**4) * np.exp(-4 * k * L)\n",
    "    return E_N\n",
    "\n",
    "# 创建模型对象\n",
    "model = Model(model_function)\n",
    "\n",
    "# 设置参数的初始值\n",
    "params = model.make_params(k=2.3045e+14, gamma=80600891.0, omega2=2.2095e-44)\n",
    "\n",
    "# 进行拟合\n",
    "result = model.fit(E_N_values, N=N_values, params=params)\n",
    "\n",
    "# 打印拟合结果\n",
    "print(result.fit_report())\n",
    "\n",
    "# 绘制拟合结果与实际数据点的比较\n",
    "N_fit = np.linspace(1, 6, 100)  # 仅包含两个 N 值\n",
    "E_N_fit = result.eval(N=N_fit)\n",
    "\n",
    "plt.scatter(N_values, E_N_values, label='exact diagonalization')\n",
    "plt.plot(N_fit, E_N_fit, 'r', label='extrapolation')\n",
    "plt.legend()\n",
    "plt.xlabel('N')\n",
    "plt.ylabel('Energy (E_N)')\n",
    "plt.title('Energy Function E_N vs. N (extrapolation)')\n",
    "plt.grid(True)\n",
    "plt.show()\n"
   ]
  },
  {
   "cell_type": "code",
   "execution_count": 45,
   "metadata": {},
   "outputs": [
    {
     "ename": "ValueError",
     "evalue": "The truth value of an array with more than one element is ambiguous. Use a.any() or a.all()",
     "output_type": "error",
     "traceback": [
      "\u001b[1;31m---------------------------------------------------------------------------\u001b[0m",
      "\u001b[1;31mValueError\u001b[0m                                Traceback (most recent call last)",
      "\u001b[1;32md:\\zsy\\python\\python\\ipynb\\eig.ipynb 单元格 31\u001b[0m line \u001b[0;36m3\n\u001b[0;32m     <a href='vscode-notebook-cell:/d%3A/zsy/python/python/ipynb/eig.ipynb#X60sZmlsZQ%3D%3D?line=31'>32</a>\u001b[0m params \u001b[39m=\u001b[39m model\u001b[39m.\u001b[39mmake_params(k\u001b[39m=\u001b[39m\u001b[39m2.3045e+14\u001b[39m, gamma\u001b[39m=\u001b[39m\u001b[39m80600891.0\u001b[39m, omega2\u001b[39m=\u001b[39m\u001b[39m2.2095e-44\u001b[39m)\n\u001b[0;32m     <a href='vscode-notebook-cell:/d%3A/zsy/python/python/ipynb/eig.ipynb#X60sZmlsZQ%3D%3D?line=33'>34</a>\u001b[0m \u001b[39m# 进行拟合\u001b[39;00m\n\u001b[1;32m---> <a href='vscode-notebook-cell:/d%3A/zsy/python/python/ipynb/eig.ipynb#X60sZmlsZQ%3D%3D?line=34'>35</a>\u001b[0m result \u001b[39m=\u001b[39m model\u001b[39m.\u001b[39;49mfit(E_N_values, N\u001b[39m=\u001b[39;49mN_values, params\u001b[39m=\u001b[39;49mparams)\n\u001b[0;32m     <a href='vscode-notebook-cell:/d%3A/zsy/python/python/ipynb/eig.ipynb#X60sZmlsZQ%3D%3D?line=36'>37</a>\u001b[0m \u001b[39m# 打印拟合结果\u001b[39;00m\n\u001b[0;32m     <a href='vscode-notebook-cell:/d%3A/zsy/python/python/ipynb/eig.ipynb#X60sZmlsZQ%3D%3D?line=37'>38</a>\u001b[0m \u001b[39mprint\u001b[39m(result\u001b[39m.\u001b[39mfit_report())\n",
      "File \u001b[1;32md:\\zsy\\anaconda\\envs\\qiskit\\lib\\site-packages\\lmfit\\model.py:1103\u001b[0m, in \u001b[0;36mModel.fit\u001b[1;34m(self, data, params, weights, method, iter_cb, scale_covar, verbose, fit_kws, nan_policy, calc_covar, max_nfev, coerce_farray, **kwargs)\u001b[0m\n\u001b[0;32m   1097\u001b[0m     fit_kws \u001b[39m=\u001b[39m {}\n\u001b[0;32m   1099\u001b[0m output \u001b[39m=\u001b[39m ModelResult(\u001b[39mself\u001b[39m, params, method\u001b[39m=\u001b[39mmethod, iter_cb\u001b[39m=\u001b[39miter_cb,\n\u001b[0;32m   1100\u001b[0m                      scale_covar\u001b[39m=\u001b[39mscale_covar, fcn_kws\u001b[39m=\u001b[39mkwargs,\n\u001b[0;32m   1101\u001b[0m                      nan_policy\u001b[39m=\u001b[39m\u001b[39mself\u001b[39m\u001b[39m.\u001b[39mnan_policy, calc_covar\u001b[39m=\u001b[39mcalc_covar,\n\u001b[0;32m   1102\u001b[0m                      max_nfev\u001b[39m=\u001b[39mmax_nfev, \u001b[39m*\u001b[39m\u001b[39m*\u001b[39mfit_kws)\n\u001b[1;32m-> 1103\u001b[0m output\u001b[39m.\u001b[39;49mfit(data\u001b[39m=\u001b[39;49mdata, weights\u001b[39m=\u001b[39;49mweights)\n\u001b[0;32m   1104\u001b[0m output\u001b[39m.\u001b[39mcomponents \u001b[39m=\u001b[39m \u001b[39mself\u001b[39m\u001b[39m.\u001b[39mcomponents\n\u001b[0;32m   1105\u001b[0m \u001b[39mreturn\u001b[39;00m output\n",
      "File \u001b[1;32md:\\zsy\\anaconda\\envs\\qiskit\\lib\\site-packages\\lmfit\\model.py:1466\u001b[0m, in \u001b[0;36mModelResult.fit\u001b[1;34m(self, data, params, weights, method, nan_policy, **kwargs)\u001b[0m\n\u001b[0;32m   1464\u001b[0m \u001b[39mself\u001b[39m\u001b[39m.\u001b[39muserargs \u001b[39m=\u001b[39m (\u001b[39mself\u001b[39m\u001b[39m.\u001b[39mdata, \u001b[39mself\u001b[39m\u001b[39m.\u001b[39mweights)\n\u001b[0;32m   1465\u001b[0m \u001b[39mself\u001b[39m\u001b[39m.\u001b[39muserkws\u001b[39m.\u001b[39mupdate(kwargs)\n\u001b[1;32m-> 1466\u001b[0m \u001b[39mself\u001b[39m\u001b[39m.\u001b[39minit_fit \u001b[39m=\u001b[39m \u001b[39mself\u001b[39m\u001b[39m.\u001b[39mmodel\u001b[39m.\u001b[39meval(params\u001b[39m=\u001b[39m\u001b[39mself\u001b[39m\u001b[39m.\u001b[39mparams, \u001b[39m*\u001b[39m\u001b[39m*\u001b[39m\u001b[39mself\u001b[39m\u001b[39m.\u001b[39muserkws)\n\u001b[0;32m   1467\u001b[0m _ret \u001b[39m=\u001b[39m \u001b[39mself\u001b[39m\u001b[39m.\u001b[39mminimize(method\u001b[39m=\u001b[39m\u001b[39mself\u001b[39m\u001b[39m.\u001b[39mmethod)\n\u001b[0;32m   1468\u001b[0m \u001b[39mself\u001b[39m\u001b[39m.\u001b[39mmodel\u001b[39m.\u001b[39mpost_fit(_ret)\n",
      "File \u001b[1;32md:\\zsy\\anaconda\\envs\\qiskit\\lib\\site-packages\\lmfit\\model.py:930\u001b[0m, in \u001b[0;36mModel.eval\u001b[1;34m(self, params, **kwargs)\u001b[0m\n\u001b[0;32m    897\u001b[0m \u001b[39mdef\u001b[39;00m \u001b[39meval\u001b[39m(\u001b[39mself\u001b[39m, params\u001b[39m=\u001b[39m\u001b[39mNone\u001b[39;00m, \u001b[39m*\u001b[39m\u001b[39m*\u001b[39mkwargs):\n\u001b[0;32m    898\u001b[0m \u001b[39m    \u001b[39m\u001b[39m\"\"\"Evaluate the model with supplied parameters and keyword arguments.\u001b[39;00m\n\u001b[0;32m    899\u001b[0m \n\u001b[0;32m    900\u001b[0m \u001b[39m    Parameters\u001b[39;00m\n\u001b[1;32m   (...)\u001b[0m\n\u001b[0;32m    928\u001b[0m \n\u001b[0;32m    929\u001b[0m \u001b[39m    \"\"\"\u001b[39;00m\n\u001b[1;32m--> 930\u001b[0m     \u001b[39mreturn\u001b[39;00m coerce_arraylike(\u001b[39mself\u001b[39m\u001b[39m.\u001b[39mfunc(\u001b[39m*\u001b[39m\u001b[39m*\u001b[39m\u001b[39mself\u001b[39m\u001b[39m.\u001b[39mmake_funcargs(params, kwargs)))\n",
      "\u001b[1;32md:\\zsy\\python\\python\\ipynb\\eig.ipynb 单元格 31\u001b[0m line \u001b[0;36m1\n\u001b[0;32m     <a href='vscode-notebook-cell:/d%3A/zsy/python/python/ipynb/eig.ipynb#X60sZmlsZQ%3D%3D?line=14'>15</a>\u001b[0m \u001b[39mdef\u001b[39;00m \u001b[39mmodel_function\u001b[39m(N, k, gamma, omega2):\n\u001b[1;32m---> <a href='vscode-notebook-cell:/d%3A/zsy/python/python/ipynb/eig.ipynb#X60sZmlsZQ%3D%3D?line=15'>16</a>\u001b[0m     \u001b[39mif\u001b[39;00m N\u001b[39m>\u001b[39;49m\u001b[39m3\u001b[39;49m:\n\u001b[0;32m     <a href='vscode-notebook-cell:/d%3A/zsy/python/python/ipynb/eig.ipynb#X60sZmlsZQ%3D%3D?line=16'>17</a>\u001b[0m         L \u001b[39m=\u001b[39m np\u001b[39m.\u001b[39msqrt((\u001b[39m4\u001b[39m \u001b[39m*\u001b[39m N \u001b[39m+\u001b[39m \u001b[39m7\u001b[39m) \u001b[39m*\u001b[39m hbar \u001b[39m/\u001b[39m (m \u001b[39m*\u001b[39m omega))\n\u001b[0;32m     <a href='vscode-notebook-cell:/d%3A/zsy/python/python/ipynb/eig.ipynb#X60sZmlsZQ%3D%3D?line=17'>18</a>\u001b[0m         E_N \u001b[39m=\u001b[39m\u001b[39m-\u001b[39m(hbar \u001b[39m*\u001b[39m k)\u001b[39m*\u001b[39m\u001b[39m*\u001b[39m\u001b[39m2\u001b[39m \u001b[39m/\u001b[39m (\u001b[39m2\u001b[39m \u001b[39m*\u001b[39m m) \u001b[39m*\u001b[39m (\u001b[39m1\u001b[39m \u001b[39m-\u001b[39m \u001b[39m2\u001b[39m \u001b[39m*\u001b[39m gamma\u001b[39m*\u001b[39m\u001b[39m*\u001b[39m\u001b[39m2\u001b[39m \u001b[39m/\u001b[39m k \u001b[39m*\u001b[39m np\u001b[39m.\u001b[39mexp(\u001b[39m-\u001b[39m\u001b[39m2\u001b[39m \u001b[39m*\u001b[39m k \u001b[39m*\u001b[39m L) \u001b[39m-\u001b[39m \u001b[39m4\u001b[39m \u001b[39m*\u001b[39m gamma\u001b[39m*\u001b[39m\u001b[39m*\u001b[39m\u001b[39m4\u001b[39m \u001b[39m*\u001b[39m L \u001b[39m/\u001b[39m k \u001b[39m*\u001b[39m np\u001b[39m.\u001b[39mexp(\u001b[39m-\u001b[39m\u001b[39m4\u001b[39m \u001b[39m*\u001b[39m k \u001b[39m*\u001b[39m L)) \u001b[39m+\u001b[39m ((hbar \u001b[39m*\u001b[39m gamma)\u001b[39m*\u001b[39m\u001b[39m*\u001b[39m\u001b[39m2\u001b[39m \u001b[39m*\u001b[39m k) \u001b[39m/\u001b[39m m \u001b[39m*\u001b[39m (\u001b[39m1\u001b[39m \u001b[39m-\u001b[39m gamma\u001b[39m*\u001b[39m\u001b[39m*\u001b[39m\u001b[39m2\u001b[39m \u001b[39m/\u001b[39m k \u001b[39m-\u001b[39m gamma\u001b[39m*\u001b[39m\u001b[39m*\u001b[39m\u001b[39m4\u001b[39m \u001b[39m/\u001b[39m (\u001b[39m4\u001b[39m \u001b[39m*\u001b[39m k\u001b[39m*\u001b[39m\u001b[39m*\u001b[39m\u001b[39m2\u001b[39m) \u001b[39m+\u001b[39m \u001b[39m2\u001b[39m \u001b[39m*\u001b[39m omega2 \u001b[39m*\u001b[39m k \u001b[39m*\u001b[39m gamma\u001b[39m*\u001b[39m\u001b[39m*\u001b[39m\u001b[39m4\u001b[39m) \u001b[39m*\u001b[39m np\u001b[39m.\u001b[39mexp(\u001b[39m-\u001b[39m\u001b[39m4\u001b[39m \u001b[39m*\u001b[39m k \u001b[39m*\u001b[39m L)\n",
      "\u001b[1;31mValueError\u001b[0m: The truth value of an array with more than one element is ambiguous. Use a.any() or a.all()"
     ]
    }
   ],
   "source": [
    "import numpy as np\n",
    "import matplotlib.pyplot as plt\n",
    "from lmfit import Model\n",
    "\n",
    "# 定义常数和参数\n",
    "hbar = 1\n",
    "omega = 7 / hbar\n",
    "m = 1879.45\n",
    "k = -26743129849360.53\n",
    "gamma = 13834391.498240285\n",
    "N_values = np.array([ 1,2,3,4,5,6])  # 数据点对应的 N 值\n",
    "E_N_values = np.array([-0.436, -1.749, -2.045, -2.143, -2.183,-2.201])  # 数据点对应的能量值\n",
    "\n",
    "# 定义模型函数，这里的函数形式应该与您的能量函数匹配\n",
    "def model_function(N, k, gamma, omega2):\n",
    "    if N>3:\n",
    "        L = np.sqrt((4 * N + 7) * hbar / (m * omega))\n",
    "        E_N =-(hbar * k)**2 / (2 * m) * (1 - 2 * gamma**2 / k * np.exp(-2 * k * L) - 4 * gamma**4 * L / k * np.exp(-4 * k * L)) + ((hbar * gamma)**2 * k) / m * (1 - gamma**2 / k - gamma**4 / (4 * k**2) + 2 * omega2 * k * gamma**4) * np.exp(-4 * k * L)\n",
    "    else: \n",
    "        L=np.array([4.639593908629442e-08,5.812182741116752e-08,6.791878172588834e-08])\n",
    "        E_N =-(hbar * k)**2 / (2 * m) * (1 - 2 * gamma**2 / k * np.exp(-2 * k * L) - 4 * gamma**4 * L / k * np.exp(-4 * k * L)) + ((hbar * gamma)**2 * k) / m * (1 - gamma**2 / k - gamma**4 / (4 * k**2) + 2 * omega2 * k * gamma**4) * np.exp(-4 * k * L)\n",
    "\n",
    "    \n",
    "    # 计算模型的能量值\n",
    "    \n",
    "    return E_N\n",
    "\n",
    "# 创建模型对象\n",
    "model = Model(model_function)\n",
    "\n",
    "# 设置参数的初始值\n",
    "params = model.make_params(k=2.3045e+14, gamma=80600891.0, omega2=2.2095e-44)\n",
    "\n",
    "# 进行拟合\n",
    "result = model.fit(E_N_values, N=N_values, params=params)\n",
    "\n",
    "# 打印拟合结果\n",
    "print(result.fit_report())\n",
    "\n",
    "# 绘制拟合结果与实际数据点的比较\n",
    "N_fit = np.linspace(1, 6, 100)  # 仅包含两个 N 值\n",
    "E_N_fit = result.eval(N=N_fit)\n",
    "\n",
    "plt.scatter(N_values, E_N_values, label='exact diagonalization')\n",
    "plt.plot(N_fit, E_N_fit, 'r', label='extrapolation')\n",
    "plt.legend()\n",
    "plt.xlabel('N')\n",
    "plt.ylabel('Energy (E_N)')\n",
    "plt.title('Energy Function E_N vs. N (extrapolation)')\n",
    "plt.grid(True)\n",
    "plt.show()\n"
   ]
  },
  {
   "cell_type": "code",
   "execution_count": 183,
   "metadata": {},
   "outputs": [
    {
     "data": {
      "text/plain": [
       "Text(0.5, 1.0, 'Energy Function E_N vs. N')"
      ]
     },
     "execution_count": 183,
     "metadata": {},
     "output_type": "execute_result"
    },
    {
     "data": {
      "image/png": "[encoded data removed]",
      "text/plain": [
       "<Figure size 640x480 with 1 Axes>"
      ]
     },
     "metadata": {},
     "output_type": "display_data"
    }
   ],
   "source": [
    "import numpy as np\n",
    "import matplotlib.pyplot as plt\n",
    "\n",
    "# 定义常数和参数\n",
    "hbar = 6.5821220 * 10**-22\n",
    "omega = 7 / hbar\n",
    "m = 55176584.58114082 / omega\n",
    "k = 2.3045e+14\n",
    "gamma = 80600891.0\n",
    "omega2 = 2.2095e-44\n",
    "\n",
    "# 初始化空列表来存储计算的能量值\n",
    "E_N_values = []\n",
    "\n",
    "# 循环计算能量值，从N=1开始\n",
    "for N in range(1, 11):\n",
    "    L = np.sqrt((4 * N + 7) * hbar / (m * omega))\n",
    "    e = -(hbar * k)**2 / (2 * m) * (1 - 2 * gamma**2 / k * np.exp(-2 * k * L) - 4 * gamma**4 * L / k * np.exp(-4 * k * L)) + ((hbar * gamma)**2 * k) / m * (1 - gamma**2 / k - gamma**4 / (4 * k**2) + 2 * omega2 * k * gamma**4) * np.exp(-4 * k * L)\n",
    "    E_N_values.append(e)\n",
    "\n",
    "# 将结果转换为NumPy数组\n",
    "E_N_values = np.array(E_N_values)\n",
    "\n"
   ]
  },
  {
   "cell_type": "code",
   "execution_count": 193,
   "metadata": {},
   "outputs": [
    {
     "name": "stdout",
     "output_type": "stream",
     "text": [
      "[-0.43658111 -1.74915988 -2.0456709  -2.14398103 -2.18359171 -2.20156815\n",
      " -2.21041583 -2.21503787 -2.21756649 -2.21900223]\n"
     ]
    },
    {
     "name": "stderr",
     "output_type": "stream",
     "text": [
      "D:\\tmp\\TEMP\\ipykernel_45552\\3458210563.py:43: UserWarning: marker is redundantly defined by the 'marker' keyword argument and the fmt string \"x--\" (-> marker='x'). The keyword argument will take precedence.\n",
      "  plt.plot(n_values, min_eigenvalues, 'x--',marker='o',label='exact diagonalization')\n"
     ]
    },
    {
     "data": {
      "image/png": "[encoded data removed]",
      "text/plain": [
       "<Figure size 640x480 with 1 Axes>"
      ]
     },
     "metadata": {},
     "output_type": "display_data"
    }
   ],
   "source": [
    "# 定义常数\n",
    "hbar_times_omega = 7.0  # hbar * omega = 7 MeV\n",
    "V0 = -5.68658111  # 势能常数 V0 = -5.68658111 MeV\n",
    "Lambda = 152.0  # 超紫外截断 Λ ≈ 152 MeV\n",
    "N_max = 10  # 最大基础维度（可以根据需要更改）\n",
    "n_values = np.arange(1, N_max + 1)\n",
    "\n",
    "# 存储最小 eigenvalue\n",
    "min_eigenvalues = []\n",
    "\n",
    "for N in n_values:\n",
    "    # 构建哈密顿量矩阵\n",
    "    H = np.zeros((N, N), dtype=complex)\n",
    "\n",
    "    for n in range(N):\n",
    "        for n_prime in range(N):\n",
    "            T_element = (hbar_times_omega / 2) * (\n",
    "                (2 * n + 3/2) * (n_prime == n) -\n",
    "                np.sqrt(n * (n + 1/2)) * (n_prime + 1 == n ) -\n",
    "                np.sqrt((n + 1) * (n + 3/2)) * (n_prime-1 == n )\n",
    "            )\n",
    "            V_element = V0 * (n == 0) * (n_prime == n)\n",
    "            H[n, n_prime] = T_element + V_element\n",
    "\n",
    "    # 对角化哈密顿量矩阵\n",
    "    eigenvalues, eigenvectors = eigh(H)\n",
    "    \n",
    "    # 获取最小 eigenvalue 并添加到列表\n",
    "    min_eigenvalues.append(min(eigenvalues))\n",
    "    \n",
    "\n",
    "# 转换为 NumPy 数组\n",
    "min_eigenvalues = np.array(min_eigenvalues)\n",
    "print(min_eigenvalues)\n",
    "# 绘制E_N关于N的图像\n",
    "N_values = np.arange(1, 11)\n",
    "plt.plot(N_values, E_N_values, marker='o',label='extrapolation')\n",
    "plt.xlabel('N')\n",
    "plt.ylabel('Energy (E_N)')\n",
    "plt.title('Energy Function E_N vs. N')\n",
    "\n",
    "# 绘制最小 eigenvalue 与 n 的关系图像\n",
    "plt.plot(n_values, min_eigenvalues, 'x--',marker='o',label='exact diagonalization')\n",
    "plt.xlabel('n')\n",
    "plt.ylabel('Minimum Eigenvalue (MeV)')\n",
    "plt.title('Minimum Eigenvalue vs. n')\n",
    "plt.grid(True)\n",
    "plt.legend()\n",
    "plt.show()"
   ]
  },
  {
   "cell_type": "markdown",
   "metadata": {},
   "source": [
    "Pauli"
   ]
  },
  {
   "cell_type": "code",
   "execution_count": 57,
   "metadata": {},
   "outputs": [
    {
     "name": "stdout",
     "output_type": "stream",
     "text": [
      "H1 的本征值： [ 0.       -0.436582]\n"
     ]
    }
   ],
   "source": [
    "import numpy as np\n",
    "\n",
    "# 定义 Pauli-Z 矩阵 (σ_z)\n",
    "sigma_z = np.array([[1, 0],\n",
    "                    [0, -1]])\n",
    "\n",
    "# 定义单位矩阵 (I)\n",
    "identity = np.identity(2)\n",
    "\n",
    "# 定义哈密顿量 H1\n",
    "hbar = 1  # 由于 MeV 和哈密顿量单位匹配，可以将 hbar 设置为 1\n",
    "omega = 7 / hbar\n",
    "m = 1879.45\n",
    "k = -26743129849360.53\n",
    "gamma = 13834391.498240285\n",
    "Z0 = sigma_z  # Pauli-Z 矩阵\n",
    "I = identity  # 单位矩阵\n",
    "H1 = 0.218291 * (Z0 - I)\n",
    "\n",
    "# 计算哈密顿量 H1 的本征值\n",
    "eigenvalues = np.linalg.eigvals(H1)\n",
    "\n",
    "# 打印本征值\n",
    "print(\"H1 的本征值：\", eigenvalues)\n"
   ]
  },
  {
   "cell_type": "code",
   "execution_count": 61,
   "metadata": {},
   "outputs": [
    {
     "ename": "TypeError",
     "evalue": "'Symbol' object cannot be interpreted as an integer",
     "output_type": "error",
     "traceback": [
      "\u001b[1;31m---------------------------------------------------------------------------\u001b[0m",
      "\u001b[1;31mTypeError\u001b[0m                                 Traceback (most recent call last)",
      "\u001b[1;32md:\\zsy\\python\\python\\ipynb\\eig.ipynb 单元格 37\u001b[0m line \u001b[0;36m2\n\u001b[0;32m     <a href='vscode-notebook-cell:/d%3A/zsy/python/python/ipynb/eig.ipynb#X65sZmlsZQ%3D%3D?line=19'>20</a>\u001b[0m     \u001b[39mreturn\u001b[39;00m V0 \u001b[39m*\u001b[39m sp\u001b[39m.\u001b[39mKroneckerDelta(n, \u001b[39m0\u001b[39m) \u001b[39m*\u001b[39m sp\u001b[39m.\u001b[39mKroneckerDelta(n_prime, n)\n\u001b[0;32m     <a href='vscode-notebook-cell:/d%3A/zsy/python/python/ipynb/eig.ipynb#X65sZmlsZQ%3D%3D?line=21'>22</a>\u001b[0m \u001b[39m# 构建原始哈密顿量\u001b[39;00m\n\u001b[1;32m---> <a href='vscode-notebook-cell:/d%3A/zsy/python/python/ipynb/eig.ipynb#X65sZmlsZQ%3D%3D?line=22'>23</a>\u001b[0m H_N \u001b[39m=\u001b[39m sp\u001b[39m.\u001b[39mSum(T_matrix_element(n, n_prime) \u001b[39m*\u001b[39m a_dagger(n_prime) \u001b[39m*\u001b[39m a(n), (n, \u001b[39m0\u001b[39m, N\u001b[39m-\u001b[39m\u001b[39m1\u001b[39m), (n_prime, \u001b[39m0\u001b[39m, N\u001b[39m-\u001b[39m\u001b[39m1\u001b[39m)) \u001b[39m+\u001b[39m sp\u001b[39m.\u001b[39mSum(V_matrix_element(n, n_prime) \u001b[39m*\u001b[39m a_dagger(n_prime) \u001b[39m*\u001b[39m a(n), (n, \u001b[39m0\u001b[39m, N\u001b[39m-\u001b[39m\u001b[39m1\u001b[39m), (n_prime, \u001b[39m0\u001b[39m, N\u001b[39m-\u001b[39m\u001b[39m1\u001b[39m))\n\u001b[0;32m     <a href='vscode-notebook-cell:/d%3A/zsy/python/python/ipynb/eig.ipynb#X65sZmlsZQ%3D%3D?line=24'>25</a>\u001b[0m \u001b[39m# 打印原始哈密顿量\u001b[39;00m\n\u001b[0;32m     <a href='vscode-notebook-cell:/d%3A/zsy/python/python/ipynb/eig.ipynb#X65sZmlsZQ%3D%3D?line=25'>26</a>\u001b[0m \u001b[39mprint\u001b[39m(\u001b[39m\"\u001b[39m\u001b[39m原始哈密顿量:\u001b[39m\u001b[39m\"\u001b[39m)\n",
      "\u001b[1;32md:\\zsy\\python\\python\\ipynb\\eig.ipynb 单元格 37\u001b[0m line \u001b[0;36m1\n\u001b[0;32m      <a href='vscode-notebook-cell:/d%3A/zsy/python/python/ipynb/eig.ipynb#X65sZmlsZQ%3D%3D?line=8'>9</a>\u001b[0m \u001b[39mdef\u001b[39;00m \u001b[39ma_dagger\u001b[39m(n):\n\u001b[1;32m---> <a href='vscode-notebook-cell:/d%3A/zsy/python/python/ipynb/eig.ipynb#X65sZmlsZQ%3D%3D?line=9'>10</a>\u001b[0m     \u001b[39mreturn\u001b[39;00m (\u001b[39m1\u001b[39m\u001b[39m/\u001b[39m\u001b[39m2\u001b[39m) \u001b[39m*\u001b[39m sp\u001b[39m.\u001b[39mprod([\u001b[39m-\u001b[39mZ\u001b[39m.\u001b[39msubs(m, j) \u001b[39mfor\u001b[39;00m j \u001b[39min\u001b[39;00m \u001b[39mrange\u001b[39;49m(n)]) \u001b[39m*\u001b[39m (X \u001b[39m-\u001b[39m sp\u001b[39m.\u001b[39mI\u001b[39m*\u001b[39mY)\n",
      "\u001b[1;31mTypeError\u001b[0m: 'Symbol' object cannot be interpreted as an integer"
     ]
    }
   ],
   "source": [
    "import sympy as sp\n",
    "\n",
    "# 定义符号\n",
    "N = sp.symbols('N', integer=True)\n",
    "omega, V0, hbar = sp.symbols('omega V0 hbar', real=True, positive=True)\n",
    "X, Y, Z = sp.symbols('X Y Z')\n",
    "\n",
    "# 定义费米子产生和湮灭算符\n",
    "def a_dagger(n):\n",
    "    return (1/2) * sp.prod([-Z.subs(m, j) for j in range(n)]) * (X - sp.I*Y)\n",
    "\n",
    "def a(n):\n",
    "    return (1/2) * sp.prod([-Z.subs(m, j) for j in range(n)]) * (X + sp.I*Y)\n",
    "\n",
    "# 定义T和V的矩阵元素\n",
    "def T_matrix_element(n, n_prime):\n",
    "    return (hbar*omega/2) * ((2*n + 3/2)*sp.KroneckerDelta(n_prime, n) - sp.sqrt(n*(n+1/2))*sp.KroneckerDelta(n_prime, n+1) - sp.sqrt(n*(n+3/2))*sp.KroneckerDelta(n_prime, n-1))\n",
    "\n",
    "def V_matrix_element(n, n_prime):\n",
    "    return V0 * sp.KroneckerDelta(n, 0) * sp.KroneckerDelta(n_prime, n)\n",
    "\n",
    "# 构建原始哈密顿量\n",
    "H_N = sp.Sum(T_matrix_element(n, n_prime) * a_dagger(n_prime) * a(n), (n, 0, N-1), (n_prime, 0, N-1)) + sp.Sum(V_matrix_element(n, n_prime) * a_dagger(n_prime) * a(n), (n, 0, N-1), (n_prime, 0, N-1))\n",
    "\n",
    "# 打印原始哈密顿量\n",
    "print(\"原始哈密顿量:\")\n",
    "sp.pretty_print(H_N)\n",
    "\n",
    "# 进行Jordan-Wigner变换\n",
    "H_N_JW = H_N.subs({a_dagger(n): (1/2) * sp.prod([-Z.subs(m, j) for j in range(n)]) * sp.Symbol('sigma_n_plus') for n in range(N)}\n",
    "                 ).subs({a(n): (1/2) * sp.prod([-Z.subs(m, j) for j in range(n)]) * sp.Symbol('sigma_n_minus') for n in range(N)})\n",
    "\n",
    "# 打印Jordan-Wigner变换后的哈密顿量\n",
    "print(\"\\nJordan-Wigner变换后的哈密顿量:\")\n",
    "sp.pretty_print(H_N_JW)\n",
    "\n"
   ]
  }
 ],
 "metadata": {
  "kernelspec": {
   "display_name": "qiskit",
   "language": "python",
   "name": "python3"
  },
  "language_info": {
   "codemirror_mode": {
    "name": "ipython",
    "version": 3
   },
   "file_extension": ".py",
   "mimetype": "text/x-python",
   "name": "python",
   "nbconvert_exporter": "python",
   "pygments_lexer": "ipython3",
   "version": "3.9.12"
  },
  "orig_nbformat": 4
 },
 "nbformat": 4,
 "nbformat_minor": 2
}
