{
 "cells": [
  {
   "cell_type": "code",
   "execution_count": 2,
   "metadata": {},
   "outputs": [],
   "source": [
    "from pyqpanda import *\n",
    "\n",
    "\n",
    "if __name__ == \"__main__\":\n",
    "    x = input()\n",
    "    \n",
    "    qvm = CPUQVM()\n",
    "    qvm.init_qvm()\n",
    "    \n",
    "\n",
    "    qubits = qvm.qAlloc_many(3)\n",
    "    cbits = qvm.cAlloc_many(2)\n",
    "    cir_encode=Encode()\n",
    "    cir_encode.basic_encode(qubits,x)\n",
    "\n",
    "    prog = QProg()\n",
    "    prog<<cir_encode.get_circuit()\n",
    "    #encode_qubits=cir_encode.get_out_qubits()\n",
    "    prog<<H(qubits[0])<<CNOT(qubits[0],qubits[1])\n",
    "\n",
    "    \n",
    "    "
   ]
  },
  {
   "cell_type": "code",
   "execution_count": 3,
   "metadata": {},
   "outputs": [
    {
     "data": {
      "text/plain": [
       "<pyqpanda.pyQPanda.QProg at 0x1dbc4f98330>"
      ]
     },
     "execution_count": 3,
     "metadata": {},
     "output_type": "execute_result"
    }
   ],
   "source": [
    "\n",
    "the=float(input())\n",
    "qvm = CPUQVM()\n",
    "qvm.init_qvm()\n",
    "    \n",
    "\n",
    "qubits = qvm.qAlloc_many(3)\n",
    "cbits = qvm.cAlloc_many(2)\n",
    "cir_encode=Encode()\n",
    "cir_encode.basic_encode(qubits,x)\n",
    "\n",
    "prog = QProg()\n",
    "prog<<cir_encode.get_circuit()\n",
    "    #encode_qubits=cir_encode.get_out_qubits()\n",
    "prog<<H(qubits[0])<<CNOT(qubits[0],qubits[1])\n",
    "\n",
    "\n",
    "prog<<RY(qubits[2],the)<<CNOT(qubits[2],qubits[1])<<H(qubits[2])<<Measure(qubits[1], cbits[0])<<Measure(qubits[2],cbits[1])\n",
    "crx_true=QProg()\n",
    "crx_flase=QProg()\n",
    "crx_true<<X(qubits[0])\n",
    "qifx=QIfProg(cbits[0]==1,crx_true,crx_flase)\n",
    "crz_true=QProg()\n",
    "crz_flase=QProg()\n",
    "crz_true<<Z(qubits[0])\n",
    "qifz=QIfProg(cbits[1]==1,crz_true,crz_flase)\n",
    "prog<<qifx<<qifz\n"
   ]
  },
  {
   "cell_type": "code",
   "execution_count": 5,
   "metadata": {},
   "outputs": [
    {
     "name": "stdout",
     "output_type": "stream",
     "text": [
      "[(0, 0.8483533546735827), (1, 0.1516466453264173)]\n"
     ]
    }
   ],
   "source": [
    "result = qvm.prob_run_tuple_list(prog, qubits[0], -1)\n",
    "print(result)"
   ]
  },
  {
   "cell_type": "code",
   "execution_count": 1,
   "metadata": {},
   "outputs": [
    {
     "name": "stdout",
     "output_type": "stream",
     "text": [
      "[(0, 0.9387912809451863), (1, 0.06120871905481362)]\n"
     ]
    }
   ],
   "source": [
    "from pyqpanda import *\n",
    "import math\n",
    "import numpy as np\n",
    "\n",
    "\n",
    "\n",
    "def question1(x: str) -> list:\n",
    "    qvm = CPUQVM()\n",
    "    qvm.init_qvm()\n",
    "    \n",
    "\n",
    "    qubits = qvm.qAlloc_many(2)\n",
    "    cbits = qvm.cAlloc_many(2)\n",
    "    cir_encode=Encode()\n",
    "    cir_encode.basic_encode(qubits,x)\n",
    "\n",
    "    prog = QProg()\n",
    "    prog<<cir_encode.get_circuit()\n",
    "    #encode_qubits=cir_encode.get_out_qubits()\n",
    "    prog<<H(qubits[0])<<CNOT(qubits[0],qubits[1])<<measure_all(qubits,cbits)\n",
    "    #result1=get_qstate()\n",
    "    \n",
    "\n",
    "\n",
    "def question2(theta: float) -> list:\n",
    "    \n",
    "    qvm = CPUQVM()\n",
    "    qvm.init_qvm()    \n",
    "    qubits = qvm.qAlloc_many(3)\n",
    "    cbits = qvm.cAlloc_many(2)\n",
    "    cir_encode=Encode()\n",
    "\n",
    "    prog = QProg()\n",
    "    prog<<cir_encode.get_circuit()\n",
    "    #encode_qubits=cir_encode.get_out_qubits()\n",
    "    prog<<H(qubits[0])<<CNOT(qubits[0],qubits[1])\n",
    "\n",
    "\n",
    "    prog<<RY(qubits[2],theta)<<CNOT(qubits[2],qubits[1])<<H(qubits[2])<<Measure(qubits[1], cbits[0])<<Measure(qubits[2],cbits[1])\n",
    "    crx_true=QProg()\n",
    "    crx_flase=QProg()\n",
    "    crx_true<<X(qubits[0])\n",
    "    qifx=QIfProg(cbits[0]==1,crx_true,crx_flase)\n",
    "    crz_true=QProg()\n",
    "    crz_flase=QProg()\n",
    "    crz_true<<Z(qubits[0])\n",
    "    qifz=QIfProg(cbits[1]==1,crz_true,crz_flase)\n",
    "    prog<<qifx<<qifz\n",
    "    result = qvm.prob_run_tuple_list(prog, qubits[0], -1)\n",
    "    print(result)\n",
    "    pass\n",
    "\n",
    "if __name__ == \"__main__\":\n",
    "    x=input()\n",
    "    question1(x)\n",
    "    theta=float(input())\n",
    "    question2(theta)\n",
    "    #output_list = question2(theta)00\n",
    "    #print(output_list)\n",
    "\n",
    "    \n",
    "\n",
    "    "
   ]
  },
  {
   "cell_type": "code",
   "execution_count": 1,
   "metadata": {},
   "outputs": [
    {
     "name": "stdout",
     "output_type": "stream",
     "text": [
      "[(0, 0.8483533546735827), (1, 0.1516466453264173)]\n"
     ]
    }
   ],
   "source": [
    "from pyqpanda import *\n",
    "import math\n",
    "import numpy as np\n",
    "\n",
    "\n",
    "\n",
    "def question1(x: str) -> list:\n",
    "    qvm = CPUQVM()\n",
    "    qvm.init_qvm()\n",
    "    \n",
    "\n",
    "    qubits = qvm.qAlloc_many(2)\n",
    "    cbits = qvm.cAlloc_many(2)\n",
    "    cir_encode=Encode()\n",
    "    cir_encode.basic_encode(qubits,x)\n",
    "\n",
    "    prog = QProg()\n",
    "    prog<<cir_encode.get_circuit()\n",
    "    #encode_qubits=cir_encode.get_out_qubits()\n",
    "    prog<<H(qubits[0])<<CNOT(qubits[0],qubits[1])<<measure_all(qubits,cbits)\n",
    "    #result1=get_qstate()\n",
    "    \n",
    "\n",
    "\n",
    "def question2(theta: float) -> list:\n",
    "    \n",
    "    qvm = CPUQVM()\n",
    "    qvm.init_qvm()    \n",
    "    qubits = qvm.qAlloc_many(3)\n",
    "    cbits = qvm.cAlloc_many(2)\n",
    "    cir_encode=Encode()\n",
    "\n",
    "    prog = QProg()\n",
    "    prog<<cir_encode.get_circuit()\n",
    "    #encode_qubits=cir_encode.get_out_qubits()\n",
    "    prog<<H(qubits[0])<<CNOT(qubits[0],qubits[1])\n",
    "\n",
    "\n",
    "    prog<<RY(qubits[2],theta)<<CNOT(qubits[2],qubits[1])<<H(qubits[2])<<Measure(qubits[1], cbits[0])<<Measure(qubits[2],cbits[1])\n",
    "    crx_true=QProg()\n",
    "    crx_flase=QProg()\n",
    "    crx_true<<X(qubits[0])\n",
    "    qifx=QIfProg(cbits[0]==1,crx_true,crx_flase)\n",
    "    crz_true=QProg()\n",
    "    crz_flase=QProg()\n",
    "    crz_true<<Z(qubits[0])\n",
    "    qifz=QIfProg(cbits[1]==1,crz_true,crz_flase)\n",
    "    prog<<qifx<<qifz\n",
    "    result = qvm.prob_run_tuple_list(prog, qubits[0], -1)\n",
    "    print(result)\n",
    "    pass\n",
    "\n",
    "if __name__ == \"__main__\":\n",
    "    x=input()\n",
    "    question1(x)\n",
    "    theta=float(input())\n",
    "    question2(theta)\n",
    "    #output_list = question2(theta)\n",
    "    #print(output_list)"
   ]
  },
  {
   "cell_type": "code",
   "execution_count": 4,
   "metadata": {},
   "outputs": [
    {
     "data": {
      "text/latex": [
       "$$\\frac{\\sqrt{2}}{2} |00\\rangle+\\frac{\\sqrt{2}}{2} |01\\rangle$$"
      ],
      "text/plain": [
       "<IPython.core.display.Latex object>"
      ]
     },
     "metadata": {},
     "output_type": "display_data"
    },
    {
     "data": {
      "text/latex": [
       "$$\\frac{\\sqrt{2}}{2} |00\\rangle+\\frac{\\sqrt{2}}{2} |11\\rangle$$"
      ],
      "text/plain": [
       "<IPython.core.display.Latex object>"
      ]
     },
     "metadata": {},
     "output_type": "display_data"
    }
   ],
   "source": [
    "from qiskit import QuantumCircuit, transpile, Aer\n",
    "\n",
    "simulator = Aer.get_backend('aer_simulator')\n",
    "\n",
    "circuit = QuantumCircuit(2)\n",
    "circuit.h(0)\n",
    "circuit.save_statevector('psi1')\n",
    "circuit.cnot(0, 1)\n",
    "circuit.save_statevector('psi2')\n",
    "\n",
    "result = simulator.run(transpile(circuit, simulator)).result()\n",
    "data = result.data()\n",
    "\n",
    "psi1 = data['psi1']\n",
    "psi2 = data['psi2']\n",
    "\n",
    "display(psi1.draw(output = 'latex'))\n",
    "display(psi2.draw(output = 'latex'))"
   ]
  }
 ],
 "metadata": {
  "kernelspec": {
   "display_name": "base",
   "language": "python",
   "name": "python3"
  },
  "language_info": {
   "codemirror_mode": {
    "name": "ipython",
    "version": 3
   },
   "file_extension": ".py",
   "mimetype": "text/x-python",
   "name": "python",
   "nbconvert_exporter": "python",
   "pygments_lexer": "ipython3",
   "version": "3.9.12"
  },
  "orig_nbformat": 4
 },
 "nbformat": 4,
 "nbformat_minor": 2
}
