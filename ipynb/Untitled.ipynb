{
 "cells": [
  {
   "cell_type": "code",
   "execution_count": 2,
   "id": "3145b587",
   "metadata": {},
   "outputs": [],
   "source": [
    "import numpy as np\n",
    "import sympy as spy\n",
    "import matplotlib.pyplot as plt\n",
    "import scipy as sci"
   ]
  },
  {
   "cell_type": "code",
   "execution_count": 10,
   "id": "e79cb48a",
   "metadata": {},
   "outputs": [
    {
     "name": "stdout",
     "output_type": "stream",
     "text": [
      "{'000': 0.5000000000000001, '001': 0.5000000000000001, '010': 0.0, '011': 0.0, '100': 0.0, '101': 0.0, '110': 0.0, '111': 0.0}\n",
      "{'000': 0.4999999999999999, '001': 0.4999999999999999, '010': 0.0, '011': 0.0, '100': 0.0, '101': 0.0, '110': 0.0, '111': 0.0}\n"
     ]
    }
   ],
   "source": [
    "from pyqpanda import *\n",
    "\n",
    "if __name__ == \"__main__\":\n",
    "    qvm = CPUQVM()\n",
    "    qvm.init_qvm()\n",
    "    qubits = qvm.qAlloc_many(3)\n",
    "    prog1 = QProg()\n",
    "    prog1 <<H(qubits[0]) <<CNOT(qubits[1],qubits[2])\n",
    "    mat = get_matrix(prog1,True)\n",
    "    prog = QProg()\n",
    "    prog << QOracle([qubits[0],qubits[1],qubits[2]],mat)\n",
    "\n",
    "    res1 = qvm.prob_run_dict(prog1,qubits)\n",
    "    res2 = qvm.prob_run_dict(prog,qubits)\n",
    "\n",
    "    # 打印测量结果\n",
    "    print(res1)\n",
    "    print(res2)"
   ]
  },
  {
   "cell_type": "code",
   "execution_count": 2,
   "id": "f339c659",
   "metadata": {},
   "outputs": [
    {
     "name": "stderr",
     "output_type": "stream",
     "text": [
      "D:\\tmp\\TEMP\\ipykernel_26228\\592555988.py:4: DeprecationWarning: scipy.misc.ascent has been deprecated in SciPy v1.10.0; and will be completely removed in SciPy v1.12.0. Dataset methods have moved into the scipy.datasets module. Use scipy.datasets.ascent instead.\n",
      "  stairs = scipy.misc.ascent()\n"
     ]
    },
    {
     "name": "stdout",
     "output_type": "stream",
     "text": [
      "(512, 512)\n",
      "255\n",
      "int32\n"
     ]
    }
   ],
   "source": [
    "import scipy.misc\n",
    "import matplotlib.pyplot as plt\n",
    "\n",
    "stairs = scipy.misc.ascent()\n",
    "# 灰度图\n",
    "plt.gray()\n",
    "plt.imshow(stairs)\n",
    "# 颜色图\n",
    "plt.colorbar()\n",
    "# 图像类型信息\n",
    "print (stairs.shape)\n",
    "# 图像灰度最大值\n",
    "print (stairs.max())\n",
    "# 图像数据类型\n",
    "print (stairs.dtype)\n",
    "plt.show()\n"
   ]
  },
  {
   "cell_type": "code",
   "execution_count": null,
   "id": "cf64640c",
   "metadata": {},
   "outputs": [
    {
     "name": "stdout",
     "output_type": "stream",
     "text": [
      "log(x)\n",
      "sin(x)\n",
      "(2 - cos(x))**(1/3)\n",
      "log(sin(x)**2 + 1)\n",
      "6*(2 - cos(x))**(1/3) - 6\n",
      "(-6*(2 - cos(x))**(1/3) + log(sin(x)**2 + 1) + 6)/x**4\n"
     ]
    },
    {
     "data": {
      "text/latex": [
       "$\\displaystyle - \\frac{7}{12}$"
      ],
      "text/plain": [
       "-7/12"
      ]
     },
     "execution_count": 34,
     "metadata": {},
     "output_type": "execute_result"
    }
   ],
   "source": [
    "x=spy.symbols('x',real=True)\n",
    "f=spy.ln(x)\n",
    "print(f)\n",
    "a=spy.sin(x)\n",
    "print(a)\n",
    "b=(2-spy.cos(x))**(spy.Rational(1,3))\n",
    "print(b)\n",
    "d=spy.ln(1+a**2)\n",
    "e=6*(b-1)\n",
    "print(d)\n",
    "print(e)\n",
    "f=(d-e)/x**4\n",
    "print(f)\n",
    "spy.limit(f,x,0)"
   ]
  },
  {
   "cell_type": "code",
   "execution_count": 1,
   "id": "698d7da4",
   "metadata": {},
   "outputs": [],
   "source": [
    "from qiskit import QuantumCircuit, Aer, assemble\n",
    "import numpy as np\n",
    "from qiskit.visualization import plot_histogram, plot_bloch_multivector"
   ]
  },
  {
   "cell_type": "code",
   "execution_count": 2,
   "id": "9e0c2bcd",
   "metadata": {},
   "outputs": [
    {
     "data": {
      "text/html": [
       "<pre style=\"word-wrap: normal;white-space: pre;background: #fff0;line-height: 1.1;font-family: &quot;Courier New&quot;,Courier,monospace\">     ┌───┐\n",
       "q_0: ┤ H ├\n",
       "     ├───┤\n",
       "q_1: ┤ H ├\n",
       "     ├───┤\n",
       "q_2: ┤ H ├\n",
       "     └───┘</pre>"
      ],
      "text/plain": [
       "     ┌───┐\n",
       "q_0: ┤ H ├\n",
       "     ├───┤\n",
       "q_1: ┤ H ├\n",
       "     ├───┤\n",
       "q_2: ┤ H ├\n",
       "     └───┘"
      ]
     },
     "execution_count": 2,
     "metadata": {},
     "output_type": "execute_result"
    }
   ],
   "source": [
    "qc = QuantumCircuit(3)\n",
    "# Apply H-gate to each qubit:\n",
    "for qubit in range(3):\n",
    "    qc.h(qubit)\n",
    "# See the circuit:\n",
    "qc.draw()"
   ]
  },
  {
   "cell_type": "code",
   "execution_count": 7,
   "id": "e6c3d30e",
   "metadata": {},
   "outputs": [
    {
     "ename": "NameError",
     "evalue": "name 'get_qgate' is not defined",
     "output_type": "error",
     "traceback": [
      "\u001b[1;31m---------------------------------------------------------------------------\u001b[0m",
      "\u001b[1;31mNameError\u001b[0m                                 Traceback (most recent call last)",
      "\u001b[1;32md:\\zsy\\python\\python\\Untitled.ipynb 单元格 6\u001b[0m in \u001b[0;36m<cell line: 10>\u001b[1;34m()\u001b[0m\n\u001b[0;32m      <a href='vscode-notebook-cell:/d%3A/zsy/python/python/Untitled.ipynb#W6sZmlsZQ%3D%3D?line=6'>7</a>\u001b[0m prog \u001b[39m=\u001b[39m QProg()\n\u001b[0;32m      <a href='vscode-notebook-cell:/d%3A/zsy/python/python/Untitled.ipynb#W6sZmlsZQ%3D%3D?line=8'>9</a>\u001b[0m \u001b[39m# 创建两个量子比特\u001b[39;00m\n\u001b[1;32m---> <a href='vscode-notebook-cell:/d%3A/zsy/python/python/Untitled.ipynb#W6sZmlsZQ%3D%3D?line=9'>10</a>\u001b[0m qubits \u001b[39m=\u001b[39m get_qgate(\u001b[39m2\u001b[39m)\n\u001b[0;32m     <a href='vscode-notebook-cell:/d%3A/zsy/python/python/Untitled.ipynb#W6sZmlsZQ%3D%3D?line=11'>12</a>\u001b[0m \u001b[39m# 对输入比特进行编码\u001b[39;00m\n\u001b[0;32m     <a href='vscode-notebook-cell:/d%3A/zsy/python/python/Untitled.ipynb#W6sZmlsZQ%3D%3D?line=12'>13</a>\u001b[0m prog\u001b[39m.\u001b[39mapply(H(qubits[\u001b[39m0\u001b[39m]))\n",
      "\u001b[1;31mNameError\u001b[0m: name 'get_qgate' is not defined"
     ]
    }
   ],
   "source": [
    "from pyqpanda import *\n",
    "from pyqpanda.utils import *\n",
    "from pyqpanda.Visualization import *\n",
    "import numpy as np\n",
    "\n",
    "# 初始化量子程序\n",
    "prog = QProg()\n",
    "\n",
    "# 创建两个量子比特\n",
    "qubits = get_qgate(2)\n",
    "\n",
    "# 对输入比特进行编码\n",
    "prog.apply(H(qubits[0]))\n",
    "\n",
    "# 使用 CNOT 门实现 Bell 状态的生成\n",
    "prog.apply(CNOT(qubits[0], qubits[1]))\n",
    "\n",
    "# 可视化量子线路\n",
    "print(to_latex(prog))\n",
    "plot_circuit(prog)\n",
    "\n",
    "# 模拟器计算状态向量，并输出结果\n",
    "result = prob_run_tuple_list(prog, repeat=1)\n",
    "for state, prob in result[0]:\n",
    "    print(state, prob)\n",
    "\n",
    "# 释放量子比特\n",
    "prog.qFree_many(qubits)"
   ]
  },
  {
   "cell_type": "code",
   "execution_count": 32,
   "id": "edec5b09",
   "metadata": {},
   "outputs": [],
   "source": [
    "\n",
    "qvm = CPUQVM()\n",
    "qvm.init_qvm()\n",
    "qubits = qvm.qAlloc_many(4)\n",
    "h = H(qubits[0])\n",
    "qprog=QProg()"
   ]
  },
  {
   "cell_type": "code",
   "execution_count": 33,
   "id": "8959a34c",
   "metadata": {},
   "outputs": [],
   "source": [
    "cnot = CNOT(qubits[0], qubits[1])"
   ]
  },
  {
   "cell_type": "code",
   "execution_count": 34,
   "id": "816f05a8",
   "metadata": {},
   "outputs": [
    {
     "name": "stdout",
     "output_type": "stream",
     "text": [
      "\n",
      "          ┌─┐ \n",
      "q_0:  |0>─┤H├ \n",
      "          ├─┤ \n",
      "q_1:  |0>─┤H├ \n",
      "          ├─┤ \n",
      "q_2:  |0>─┤H├ \n",
      "          ├─┤ \n",
      "q_3:  |0>─┤H├ \n",
      "          └─┘ \n",
      "\n",
      "\n"
     ]
    }
   ],
   "source": [
    "cir = H(qubits)\n",
    "print(cir)"
   ]
  },
  {
   "cell_type": "code",
   "execution_count": 35,
   "metadata": {},
   "outputs": [
    {
     "name": "stdout",
     "output_type": "stream",
     "text": [
      "\n",
      "                 \n",
      "q_0:  |0>────■── \n",
      "          ┌──┴─┐ \n",
      "q_1:  |0>─┤CNOT├ \n",
      "          └────┘ \n",
      "\n",
      "\n"
     ]
    }
   ],
   "source": [
    "cir = CNOT(qubits[0:1], qubits[1:2])\n",
    "print(cir)"
   ]
  },
  {
   "cell_type": "code",
   "execution_count": 37,
   "id": "12abf1cc",
   "metadata": {},
   "outputs": [
    {
     "ename": "TypeError",
     "evalue": "run_with_configuration(): incompatible function arguments. The following argument types are supported:\n    1. (program: pyqpanda.pyQPanda.QProg, cbit_list: List[pyqpanda.pyQPanda.ClassicalCondition], shots: int, noise_model: pyqpanda.pyQPanda.Noise = NoiseModel()) -> Dict[str, int]\n    2. (program: pyqpanda.pyQPanda.QProg, shots: int, noise_model: pyqpanda.pyQPanda.Noise = NoiseModel()) -> Dict[str, int]\n\nInvoked with: <pyqpanda.pyQPanda.QProg object at 0x000001C35140BC30>",
     "output_type": "error",
     "traceback": [
      "\u001b[1;31m---------------------------------------------------------------------------\u001b[0m",
      "\u001b[1;31mTypeError\u001b[0m                                 Traceback (most recent call last)",
      "\u001b[1;32md:\\zsy\\python\\python\\Untitled.ipynb 单元格 11\u001b[0m in \u001b[0;36m<cell line: 1>\u001b[1;34m()\u001b[0m\n\u001b[1;32m----> <a href='vscode-notebook-cell:/d%3A/zsy/python/python/Untitled.ipynb#X16sZmlsZQ%3D%3D?line=0'>1</a>\u001b[0m result \u001b[39m=\u001b[39m run_with_configuration(qprog)\n\u001b[0;32m      <a href='vscode-notebook-cell:/d%3A/zsy/python/python/Untitled.ipynb#X16sZmlsZQ%3D%3D?line=2'>3</a>\u001b[0m \u001b[39m# 打印量子态向量\u001b[39;00m\n\u001b[0;32m      <a href='vscode-notebook-cell:/d%3A/zsy/python/python/Untitled.ipynb#X16sZmlsZQ%3D%3D?line=3'>4</a>\u001b[0m \u001b[39mfor\u001b[39;00m state \u001b[39min\u001b[39;00m result:\n",
      "\u001b[1;31mTypeError\u001b[0m: run_with_configuration(): incompatible function arguments. The following argument types are supported:\n    1. (program: pyqpanda.pyQPanda.QProg, cbit_list: List[pyqpanda.pyQPanda.ClassicalCondition], shots: int, noise_model: pyqpanda.pyQPanda.Noise = NoiseModel()) -> Dict[str, int]\n    2. (program: pyqpanda.pyQPanda.QProg, shots: int, noise_model: pyqpanda.pyQPanda.Noise = NoiseModel()) -> Dict[str, int]\n\nInvoked with: <pyqpanda.pyQPanda.QProg object at 0x000001C35140BC30>"
     ]
    }
   ],
   "source": [
    "result = run_with_configuration(qprog)\n",
    "\n",
    "# 打印量子态向量\n",
    "for state in result:\n",
    "    print(state)"
   ]
  },
  {
   "cell_type": "code",
   "execution_count": 2,
   "id": "016e289d",
   "metadata": {},
   "outputs": [
    {
     "ename": "TypeError",
     "evalue": "run_with_configuration(): incompatible function arguments. The following argument types are supported:\n    1. (self: pyqpanda.pyQPanda.QuantumMachine, qprog: pyqpanda.pyQPanda.QProg, cbit_list: List[pyqpanda.pyQPanda.ClassicalCondition], data: dict, noise_model: pyqpanda.pyQPanda.Noise = NoiseModel()) -> Dict[str, int]\n    2. (self: pyqpanda.pyQPanda.QuantumMachine, qprog: pyqpanda.pyQPanda.QProg, cbit_list: List[pyqpanda.pyQPanda.ClassicalCondition], shot: int, noise_model: pyqpanda.pyQPanda.Noise = NoiseModel()) -> Dict[str, int]\n    3. (self: pyqpanda.pyQPanda.QuantumMachine, qprog: pyqpanda.pyQPanda.QProg, shot: int, noise_model: pyqpanda.pyQPanda.Noise = NoiseModel()) -> Dict[str, int]\n    4. (self: pyqpanda.pyQPanda.QuantumMachine, qprog: pyqpanda.pyQPanda.QProg, cbit_list: List[int], shot: int, noise_model: pyqpanda.pyQPanda.Noise = NoiseModel()) -> Dict[str, int]\n\nInvoked with: <pyqpanda.pyQPanda.CPUQVM object at 0x000001C300B02F30>, <pyqpanda.pyQPanda.QProg object at 0x000001C300B02D70>, [<pyqpanda.pyQPanda.Qubit object at 0x000001C300B02C70>, <pyqpanda.pyQPanda.Qubit object at 0x000001C300B02F70>]; kwargs: shots=1024",
     "output_type": "error",
     "traceback": [
      "\u001b[1;31m---------------------------------------------------------------------------\u001b[0m",
      "\u001b[1;31mTypeError\u001b[0m                                 Traceback (most recent call last)",
      "\u001b[1;32md:\\zsy\\python\\python\\Untitled.ipynb 单元格 6\u001b[0m in \u001b[0;36m<cell line: 28>\u001b[1;34m()\u001b[0m\n\u001b[0;32m     <a href='vscode-notebook-cell:/d%3A/zsy/python/python/Untitled.ipynb#W5sZmlsZQ%3D%3D?line=25'>26</a>\u001b[0m     qvm\u001b[39m.\u001b[39minit_qvm()\n\u001b[0;32m     <a href='vscode-notebook-cell:/d%3A/zsy/python/python/Untitled.ipynb#W5sZmlsZQ%3D%3D?line=26'>27</a>\u001b[0m     q0,q1 \u001b[39m=\u001b[39m qvm\u001b[39m.\u001b[39mqAlloc_many(\u001b[39m2\u001b[39m)\n\u001b[1;32m---> <a href='vscode-notebook-cell:/d%3A/zsy/python/python/Untitled.ipynb#W5sZmlsZQ%3D%3D?line=27'>28</a>\u001b[0m results \u001b[39m=\u001b[39m bell_state_measure(q0, q1)\n\u001b[0;32m     <a href='vscode-notebook-cell:/d%3A/zsy/python/python/Untitled.ipynb#W5sZmlsZQ%3D%3D?line=28'>29</a>\u001b[0m \u001b[39mprint\u001b[39m(\u001b[39m\"\u001b[39m\u001b[39m|𝜓00⟩: \u001b[39m\u001b[39m{}\u001b[39;00m\u001b[39m, |𝜓01⟩: \u001b[39m\u001b[39m{}\u001b[39;00m\u001b[39m, |𝜓10⟩: \u001b[39m\u001b[39m{}\u001b[39;00m\u001b[39m, |𝜓11⟩: \u001b[39m\u001b[39m{}\u001b[39;00m\u001b[39m\"\u001b[39m\u001b[39m.\u001b[39mformat(\u001b[39m*\u001b[39mresults))\n",
      "\u001b[1;32md:\\zsy\\python\\python\\Untitled.ipynb 单元格 6\u001b[0m in \u001b[0;36mbell_state_measure\u001b[1;34m(q0, q1)\u001b[0m\n\u001b[0;32m     <a href='vscode-notebook-cell:/d%3A/zsy/python/python/Untitled.ipynb#W5sZmlsZQ%3D%3D?line=16'>17</a>\u001b[0m \u001b[39mif\u001b[39;00m i \u001b[39m>\u001b[39m\u001b[39m=\u001b[39m \u001b[39m2\u001b[39m:\n\u001b[0;32m     <a href='vscode-notebook-cell:/d%3A/zsy/python/python/Untitled.ipynb#W5sZmlsZQ%3D%3D?line=17'>18</a>\u001b[0m     prog\u001b[39m.\u001b[39minsert(Z(q0))\n\u001b[1;32m---> <a href='vscode-notebook-cell:/d%3A/zsy/python/python/Untitled.ipynb#W5sZmlsZQ%3D%3D?line=18'>19</a>\u001b[0m result \u001b[39m=\u001b[39m machine\u001b[39m.\u001b[39;49mrun_with_configuration(prog, [q0, q1], shots\u001b[39m=\u001b[39;49m\u001b[39m1024\u001b[39;49m)\n\u001b[0;32m     <a href='vscode-notebook-cell:/d%3A/zsy/python/python/Untitled.ipynb#W5sZmlsZQ%3D%3D?line=19'>20</a>\u001b[0m counts \u001b[39m=\u001b[39m result\u001b[39m.\u001b[39mget_counts()\n\u001b[0;32m     <a href='vscode-notebook-cell:/d%3A/zsy/python/python/Untitled.ipynb#W5sZmlsZQ%3D%3D?line=20'>21</a>\u001b[0m res\u001b[39m.\u001b[39mappend(counts[\u001b[39m'\u001b[39m\u001b[39m00\u001b[39m\u001b[39m'\u001b[39m]\u001b[39m/\u001b[39m\u001b[39m1024\u001b[39m)\n",
      "\u001b[1;31mTypeError\u001b[0m: run_with_configuration(): incompatible function arguments. The following argument types are supported:\n    1. (self: pyqpanda.pyQPanda.QuantumMachine, qprog: pyqpanda.pyQPanda.QProg, cbit_list: List[pyqpanda.pyQPanda.ClassicalCondition], data: dict, noise_model: pyqpanda.pyQPanda.Noise = NoiseModel()) -> Dict[str, int]\n    2. (self: pyqpanda.pyQPanda.QuantumMachine, qprog: pyqpanda.pyQPanda.QProg, cbit_list: List[pyqpanda.pyQPanda.ClassicalCondition], shot: int, noise_model: pyqpanda.pyQPanda.Noise = NoiseModel()) -> Dict[str, int]\n    3. (self: pyqpanda.pyQPanda.QuantumMachine, qprog: pyqpanda.pyQPanda.QProg, shot: int, noise_model: pyqpanda.pyQPanda.Noise = NoiseModel()) -> Dict[str, int]\n    4. (self: pyqpanda.pyQPanda.QuantumMachine, qprog: pyqpanda.pyQPanda.QProg, cbit_list: List[int], shot: int, noise_model: pyqpanda.pyQPanda.Noise = NoiseModel()) -> Dict[str, int]\n\nInvoked with: <pyqpanda.pyQPanda.CPUQVM object at 0x000001C300B02F30>, <pyqpanda.pyQPanda.QProg object at 0x000001C300B02D70>, [<pyqpanda.pyQPanda.Qubit object at 0x000001C300B02C70>, <pyqpanda.pyQPanda.Qubit object at 0x000001C300B02F70>]; kwargs: shots=1024"
     ]
    }
   ],
   "source": [
    "from pyqpanda.pyQPanda import *\n",
    "from pyqpanda.utils import *\n",
    "\n",
    "def bell_state_circuit(q0: Qubit, q1: Qubit) -> QProg:\n",
    "    prog = QProg()\n",
    "    prog.insert(H(q0))\n",
    "    prog.insert(CNOT(q0, q1))\n",
    "    return prog\n",
    "\n",
    "def bell_state_measure(q0: Qubit, q1: Qubit) -> list:\n",
    "    machine = CPUQVM()\n",
    "    res = []\n",
    "    for i in range(4):\n",
    "        prog = bell_state_circuit(q0, q1)\n",
    "        if i % 2 == 1:\n",
    "            prog.insert(X(q0))\n",
    "        if i >= 2:\n",
    "            prog.insert(Z(q0))\n",
    "        result = machine.run_with_configuration(prog, [q0, q1], shots=1024)\n",
    "        counts = result.get_counts()\n",
    "        res.append(counts['00']/1024)\n",
    "        res.append(counts['11']/1024)\n",
    "    return res\n",
    "if __name__ == \"__main__\":\n",
    "    qvm = CPUQVM()\n",
    "    qvm.init_qvm()\n",
    "    q0,q1 = qvm.qAlloc_many(2)\n",
    "results = bell_state_measure(q0, q1)\n",
    "print(\"|𝜓00⟩: {}, |𝜓01⟩: {}, |𝜓10⟩: {}, |𝜓11⟩: {}\".format(*results))\n"
   ]
  },
  {
   "cell_type": "code",
   "execution_count": 29,
   "id": "99dbcbbd",
   "metadata": {},
   "outputs": [
    {
     "ename": "AttributeError",
     "evalue": "'pyqpanda.pyQPanda.QProg' object has no attribute 'apply'",
     "output_type": "error",
     "traceback": [
      "\u001b[1;31m---------------------------------------------------------------------------\u001b[0m",
      "\u001b[1;31mAttributeError\u001b[0m                            Traceback (most recent call last)",
      "\u001b[1;32md:\\zsy\\python\\python\\Untitled.ipynb 单元格 12\u001b[0m in \u001b[0;36m<cell line: 15>\u001b[1;34m()\u001b[0m\n\u001b[0;32m     <a href='vscode-notebook-cell:/d%3A/zsy/python/python/Untitled.ipynb#X14sZmlsZQ%3D%3D?line=11'>12</a>\u001b[0m qubits \u001b[39m=\u001b[39m qvm\u001b[39m.\u001b[39mqAlloc_many(\u001b[39m2\u001b[39m)\n\u001b[0;32m     <a href='vscode-notebook-cell:/d%3A/zsy/python/python/Untitled.ipynb#X14sZmlsZQ%3D%3D?line=13'>14</a>\u001b[0m \u001b[39m# 对输入比特进行编码\u001b[39;00m\n\u001b[1;32m---> <a href='vscode-notebook-cell:/d%3A/zsy/python/python/Untitled.ipynb#X14sZmlsZQ%3D%3D?line=14'>15</a>\u001b[0m prog\u001b[39m.\u001b[39;49mapply(H(qubits[\u001b[39m0\u001b[39m]))\n\u001b[0;32m     <a href='vscode-notebook-cell:/d%3A/zsy/python/python/Untitled.ipynb#X14sZmlsZQ%3D%3D?line=16'>17</a>\u001b[0m \u001b[39m# 对输入比特施加 CNOT 门\u001b[39;00m\n\u001b[0;32m     <a href='vscode-notebook-cell:/d%3A/zsy/python/python/Untitled.ipynb#X14sZmlsZQ%3D%3D?line=17'>18</a>\u001b[0m prog\u001b[39m.\u001b[39mapply(CNOT(qubits[\u001b[39m0\u001b[39m], qubits[\u001b[39m1\u001b[39m]))\n",
      "\u001b[1;31mAttributeError\u001b[0m: 'pyqpanda.pyQPanda.QProg' object has no attribute 'apply'"
     ]
    }
   ],
   "source": [
    "from pyqpanda import *\n",
    "from pyqpanda.utils import *\n",
    "from pyqpanda.Visualization import *\n",
    "\n",
    "qvm = CPUQVM()\n",
    "qvm.init_qvm()\n",
    "\n",
    "# 初始化量子程序\n",
    "prog = QProg()\n",
    "\n",
    "# 创建两个量子比特\n",
    "qubits = qvm.qAlloc_many(2)\n",
    "\n",
    "# 对输入比特进行编码\n",
    "prog.apply(H(qubits[0]))\n",
    "\n",
    "# 对输入比特施加 CNOT 门\n",
    "prog.apply(CNOT(qubits[0], qubits[1]))\n",
    "\n",
    "# 可视化量子线路\n",
    "print(to_latex(prog))\n",
    "plot_circuit(prog)\n",
    "\n",
    "# 模拟器计算状态向量，并输出结果\n",
    "result = prob_run_tuple_list(prog, repeat=1)\n",
    "for state, prob in result[0]:\n",
    "    print(state, prob)\n",
    "\n",
    "# 释放量子比特\n",
    "prog.qFree_many(qubits)"
   ]
  },
  {
   "cell_type": "code",
   "execution_count": 240,
   "id": "56e87c9f",
   "metadata": {},
   "outputs": [
    {
     "name": "stdout",
     "output_type": "stream",
     "text": [
      "{'0000': 495, '0001': 505}\n"
     ]
    }
   ],
   "source": [
    "from pyqpanda import *\n",
    "\n",
    "if __name__ == \"__main__\":\n",
    "\n",
    "    qvm = CPUQVM()\n",
    "    qvm.init_qvm()\n",
    "    qubits = qvm.qAlloc_many(4)\n",
    "    cbits = qvm.cAlloc_many(4)\n",
    "\n",
    "    # 构建量子程序\n",
    "    prog = QProg()\n",
    "    circuit = QCircuit()\n",
    "\n",
    "    circuit << H(qubits[0]) \\\n",
    "            << CNOT(qubits[1], qubits[0])\n",
    "    prog << circuit << Measure(qubits[0], cbits[0])\n",
    "\n",
    "    # 量子程序运行1000次，并返回测量结果\n",
    "    result = qvm.run_with_configuration(prog, cbits, 1000)\n",
    "\n",
    "    # 打印量子态在量子程序多次运行结果中出现的次数\n",
    "    print(result)"
   ]
  },
  {
   "cell_type": "code",
   "execution_count": 245,
   "id": "a2b995c8",
   "metadata": {},
   "outputs": [
    {
     "name": "stdout",
     "output_type": "stream",
     "text": [
      "{'0000': 516, '0001': 484}\n"
     ]
    }
   ],
   "source": [
    "prog.insert(Measure(qubits[0], cbits[0]))\n",
    "prog.insert(Measure(qubits[1], cbits[1]))\n",
    "result = qvm.run_with_configuration(prog, cbits, 1000)\n",
    "print(result)"
   ]
  },
  {
   "attachments": {},
   "cell_type": "markdown",
   "id": "1fb7d4c1",
   "metadata": {},
   "source": [
    "第一问线路"
   ]
  },
  {
   "cell_type": "code",
   "execution_count": 201,
   "id": "143ccae6",
   "metadata": {},
   "outputs": [],
   "source": [
    "from pyqpanda import *\n",
    "\n",
    "\n",
    "if __name__ == \"__main__\":\n",
    "    x = input()\n",
    "    \n",
    "    qvm = CPUQVM()\n",
    "    qvm.init_qvm()\n",
    "    \n",
    "\n",
    "    qubits = qvm.qAlloc_many(3)\n",
    "    cbits = qvm.cAlloc_many(2)\n",
    "    cir_encode=Encode()\n",
    "    cir_encode.basic_encode(qubits,x)\n",
    "\n",
    "    prog = QProg()\n",
    "    prog<<cir_encode.get_circuit()\n",
    "    encode_qubits=cir_encode.get_out_qubits()\n",
    "    prog<<H(qubits[0])<<CNOT(qubits[0],qubits[1])\n",
    "    "
   ]
  },
  {
   "attachments": {},
   "cell_type": "markdown",
   "id": "285ff5a0",
   "metadata": {},
   "source": [
    "第二问线路"
   ]
  },
  {
   "cell_type": "code",
   "execution_count": 202,
   "id": "70ef440c",
   "metadata": {},
   "outputs": [
    {
     "data": {
      "text/plain": [
       "<pyqpanda.pyQPanda.QProg at 0x22effbb76f0>"
      ]
     },
     "execution_count": 202,
     "metadata": {},
     "output_type": "execute_result"
    }
   ],
   "source": [
    "the=float(input())\n",
    "prog<<RY(qubits[2],the)<<CNOT(qubits[2],qubits[1])<<H(qubits[2])<<Measure(qubits[1], cbits[0])<<Measure(qubits[2],cbits[1])\n"
   ]
  },
  {
   "attachments": {},
   "cell_type": "markdown",
   "id": "3891fb69",
   "metadata": {},
   "source": [
    "Qif线路"
   ]
  },
  {
   "cell_type": "code",
   "execution_count": 203,
   "id": "82b2429f",
   "metadata": {},
   "outputs": [
    {
     "name": "stdout",
     "output_type": "stream",
     "text": [
      "[(0, 0.8234596611643216), (1, 0.17654033883568004)]\n"
     ]
    }
   ],
   "source": [
    "crx_true=QProg()\n",
    "crx_flase=QProg()\n",
    "crx_true<<X(qubits[0])\n",
    "qifx=QIfProg(cbits[0]==1,crx_true,crx_flase)\n",
    "crz_true=QProg()\n",
    "crz_flase=QProg()\n",
    "crz_true<<Z(qubits[0])\n",
    "qifz=QIfProg(cbits[1]==1,crz_true,crz_flase)\n",
    "prog<<qifx<<qifz\n",
    "result = qvm.prob_run_tuple_list(prog, qubits[0], -1)\n",
    "print(result)\n",
    "\n"
   ]
  },
  {
   "cell_type": "code",
   "execution_count": 1,
   "id": "c954e427",
   "metadata": {},
   "outputs": [
    {
     "data": {
      "text/html": [
       "<pre style=\"word-wrap: normal;white-space: pre;background: #fff0;line-height: 1.1;font-family: &quot;Courier New&quot;,Courier,monospace\">     ┌──────┐\n",
       "q_0: ┤0     ├\n",
       "     │      │\n",
       "q_1: ┤1     ├\n",
       "     │  QFT │\n",
       "q_2: ┤2     ├\n",
       "     │      │\n",
       "q_3: ┤3     ├\n",
       "     └──────┘</pre>"
      ],
      "text/plain": [
       "     ┌──────┐\n",
       "q_0: ┤0     ├\n",
       "     │      │\n",
       "q_1: ┤1     ├\n",
       "     │  QFT │\n",
       "q_2: ┤2     ├\n",
       "     │      │\n",
       "q_3: ┤3     ├\n",
       "     └──────┘"
      ]
     },
     "execution_count": 1,
     "metadata": {},
     "output_type": "execute_result"
    }
   ],
   "source": [
    "from qiskit import QuantumCircuit\n",
    "from qiskit.circuit.library import QFT\n",
    "\n",
    "num_qubits = 4\n",
    "qft = QFT(num_qubits)\n",
    "\n",
    "qc = QuantumCircuit(num_qubits)\n",
    "qc.append(qft, range(num_qubits))\n",
    "qc.draw('text')"
   ]
  },
  {
   "cell_type": "code",
   "execution_count": 1,
   "id": "d01c5975",
   "metadata": {},
   "outputs": [
    {
     "ename": "ImportError",
     "evalue": "cannot import name 'BaseBackend' from 'qiskit.providers' (d:\\zsy\\anaconda\\lib\\site-packages\\qiskit\\providers\\__init__.py)",
     "output_type": "error",
     "traceback": [
      "\u001b[1;31m---------------------------------------------------------------------------\u001b[0m",
      "\u001b[1;31mImportError\u001b[0m                               Traceback (most recent call last)",
      "\u001b[1;32md:\\zsy\\python\\python\\Untitled.ipynb 单元格 24\u001b[0m in \u001b[0;36m<cell line: 1>\u001b[1;34m()\u001b[0m\n\u001b[1;32m----> <a href='vscode-notebook-cell:/d%3A/zsy/python/python/Untitled.ipynb#X32sZmlsZQ%3D%3D?line=0'>1</a>\u001b[0m \u001b[39mfrom\u001b[39;00m \u001b[39mqiskit\u001b[39;00m\u001b[39m.\u001b[39;00m\u001b[39maqua\u001b[39;00m\u001b[39m.\u001b[39;00m\u001b[39malgorithms\u001b[39;00m \u001b[39mimport\u001b[39;00m QPE\n\u001b[0;32m      <a href='vscode-notebook-cell:/d%3A/zsy/python/python/Untitled.ipynb#X32sZmlsZQ%3D%3D?line=1'>2</a>\u001b[0m \u001b[39mfrom\u001b[39;00m \u001b[39mqiskit\u001b[39;00m\u001b[39m.\u001b[39;00m\u001b[39maqua\u001b[39;00m\u001b[39m.\u001b[39;00m\u001b[39mcomponents\u001b[39;00m\u001b[39m.\u001b[39;00m\u001b[39miqfts\u001b[39;00m \u001b[39mimport\u001b[39;00m Standard\n\u001b[0;32m      <a href='vscode-notebook-cell:/d%3A/zsy/python/python/Untitled.ipynb#X32sZmlsZQ%3D%3D?line=2'>3</a>\u001b[0m \u001b[39mfrom\u001b[39;00m \u001b[39mqiskit\u001b[39;00m\u001b[39m.\u001b[39;00m\u001b[39maqua\u001b[39;00m\u001b[39m.\u001b[39;00m\u001b[39mcomponents\u001b[39;00m\u001b[39m.\u001b[39;00m\u001b[39minitial_states\u001b[39;00m \u001b[39mimport\u001b[39;00m Custom\n",
      "File \u001b[1;32md:\\zsy\\anaconda\\lib\\site-packages\\qiskit\\aqua\\__init__.py:76\u001b[0m, in \u001b[0;36m<module>\u001b[1;34m\u001b[0m\n\u001b[0;32m     74\u001b[0m \u001b[39mfrom\u001b[39;00m \u001b[39m.\u001b[39;00m\u001b[39mmissing_optional_library_error\u001b[39;00m \u001b[39mimport\u001b[39;00m MissingOptionalLibraryError\n\u001b[0;32m     75\u001b[0m \u001b[39mfrom\u001b[39;00m \u001b[39m.\u001b[39;00m\u001b[39maqua_globals\u001b[39;00m \u001b[39mimport\u001b[39;00m aqua_globals\n\u001b[1;32m---> 76\u001b[0m \u001b[39mfrom\u001b[39;00m \u001b[39m.\u001b[39;00m\u001b[39mquantum_instance\u001b[39;00m \u001b[39mimport\u001b[39;00m QuantumInstance\n\u001b[0;32m     77\u001b[0m \u001b[39mfrom\u001b[39;00m \u001b[39m.\u001b[39;00m\u001b[39malgorithms\u001b[39;00m \u001b[39mimport\u001b[39;00m QuantumAlgorithm\n\u001b[0;32m     78\u001b[0m \u001b[39mfrom\u001b[39;00m \u001b[39m.\u001b[39;00m\u001b[39m_logging\u001b[39;00m \u001b[39mimport\u001b[39;00m (QiskitLogDomains,\n\u001b[0;32m     79\u001b[0m                        get_logging_level,\n\u001b[0;32m     80\u001b[0m                        set_logging_level,\n\u001b[1;32m   (...)\u001b[0m\n\u001b[0;32m     83\u001b[0m                        get_qiskit_aqua_logging,\n\u001b[0;32m     84\u001b[0m                        set_qiskit_aqua_logging)\n",
      "File \u001b[1;32md:\\zsy\\anaconda\\lib\\site-packages\\qiskit\\aqua\\quantum_instance.py:21\u001b[0m, in \u001b[0;36m<module>\u001b[1;34m\u001b[0m\n\u001b[0;32m     18\u001b[0m \u001b[39mimport\u001b[39;00m \u001b[39mtime\u001b[39;00m\n\u001b[0;32m     19\u001b[0m \u001b[39mimport\u001b[39;00m \u001b[39mnumpy\u001b[39;00m \u001b[39mas\u001b[39;00m \u001b[39mnp\u001b[39;00m\n\u001b[1;32m---> 21\u001b[0m \u001b[39mfrom\u001b[39;00m \u001b[39mqiskit\u001b[39;00m\u001b[39m.\u001b[39;00m\u001b[39mproviders\u001b[39;00m \u001b[39mimport\u001b[39;00m Backend, BaseBackend\n\u001b[0;32m     22\u001b[0m \u001b[39mfrom\u001b[39;00m \u001b[39mqiskit\u001b[39;00m\u001b[39m.\u001b[39;00m\u001b[39mtranspiler\u001b[39;00m \u001b[39mimport\u001b[39;00m CouplingMap, PassManager\n\u001b[0;32m     23\u001b[0m \u001b[39mfrom\u001b[39;00m \u001b[39mqiskit\u001b[39;00m\u001b[39m.\u001b[39;00m\u001b[39mtranspiler\u001b[39;00m\u001b[39m.\u001b[39;00m\u001b[39mlayout\u001b[39;00m \u001b[39mimport\u001b[39;00m Layout\n",
      "\u001b[1;31mImportError\u001b[0m: cannot import name 'BaseBackend' from 'qiskit.providers' (d:\\zsy\\anaconda\\lib\\site-packages\\qiskit\\providers\\__init__.py)"
     ]
    }
   ],
   "source": [
    "from qiskit.aqua.algorithms import QPE\n",
    "from qiskit.aqua.components.iqfts import Standard\n",
    "from qiskit.aqua.components.initial_states import Custom\n",
    "from qiskit.aqua.operators import MatrixOperator\n",
    "from qiskit import BasicAer\n",
    "import numpy as np\n",
    "\n",
    "# Set up the Hamiltonian operator and the initial state\n",
    "hamiltonian = MatrixOperator(matrix=np.array([[1, 1], [1, -1]]) / np.sqrt(2))\n",
    "initial_state = Custom(hamiltonian.num_qubits, state='uniform')\n",
    "\n",
    "# Set up the IQFT and the backend\n",
    "iqft = Standard(hamiltonian.num_qubits)\n",
    "backend = BasicAer.get_backend('statevector_simulator')\n",
    "\n",
    "# Set up and run the QPE algorithm\n",
    "qpe = QPE(hamiltonian, initial_state, iqft, num_time_slices=1,\n",
    "          num_ancillae=9, expansion_mode='suzuki', expansion_order=2,\n",
    "          shallow_circuit_concat=True)\n",
    "qpe.run(backend)"
   ]
  },
  {
   "cell_type": "code",
   "execution_count": 19,
   "id": "a39a3e76",
   "metadata": {},
   "outputs": [
    {
     "name": "stdout",
     "output_type": "stream",
     "text": [
      "f(0.0) = 1\n",
      "f(0.01) = 0.999950000416665\n",
      "f(0.02) = 0.999800006666578\n",
      "f(0.03) = 0.999550033748988\n",
      "f(0.04) = 0.999200106660978\n",
      "f(0.05) = 0.998750260394966\n",
      "f(0.06) = 0.998200539935204\n",
      "f(0.07) = 0.997551000253280\n",
      "f(0.08) = 0.996801706302619\n",
      "f(0.09) = 0.995952733011994\n",
      "f(0.1) = 0.995004165278026\n",
      "f(0.11) = 0.993956097956697\n",
      "f(0.12) = 0.992808635853866\n",
      "f(0.13) = 0.991561893714788\n",
      "f(0.14) = 0.990215996212637\n",
      "f(0.15) = 0.988771077936042\n",
      "f(0.16) = 0.987227283375627\n",
      "f(0.17) = 0.985584766909561\n",
      "f(0.18) = 0.983843692788121\n",
      "f(0.19) = 0.982004235117270\n",
      "f(0.2) = 0.980066577841242\n",
      "f(0.21) = 0.978030914724148\n",
      "f(0.22) = 0.975897449330606\n",
      "f(0.23) = 0.973666395005375\n",
      "f(0.24) = 0.971337974852030\n",
      "f(0.25) = 0.968912421710645\n",
      "f(0.26) = 0.966389978134513\n",
      "f(0.27) = 0.963770896365891\n",
      "f(0.28) = 0.961055438310771\n",
      "f(0.29) = 0.958243875512697\n",
      "f(0.3) = 0.955336489125606\n",
      "f(0.31) = 0.952333569885713\n",
      "f(0.32) = 0.949235418082441\n",
      "f(0.33) = 0.946042343528387\n",
      "f(0.34) = 0.942754665528346\n",
      "f(0.35) = 0.939372712847379\n",
      "f(0.36) = 0.935896823677935\n",
      "f(0.37) = 0.932327345606034\n",
      "f(0.38) = 0.928664635576510\n",
      "f(0.39) = 0.924909059857313\n",
      "f(0.4) = 0.921060994002885\n",
      "f(0.41) = 0.917120822816605\n",
      "f(0.42) = 0.913088940312308\n",
      "f(0.43) = 0.908965749674885\n",
      "f(0.44) = 0.904751663219963\n",
      "f(0.45) = 0.900447102352677\n",
      "f(0.46) = 0.896052497525525\n",
      "f(0.47) = 0.891568288195329\n",
      "f(0.48) = 0.886994922779284\n",
      "f(0.49) = 0.882332858610122\n",
      "f(0.5) = 0.877582561890373\n",
      "f(0.51) = 0.872744507645751\n",
      "f(0.52) = 0.867819179677650\n",
      "f(0.53) = 0.862807070514761\n",
      "f(0.54) = 0.857708681363824\n",
      "f(0.55) = 0.852524522059506\n",
      "f(0.56) = 0.847255111013416\n",
      "f(0.57) = 0.841900975162269\n",
      "f(0.58) = 0.836462649915187\n",
      "f(0.59) = 0.830940679100163\n",
      "f(0.6) = 0.825335614909678\n",
      "f(0.61) = 0.819648017845479\n",
      "f(0.62) = 0.813878456662534\n",
      "f(0.63) = 0.808027508312152\n",
      "f(0.64) = 0.802095757884293\n",
      "f(0.65) = 0.796083798549056\n",
      "f(0.66) = 0.789992231497365\n",
      "f(0.67) = 0.783821665880849\n",
      "f(0.68) = 0.777572718750928\n",
      "f(0.69) = 0.771246014997107\n",
      "f(0.7) = 0.764842187284488\n",
      "f(0.71) = 0.758361875990508\n",
      "f(0.72) = 0.751805729140895\n",
      "f(0.73) = 0.745174402344870\n",
      "f(0.74) = 0.738468558729588\n",
      "f(0.75) = 0.731688868873821\n",
      "f(0.76) = 0.724836010740905\n",
      "f(0.77) = 0.717910669610943\n",
      "f(0.78) = 0.710913538012277\n",
      "f(0.79) = 0.703845315652236\n",
      "f(0.8) = 0.696706709347165\n",
      "f(0.81) = 0.689498432951747\n",
      "f(0.82) = 0.682221207287614\n",
      "f(0.83) = 0.674875760071267\n",
      "f(0.84) = 0.667462825841308\n",
      "f(0.85) = 0.659983145884982\n",
      "f(0.86) = 0.652437468164052\n",
      "f(0.87) = 0.644826547240001\n",
      "f(0.88) = 0.637151144198580\n",
      "f(0.89) = 0.629412026573697\n",
      "f(0.9) = 0.621609968270665\n",
      "f(0.91) = 0.613745749488812\n",
      "f(0.92) = 0.605820156643463\n",
      "f(0.93) = 0.597833982287298\n",
      "f(0.94) = 0.589788025031098\n",
      "f(0.95) = 0.581683089463883\n",
      "f(0.96) = 0.573519986072457\n",
      "f(0.97) = 0.565299531160354\n",
      "f(0.98) = 0.557022546766217\n",
      "f(0.99) = 0.548689860581588\n",
      "f(1.0) = 0.540302305868140\n",
      "f(1.01) = 0.531860721374355\n",
      "f(1.02) = 0.523365951251650\n",
      "f(1.03) = 0.514818844969955\n",
      "f(1.04) = 0.506220257232778\n",
      "f(1.05) = 0.497571047891727\n",
      "f(1.06) = 0.488872081860527\n",
      "f(1.07) = 0.480124229028534\n",
      "f(1.08) = 0.471328364173740\n",
      "f(1.09) = 0.462485366875301\n",
      "f(1.1) = 0.453596121425577\n",
      "f(1.11) = 0.444661516741707\n",
      "f(1.12) = 0.435682446276712\n",
      "f(1.13) = 0.426659807930157\n",
      "f(1.14) = 0.417594503958358\n",
      "f(1.15) = 0.408487440884157\n",
      "f(1.16) = 0.399339529406273\n",
      "f(1.17) = 0.390151684308230\n",
      "f(1.18) = 0.380924824366882\n",
      "f(1.19) = 0.371659872260533\n",
      "f(1.2) = 0.362357754476674\n",
      "f(1.21) = 0.353019401219330\n",
      "f(1.22) = 0.343645746316047\n",
      "f(1.23) = 0.334237727124503\n",
      "f(1.24) = 0.324796284438776\n",
      "f(1.25) = 0.315322362395269\n",
      "f(1.26) = 0.305816908378289\n",
      "f(1.27) = 0.296280872925319\n",
      "f(1.28) = 0.286715209631955\n",
      "f(1.29) = 0.277120875056557\n",
      "f(1.3) = 0.267498828624587\n",
      "f(1.31) = 0.257850032532670\n",
      "f(1.32) = 0.248175451652373\n",
      "f(1.33) = 0.238476053433723\n",
      "f(1.34) = 0.228752807808459\n",
      "f(1.35) = 0.219006687093041\n",
      "f(1.36) = 0.209238665891419\n",
      "f(1.37) = 0.199449720997573\n",
      "f(1.38) = 0.189640831297834\n",
      "f(1.39) = 0.179812977672999\n",
      "f(1.4) = 0.169967142900241\n",
      "f(1.41) = 0.160104311554831\n",
      "f(1.42) = 0.150225469911685\n",
      "f(1.43) = 0.140331605846736\n",
      "f(1.44) = 0.130423708738145\n",
      "f(1.45) = 0.120502769367366\n",
      "f(1.46) = 0.110569779820069\n",
      "f(1.47) = 0.100625733386931\n",
      "f(1.48) = 0.0906716244643087\n",
      "f(1.49) = 0.0807084484547994\n",
      "f(1.5) = 0.0707372016677015\n",
      "f(1.51) = 0.0607588812193844\n",
      "f(1.52) = 0.0507744849335774\n",
      "f(1.53) = 0.0407850112415891\n",
      "f(1.54) = 0.0307914590824639\n",
      "f(1.55) = 0.0207948278030897\n",
      "f(1.56) = 0.0107961170582644\n",
      "f(1.57) = 0.000796326710729868\n",
      "f(1.58) = -0.00920354326881228\n",
      "f(1.59) = -0.0192024929016970\n",
      "f(1.6) = -0.0291995223012939\n",
      "f(1.61) = -0.0391936317729933\n",
      "f(1.62) = -0.0491838219141770\n",
      "f(1.63) = -0.0591690937141555\n",
      "f(1.64) = -0.0691484486540700\n",
      "f(1.65) = -0.0791208888067430\n",
      "f(1.66) = -0.0890854169364694\n",
      "f(1.67) = -0.0990410365987397\n",
      "f(1.68) = -0.108986752239884\n",
      "f(1.69) = -0.118921569296627\n",
      "f(1.7) = -0.128844494295541\n",
      "f(1.71) = -0.138754534952396\n",
      "f(1.72) = -0.148650700271385\n",
      "f(1.73) = -0.158532000644222\n",
      "f(1.74) = -0.168397447949103\n",
      "f(1.75) = -0.178246055649522\n",
      "f(1.76) = -0.188076838892913\n",
      "f(1.77) = -0.197888814609146\n",
      "f(1.78) = -0.207681001608825\n",
      "f(1.79) = -0.217452420681411\n",
      "f(1.8) = -0.227202094693139\n",
      "f(1.81) = -0.236929048684733\n",
      "f(1.82) = -0.246632309968899\n",
      "f(1.83) = -0.256310908227595\n",
      "f(1.84) = -0.265963875609061\n",
      "f(1.85) = -0.275590246824603\n",
      "f(1.86) = -0.285189059245121\n",
      "f(1.87) = -0.294759352997373\n",
      "f(1.88) = -0.304300171059957\n",
      "f(1.89) = -0.313810559359020\n",
      "f(1.9) = -0.323289566863657\n",
      "f(1.91) = -0.332736245681016\n",
      "f(1.92) = -0.342149651151087\n",
      "f(1.93) = -0.351528841941170\n",
      "f(1.94) = -0.360872880140000\n",
      "f(1.95) = -0.370180831351545\n",
      "f(1.96) = -0.379451764788440\n",
      "f(1.97) = -0.388684753365068\n",
      "f(1.98) = -0.397878873790266\n",
      "f(1.99) = -0.407033206659652\n",
      "f(2.0) = -0.416146836547570\n",
      "f(2.01) = -0.425218852098624\n",
      "f(2.02) = -0.434248346118822\n",
      "f(2.03) = -0.443234415666284\n",
      "f(2.04) = -0.452176162141547\n",
      "f(2.05) = -0.461072691377413\n",
      "f(2.06) = -0.469923113728373\n",
      "f(2.07) = -0.478726544159570\n",
      "f(2.08) = -0.487482102335295\n",
      "f(2.09) = -0.496188912707028\n",
      "f(2.1) = -0.504846104600990\n",
      "f(2.11) = -0.513452812305205\n",
      "f(2.12) = -0.522008175156076\n",
      "f(2.13) = -0.530511337624448\n",
      "f(2.14) = -0.538961449401163\n",
      "f(2.15) = -0.547357665482084\n",
      "f(2.16) = -0.555699146252601\n",
      "f(2.17) = -0.563985057571591\n",
      "f(2.18) = -0.572214570854828\n",
      "f(2.19) = -0.580386863157842\n",
      "f(2.2) = -0.588501117258215\n",
      "f(2.21) = -0.596556521737302\n",
      "f(2.22) = -0.604552271061368\n",
      "f(2.23) = -0.612487565662146\n",
      "f(2.24) = -0.620361612016793\n",
      "f(2.25) = -0.628173622727235\n",
      "f(2.26) = -0.635922816598914\n",
      "f(2.27) = -0.643608418718906\n",
      "f(2.28) = -0.651229660533403\n",
      "f(2.29) = -0.658785779924580\n",
      "f(2.3) = -0.666276021286798\n",
      "f(2.31) = -0.673699635602166\n",
      "f(2.32) = -0.681055880515444\n",
      "f(2.33) = -0.688344020408273\n",
      "f(2.34) = -0.695563326472744\n",
      "f(2.35) = -0.702713076784271\n",
      "f(2.36) = -0.709792556373786\n",
      "f(2.37) = -0.716801057299236\n",
      "f(2.38) = -0.723737878716376\n",
      "f(2.39) = -0.730602326948851\n",
      "f(2.4) = -0.737393715557565\n",
      "f(2.41) = -0.744111365409325\n",
      "f(2.42) = -0.750754604744752\n",
      "f(2.43) = -0.757322769245460\n",
      "f(2.44) = -0.763815202100478\n",
      "f(2.45) = -0.770231254071944\n",
      "f(2.46) = -0.776570283560018\n",
      "f(2.47) = -0.782831656667046\n",
      "f(2.48) = -0.789014747260948\n",
      "f(2.49) = -0.795118937037829\n",
      "f(2.5) = -0.801143615583817\n",
      "f(2.51) = -0.807088180436091\n",
      "f(2.52) = -0.812952037143136\n",
      "f(2.53) = -0.818734599324187\n",
      "f(2.54) = -0.824435288727864\n",
      "f(2.55) = -0.830053535289999\n",
      "f(2.56) = -0.835588777190638\n",
      "f(2.57) = -0.841040460910228\n",
      "f(2.58) = -0.846408041284965\n",
      "f(2.59) = -0.851690981561313\n",
      "f(2.6) = -0.856888753449675\n",
      "f(2.61) = -0.862000837177223\n",
      "f(2.62) = -0.867026721539878\n",
      "f(2.63) = -0.871965903953429\n",
      "f(2.64) = -0.876817890503787\n",
      "f(2.65) = -0.881582195996380\n",
      "f(2.66) = -0.886258344004670\n",
      "f(2.67) = -0.890845866917802\n",
      "f(2.68) = -0.895344305987354\n",
      "f(2.69) = -0.899753211373219\n",
      "f(2.7) = -0.904072142188589\n",
      "f(2.71) = -0.908300666544039\n",
      "f(2.72) = -0.912438361590722\n",
      "f(2.73) = -0.916484813562645\n",
      "f(2.74) = -0.920439617818055\n",
      "f(2.75) = -0.924302378879897\n",
      "f(2.76) = -0.928072710475365\n",
      "f(2.77) = -0.931750235574527\n",
      "f(2.78) = -0.935334586428028\n",
      "f(2.79) = -0.938825404603866\n",
      "f(2.8) = -0.942222341023233\n",
      "f(2.81) = -0.945525055995430\n",
      "f(2.82) = -0.948733219251827\n",
      "f(2.83) = -0.951846509978894\n",
      "f(2.84) = -0.954864616850283\n",
      "f(2.85) = -0.957787238057963\n",
      "f(2.86) = -0.960614081342395\n",
      "f(2.87) = -0.963344864021763\n",
      "f(2.88) = -0.965979313020240\n",
      "f(2.89) = -0.968517164895297\n",
      "f(2.9) = -0.970958165864050\n",
      "f(2.91) = -0.973302071828636\n",
      "f(2.92) = -0.975548648400617\n",
      "f(2.93) = -0.977697670924434\n",
      "f(2.94) = -0.979748924499863\n",
      "f(2.95) = -0.981702204003502\n",
      "f(2.96) = -0.983557314109296\n",
      "f(2.97) = -0.985314069308063\n",
      "f(2.98) = -0.986972293926041\n",
      "f(2.99) = -0.988531822142469\n",
      "f(3.0) = -0.989992498006154\n",
      "f(3.01) = -0.991354175451085\n",
      "f(3.02) = -0.992616718311021\n",
      "f(3.03) = -0.993780000333125\n",
      "f(3.04) = -0.994843905190585\n",
      "f(3.05) = -0.995808326494241\n",
      "f(3.06) = -0.996673167803235\n",
      "f(3.07) = -0.997438342634654\n",
      "f(3.08) = -0.998103774472169\n",
      "f(3.09) = -0.998669396773712\n",
      "f(3.1) = -0.999135152978100\n",
      "f(3.11) = -0.999500996510724\n",
      "f(3.12) = -0.999766890788185\n",
      "f(3.13) = -0.999932809221963\n"
     ]
    }
   ],
   "source": [
    "from sympy import *\n",
    "\n",
    "def cos_series(x, terms):\n",
    "    # 定义符号变量 x\n",
    "    x_sym = symbols('x')\n",
    "    \n",
    "    # 初始化结果变量\n",
    "    result = 0\n",
    "    \n",
    "    # 计算级数的每一项\n",
    "    for n in range(terms):\n",
    "        # 计算当前项的系数和值\n",
    "        coef = Rational((-1)**n, factorial(2*n))\n",
    "        term = coef * x_sym**(2*n)\n",
    "        \n",
    "        # 将当前项累加到结果中\n",
    "        result += term\n",
    "    \n",
    "    # 将符号变量 x 替换为数值 x，并将结果化简为最简分数\n",
    "    result = result.subs(x_sym, x).simplify()\n",
    "    \n",
    "    return result\n",
    "\n",
    "# 计算 x 在区间 [0, pi] 上的余弦级数，并使用分数表示每一项\n",
    "for x in range(0, int(math.pi*100), 1):\n",
    "    x /= 100\n",
    "    if x <= math.pi:\n",
    "        series = cos_series(x, 10)\n",
    "        series_str = str(series).replace(\"**\", \"^\")\n",
    "        print(f\"f({x}) = {series_str}\")"
   ]
  },
  {
   "cell_type": "code",
   "execution_count": 8,
   "id": "a0feab40",
   "metadata": {},
   "outputs": [],
   "source": [
    "from pyqpanda import *\n",
    "import math\n",
    "import numpy as np\n"
   ]
  },
  {
   "cell_type": "code",
   "execution_count": 9,
   "id": "dbc09234",
   "metadata": {},
   "outputs": [],
   "source": [
    "x=input()\n",
    "qvm = CPUQVM()\n",
    "\n",
    "qvm.init_qvm()\n",
    "    \n",
    "\n",
    "qubits = qvm.qAlloc_many(4)\n",
    "cbits = qvm.cAlloc_many(2)\n",
    "cir_encode=Encode()\n",
    "cir_encode.basic_encode(qubits,x)\n",
    "\n",
    "cir =QCircuit()\n",
    "cir_encode=Encode()\n",
    "cir_encode.basic_encode(qubits,x)\n",
    "cir<<cir_encode.get_circuit()\n",
    "cir<<H(qubits[0])\n",
    "for i in range(3):\n",
    "    cir<<CNOT(qubits[i],qubits[i+1])\n",
    "\n"
   ]
  },
  {
   "cell_type": "code",
   "execution_count": 15,
   "id": "e7941268",
   "metadata": {},
   "outputs": [
    {
     "name": "stdout",
     "output_type": "stream",
     "text": [
      "{}\n"
     ]
    }
   ],
   "source": [
    "import pyqpanda as pq\n",
    "import numpy as np\n",
    "import scipy as sp\n",
    "\n",
    "def ghz(qlist):\n",
    "    cir = pq.QCircuit()\n",
    "    cir<<pq.H(qlist[0])\n",
    "    for i in range(3):\n",
    "        cir<<pq.CNOT(qlist[i],qlist[i+1])\n",
    "    return cir\n",
    "\n",
    "def w(qlist):\n",
    "    cir = pq.QCircuit()\n",
    "    cir<<pq.RY(qlist[0],1.910633)\n",
    "    cir<<pq.RX(qlist[1],0.261799)<<pq.RZ(qlist[1],0.261799)<<pq.RX(qlist[1],0.523599)<<pq.RZ(qlist[1],0.261799)<<pq.RX(qlist[1],0.523599)\n",
    "    for i in range(4):\n",
    "        cir<<pq.RX(qlist[1],1.570796)\n",
    "    cir<<pq.CNOT(qlist[1],qlist[2])<<pq.CNOT(qlist[0],qlist[1])<<pq.X(qlist[0])\n",
    "    return cir\n",
    "\n",
    "def qft(qlist):\n",
    "    cir = pq.QCircuit()\n",
    "    cir<<pq.H(qlist[2])\n",
    "    cir<<pq.H(qlist[1])<<pq.CNOT(qlist[1],qlist[2])<<pq.RZ(qlist[1],0.785398)<<pq.CNOT(qlist[1],qlist[2])<<pq.RZ(qlist[1],-0.785398)<<pq.H(qlist[1])\n",
    "    cir<<pq.H(qlist[2])<<pq.CNOT(qlist[2],qlist[1])<<pq.CNOT(qlist[1],qlist[0])<<pq.RZ(qlist[2],0.392699)<<pq.CNOT(qlist[2],qlist[1])<<pq.CNOT(qlist[1],qlist[0])<<pq.RZ(qlist[2],-0.392699)<<pq.H(qlist[2])\n",
    "    cir<<pq.H(qlist[1])\n",
    "    cir<<pq.H(qlist[0])<<pq.CNOT(qlist[0],qlist[1])<<pq.RZ(qlist[0],0.785398)<<pq.CNOT(qlist[0],qlist[1])<<pq.RZ(qlist[0],-0.785398)<<pq.H(qlist[0])\n",
    "    cir<<pq.H(qlist[0])\n",
    "\n",
    "    return cir\n",
    "    \n",
    "\n",
    "def question1(quantum_state_vector,qlist):\n",
    "    cir = pq.QCircuit()\n",
    "    return cir\n",
    "\n",
    "\n",
    "def question2(unitary_matrix,qlist):\n",
    "    cir = pq.QCircuit()\n",
    "    # create a circuit which matrix form is same to the input matrix, and only use basic gates\n",
    "    cir << pq.I(qlist)\n",
    "    return cir\n",
    "if __name__ == \"__main__\":\n",
    "    qvm = pq.CPUQVM()\n",
    "    qvm.init_qvm()\n",
    "    qlist = qvm.qAlloc_many(6)\n",
    "    quantum_state_vector1=eval(input())\n",
    "    quantum_state_vector=np.array(quantum_state_vector1,dtype=str)\n",
    "    question1(quantum_state_vector,qlist)"
   ]
  },
  {
   "cell_type": "code",
   "execution_count": 2,
   "id": "ec0c628b",
   "metadata": {},
   "outputs": [
    {
     "ename": "TypeError",
     "evalue": "'Qubit' object is not iterable",
     "output_type": "error",
     "traceback": [
      "\u001b[1;31m---------------------------------------------------------------------------\u001b[0m",
      "\u001b[1;31mTypeError\u001b[0m                                 Traceback (most recent call last)",
      "\u001b[1;32md:\\zsy\\python\\python\\Untitled.ipynb 单元格 29\u001b[0m in \u001b[0;36m<cell line: 18>\u001b[1;34m()\u001b[0m\n\u001b[0;32m     <a href='vscode-notebook-cell:/d%3A/zsy/python/python/Untitled.ipynb#X40sZmlsZQ%3D%3D?line=16'>17</a>\u001b[0m U \u001b[39m=\u001b[39m [\u001b[39m1\u001b[39m,\u001b[39m0\u001b[39m,\u001b[39m0\u001b[39m,\u001b[39m1\u001b[39m]\u001b[39m# 要实现的酉矩阵\u001b[39;00m\n\u001b[0;32m     <a href='vscode-notebook-cell:/d%3A/zsy/python/python/Untitled.ipynb#X40sZmlsZQ%3D%3D?line=17'>18</a>\u001b[0m \u001b[39mfor\u001b[39;00m i \u001b[39min\u001b[39;00m \u001b[39mrange\u001b[39m(n):\n\u001b[1;32m---> <a href='vscode-notebook-cell:/d%3A/zsy/python/python/Untitled.ipynb#X40sZmlsZQ%3D%3D?line=18'>19</a>\u001b[0m     circ\u001b[39m.\u001b[39;49mappend(QFT(n, do_swaps\u001b[39m=\u001b[39;49m\u001b[39mFalse\u001b[39;49;00m, inverse\u001b[39m=\u001b[39;49m\u001b[39mTrue\u001b[39;49;00m), qargs\u001b[39m=\u001b[39;49mqreg_q[n])\n\u001b[0;32m     <a href='vscode-notebook-cell:/d%3A/zsy/python/python/Untitled.ipynb#X40sZmlsZQ%3D%3D?line=19'>20</a>\u001b[0m     circ\u001b[39m.\u001b[39mappend(CU, qargs\u001b[39m=\u001b[39m[qreg_q[i], qreg_q[n]])\n\u001b[0;32m     <a href='vscode-notebook-cell:/d%3A/zsy/python/python/Untitled.ipynb#X40sZmlsZQ%3D%3D?line=20'>21</a>\u001b[0m     circ\u001b[39m.\u001b[39mappend(QFT(n, do_swaps\u001b[39m=\u001b[39m\u001b[39mFalse\u001b[39;00m), qargs\u001b[39m=\u001b[39mqreg_q[n])\n",
      "File \u001b[1;32md:\\zsy\\anaconda\\lib\\site-packages\\qiskit\\circuit\\quantumcircuit.py:1252\u001b[0m, in \u001b[0;36mQuantumCircuit.append\u001b[1;34m(self, instruction, qargs, cargs)\u001b[0m\n\u001b[0;32m   1249\u001b[0m     \u001b[39mif\u001b[39;00m is_parameter:\n\u001b[0;32m   1250\u001b[0m         operation \u001b[39m=\u001b[39m copy\u001b[39m.\u001b[39mdeepcopy(operation)\n\u001b[1;32m-> 1252\u001b[0m expanded_qargs \u001b[39m=\u001b[39m [\u001b[39mself\u001b[39m\u001b[39m.\u001b[39mqbit_argument_conversion(qarg) \u001b[39mfor\u001b[39;00m qarg \u001b[39min\u001b[39;00m qargs \u001b[39mor\u001b[39;00m []]\n\u001b[0;32m   1253\u001b[0m expanded_cargs \u001b[39m=\u001b[39m [\u001b[39mself\u001b[39m\u001b[39m.\u001b[39mcbit_argument_conversion(carg) \u001b[39mfor\u001b[39;00m carg \u001b[39min\u001b[39;00m cargs \u001b[39mor\u001b[39;00m []]\n\u001b[0;32m   1255\u001b[0m \u001b[39mif\u001b[39;00m \u001b[39mself\u001b[39m\u001b[39m.\u001b[39m_control_flow_scopes:\n",
      "\u001b[1;31mTypeError\u001b[0m: 'Qubit' object is not iterable"
     ]
    }
   ],
   "source": [
    "from qiskit import QuantumCircuit, QuantumRegister, ClassicalRegister\n",
    "from qiskit.circuit.library import QFT\n",
    "\n",
    "# 创建一个n比特量子寄存器和一个1比特量子寄存器\n",
    "n = 4\n",
    "qreg_q = QuantumRegister(n+1, 'q')\n",
    "creg_c = ClassicalRegister(n, 'c')\n",
    "\n",
    "# 创建一个量子电路\n",
    "circ = QuantumCircuit(qreg_q, creg_c)\n",
    "\n",
    "# 将前n个量子比特进行Hadamard变换\n",
    "for i in range(n):\n",
    "    circ.h(qreg_q[i])\n",
    "\n",
    "# 应用控制U门\n",
    "U = [1,0,0,1]# 要实现的酉矩阵\n",
    "for i in range(n):\n",
    "    circ.append(QFT(n, do_swaps=False, inverse=True), qargs=qreg_q[n])\n",
    "    circ.append(CU, qargs=[qreg_q[i], qreg_q[n]])\n",
    "    circ.append(QFT(n, do_swaps=False), qargs=qreg_q[n])\n",
    "\n",
    "# 应用逆QFT变换\n",
    "circ.append(QFT(n, do_swaps=False, inverse=True), qargs=qreg_q[0:n])\n",
    "circ.measure(qreg_q[0:n], creg_c)\n",
    "\n",
    "# 在qasm模拟器上运行量子电路\n",
    "backend = Aer.get_backend('qasm_simulator')\n",
    "job = execute(circ, backend, shots=1024)\n",
    "result = job.result()\n",
    "\n",
    "# 打印结果\n",
    "counts = result.get_counts(circ)\n",
    "print(counts)"
   ]
  },
  {
   "cell_type": "code",
   "execution_count": 2,
   "id": "4db8c7a9",
   "metadata": {},
   "outputs": [
    {
     "name": "stdout",
     "output_type": "stream",
     "text": [
      "Eigenvalues (Energy levels):\n",
      "[ 2.00000000e+00+0.j -6.42809725e-17+0.j -2.00000000e+00+0.j\n",
      "  0.00000000e+00+0.j]\n",
      "\n",
      "Eigenvectors (Wavefunctions):\n",
      "[[ 5.00000000e-01-0.j  7.07106781e-01+0.j  5.00000000e-01-0.j\n",
      "  -0.00000000e+00-0.j]\n",
      " [ 5.00000000e-01-0.j -7.63278329e-17-0.j -5.00000000e-01-0.j\n",
      "   7.07106781e-01+0.j]\n",
      " [ 5.00000000e-01-0.j -1.38777878e-17-0.j -5.00000000e-01-0.j\n",
      "  -7.07106781e-01-0.j]\n",
      " [ 5.00000000e-01+0.j -7.07106781e-01-0.j  5.00000000e-01+0.j\n",
      "  -0.00000000e+00-0.j]]\n"
     ]
    }
   ],
   "source": [
    "import numpy as np\n",
    "from scipy.linalg import eig\n",
    "\n",
    "# 定义系统参数\n",
    "N = 2  # 或者 N = 3\n",
    "\n",
    "# 以下是一个简单的哈密顿量示例（使用Pauli矩阵）\n",
    "# 这个示例适用于自旋1/2的系统，可以根据你的系统更改哈密顿量\n",
    "# 这里只是一个示例，你需要根据你的系统来定义合适的哈密顿量\n",
    "sigma_x = np.array([[0, 1], [1, 0]])\n",
    "sigma_y = np.array([[0, -1j], [1j, 0]])\n",
    "sigma_z = np.array([[1, 0], [0, -1]])\n",
    "\n",
    "# 构建哈密顿量\n",
    "H = np.zeros((2**N, 2**N), dtype=complex)\n",
    "for i in range(N):\n",
    "    # 例如，这里简单地将sigma_x加到哈密顿量中\n",
    "    H += np.kron(np.kron(np.eye(2**i), sigma_x), np.eye(2**(N-i-1)))\n",
    "\n",
    "# 对角化哈密顿量\n",
    "eigenvalues, eigenvectors = eig(H)\n",
    "\n",
    "# 输出结果\n",
    "print(\"Eigenvalues (Energy levels):\")\n",
    "print(eigenvalues)\n",
    "print(\"\\nEigenvectors (Wavefunctions):\")\n",
    "print(eigenvectors)\n",
    "\n",
    "\n"
   ]
  },
  {
   "cell_type": "code",
   "execution_count": 37,
   "id": "8f899904",
   "metadata": {},
   "outputs": [
    {
     "name": "stdout",
     "output_type": "stream",
     "text": [
      "9.116000000000001 12.066 -0.7374999999999998 -0.18437499999999996\n",
      "8.320999999999998 11.195999999999998 -0.71875 -0.36406249999999996\n",
      "7.716 10.606000000000002 -0.7225000000000004 -0.5446875\n",
      "7.011 9.791 -0.6950000000000001 -0.7184375000000001\n"
     ]
    }
   ],
   "source": [
    "import numpy as np\n",
    "x=np.array([8.022,7.848,7.730,7.567,7.432,7.273,7.152,7.011])\n",
    "sum=7.011\n",
    "np.sort(x)\n",
    "r=np.zeros(8)\n",
    "r=np.zeros([10])\n",
    "\n",
    "for i in range(8):\n",
    "    \n",
    "    r[i]=x[i]-x[i-1]\n",
    "    sum+=(r[i]*5)\n",
    "    \n",
    "    r[i]=sum\n",
    "sum=0\n",
    "for i in range(4):\n",
    "    sum+=(r[4+i]-r[i])/4\n",
    "    print(r[4+i],r[i],(r[4+i]-r[i])/4,sum/4)\n",
    "    "
   ]
  },
  {
   "cell_type": "code",
   "execution_count": 39,
   "id": "ce104361",
   "metadata": {},
   "outputs": [
    {
     "name": "stdout",
     "output_type": "stream",
     "text": [
      "88\n",
      "96\n",
      "104\n",
      "112\n",
      "120\n",
      "128\n",
      "136\n",
      "144\n",
      "152\n",
      "160\n"
     ]
    }
   ],
   "source": [
    "sum=88\n",
    "for i in range(10):\n",
    "    sum=88+8*i\n",
    "    print(sum)"
   ]
  }
 ],
 "metadata": {
  "kernelspec": {
   "display_name": "base",
   "language": "python",
   "name": "python3"
  },
  "language_info": {
   "codemirror_mode": {
    "name": "ipython",
    "version": 3
   },
   "file_extension": ".py",
   "mimetype": "text/x-python",
   "name": "python",
   "nbconvert_exporter": "python",
   "pygments_lexer": "ipython3",
   "version": "3.9.12"
  },
  "vscode": {
   "interpreter": {
    "hash": "2407a577ae8ce14840c4c40c8760695df13df1b695ea60134cafee4f04862236"
   }
  }
 },
 "nbformat": 4,
 "nbformat_minor": 5
}
