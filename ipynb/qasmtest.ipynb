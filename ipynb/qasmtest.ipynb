{
 "cells": [
  {
   "cell_type": "code",
   "execution_count": 4,
   "metadata": {},
   "outputs": [
    {
     "ename": "SyntaxError",
     "evalue": "invalid syntax (3231794812.py, line 1)",
     "output_type": "error",
     "traceback": [
      "\u001b[1;36m  Cell \u001b[1;32mIn[4], line 1\u001b[1;36m\u001b[0m\n\u001b[1;33m    OPENQASM 3.0;\u001b[0m\n\u001b[1;37m             ^\u001b[0m\n\u001b[1;31mSyntaxError\u001b[0m\u001b[1;31m:\u001b[0m invalid syntax\n"
     ]
    }
   ],
   "source": [
    "OPENQASM 3.0;\n",
    "// The 'stdgates.inc' include is supported, and the gates are only available\n",
    "// if it has correctly been included.\n",
    "include \"stdgates.inc\";\n",
    "\n",
    "// Parametrised inputs are supported.\n",
    "input float[64] a;\n",
    "\n",
    "qubit[3] q;\n",
    "bit[2] mid;\n",
    "bit[3] out;\n",
    "\n",
    "// Aliasing and re-aliasing are supported.\n",
    "let aliased = q[0:1];\n",
    "\n",
    "// Parametrised gates that make use of the stdlib.\n",
    "gate my_gate(a) c, t {\n",
    "  gphase(a / 2);\n",
    "  ry(a) c;\n",
    "  cx c, t;\n",
    "}\n",
    "\n",
    "// Gate modifiers work as well; this gate is equivalent to `p(-a) c;`.\n",
    "gate my_phase(a) c {\n",
    "  ctrl @ inv @ gphase(a) c;\n",
    "}\n",
    "\n",
    "// We handle mathematical expressions on gate creation and complex indexing\n",
    "// of temporary collections.\n",
    "my_gate(a * 2) aliased[0], q[{1, 2}][0];\n",
    "measure q[0] -> mid[0];\n",
    "measure q[1] -> mid[1];\n",
    "\n",
    "while (mid == \"00\") {\n",
    "  reset q[0];\n",
    "  reset q[1];\n",
    "  my_gate(a) q[0], q[1];\n",
    "  // We support the builtin mathematical symbols.\n",
    "  my_phase(a - pi/2) q[1];\n",
    "  mid[0] = measure q[0];\n",
    "  mid[1] = measure q[1];\n",
    "}\n",
    "\n",
    "// The condition resolver can also handle simple cases that don't look\n",
    "// _exactly_ like equality conditions.\n",
    "if (mid[0]) {\n",
    "  // There is limited support for aliasing within nested scopes.\n",
    "  let inner_alias = q[{0, 1}];\n",
    "  reset inner_alias;\n",
    "}\n",
    "\n",
    "out = measure q;"
   ]
  },
  {
   "cell_type": "code",
   "execution_count": 16,
   "metadata": {},
   "outputs": [
    {
     "ename": "QASM3ImporterError",
     "evalue": "\"9,0: gate 'cnot' is not defined.\"",
     "output_type": "error",
     "traceback": [
      "\u001b[1;31m---------------------------------------------------------------------------\u001b[0m",
      "\u001b[1;31mConversionError\u001b[0m                           Traceback (most recent call last)",
      "File \u001b[1;32md:\\zsy\\anaconda\\envs\\qiskit\\lib\\site-packages\\qiskit\\qasm3\\__init__.py:253\u001b[0m, in \u001b[0;36mloads\u001b[1;34m(program)\u001b[0m\n\u001b[0;32m    252\u001b[0m \u001b[39mtry\u001b[39;00m:\n\u001b[1;32m--> 253\u001b[0m     \u001b[39mreturn\u001b[39;00m qiskit_qasm3_import\u001b[39m.\u001b[39;49mparse(program)\n\u001b[0;32m    254\u001b[0m \u001b[39mexcept\u001b[39;00m qiskit_qasm3_import\u001b[39m.\u001b[39mConversionError \u001b[39mas\u001b[39;00m exc:\n",
      "File \u001b[1;32md:\\zsy\\anaconda\\envs\\qiskit\\lib\\site-packages\\qiskit_qasm3_import\\api.py:16\u001b[0m, in \u001b[0;36mparse\u001b[1;34m(string)\u001b[0m\n\u001b[0;32m     14\u001b[0m \u001b[39m\u001b[39m\u001b[39m\"\"\"Wrapper around :func:`.convert`, which first parses the OpenQASM 3 program into AST form, and\u001b[39;00m\n\u001b[0;32m     15\u001b[0m \u001b[39mthen converts the output to Qiskit format.\"\"\"\u001b[39;00m\n\u001b[1;32m---> 16\u001b[0m \u001b[39mreturn\u001b[39;00m convert(openqasm3\u001b[39m.\u001b[39;49mparse(string))\n",
      "File \u001b[1;32md:\\zsy\\anaconda\\envs\\qiskit\\lib\\site-packages\\qiskit_qasm3_import\\api.py:10\u001b[0m, in \u001b[0;36mconvert\u001b[1;34m(node)\u001b[0m\n\u001b[0;32m      8\u001b[0m \u001b[39m\u001b[39m\u001b[39m\"\"\"Convert a parsed OpenQASM 3 program in AST form, into a Qiskit\u001b[39;00m\n\u001b[0;32m      9\u001b[0m \u001b[39m:class:`~qiskit.circuit.QuantumCircuit`.\"\"\"\u001b[39;00m\n\u001b[1;32m---> 10\u001b[0m \u001b[39mreturn\u001b[39;00m ConvertVisitor()\u001b[39m.\u001b[39;49mconvert(node)\u001b[39m.\u001b[39mcircuit\n",
      "File \u001b[1;32md:\\zsy\\anaconda\\envs\\qiskit\\lib\\site-packages\\qiskit_qasm3_import\\converter.py:144\u001b[0m, in \u001b[0;36mConvertVisitor.convert\u001b[1;34m(self, node, source)\u001b[0m\n\u001b[0;32m    136\u001b[0m \u001b[39m\u001b[39m\u001b[39m\"\"\"Convert a program node into a :class:`~qiskit.circuit.QuantumCircuit`.\u001b[39;00m\n\u001b[0;32m    137\u001b[0m \n\u001b[0;32m    138\u001b[0m \u001b[39mIf given, `source` is a string containing the OpenQASM 3 source code that was parsed into\u001b[39;00m\n\u001b[1;32m   (...)\u001b[0m\n\u001b[0;32m    141\u001b[0m \u001b[39mstored in property thereof named `circuit`.\u001b[39;00m\n\u001b[0;32m    142\u001b[0m \u001b[39m\"\"\"\u001b[39;00m\n\u001b[1;32m--> 144\u001b[0m state \u001b[39m=\u001b[39m \u001b[39mself\u001b[39;49m\u001b[39m.\u001b[39;49mvisit(node, State(source))\n\u001b[0;32m    145\u001b[0m hardware_qubits \u001b[39m=\u001b[39m hardware_qubit_map(state\u001b[39m.\u001b[39msymbol_table)\n",
      "File \u001b[1;32md:\\zsy\\anaconda\\envs\\qiskit\\lib\\site-packages\\openqasm3\\visitor.py:44\u001b[0m, in \u001b[0;36mQASMVisitor.visit\u001b[1;34m(self, node, context)\u001b[0m\n\u001b[0;32m     43\u001b[0m \u001b[39mif\u001b[39;00m context:\n\u001b[1;32m---> 44\u001b[0m     \u001b[39mreturn\u001b[39;00m visitor(node, context)\n\u001b[0;32m     45\u001b[0m \u001b[39melse\u001b[39;00m:\n",
      "File \u001b[1;32md:\\zsy\\anaconda\\envs\\qiskit\\lib\\site-packages\\qiskit_qasm3_import\\converter.py:288\u001b[0m, in \u001b[0;36mConvertVisitor.visit_Program\u001b[1;34m(self, node, context)\u001b[0m\n\u001b[0;32m    287\u001b[0m \u001b[39mfor\u001b[39;00m statement \u001b[39min\u001b[39;00m node\u001b[39m.\u001b[39mstatements:\n\u001b[1;32m--> 288\u001b[0m     context \u001b[39m=\u001b[39m \u001b[39mself\u001b[39;49m\u001b[39m.\u001b[39;49mvisit(statement, context)\n\u001b[0;32m    289\u001b[0m \u001b[39mreturn\u001b[39;00m context\n",
      "File \u001b[1;32md:\\zsy\\anaconda\\envs\\qiskit\\lib\\site-packages\\openqasm3\\visitor.py:44\u001b[0m, in \u001b[0;36mQASMVisitor.visit\u001b[1;34m(self, node, context)\u001b[0m\n\u001b[0;32m     43\u001b[0m \u001b[39mif\u001b[39;00m context:\n\u001b[1;32m---> 44\u001b[0m     \u001b[39mreturn\u001b[39;00m visitor(node, context)\n\u001b[0;32m     45\u001b[0m \u001b[39melse\u001b[39;00m:\n",
      "File \u001b[1;32md:\\zsy\\anaconda\\envs\\qiskit\\lib\\site-packages\\qiskit_qasm3_import\\converter.py:340\u001b[0m, in \u001b[0;36mConvertVisitor.visit_QuantumGate\u001b[1;34m(self, node, context)\u001b[0m\n\u001b[0;32m    339\u001b[0m \u001b[39mif\u001b[39;00m (gate_symbol \u001b[39m:=\u001b[39m context\u001b[39m.\u001b[39msymbol_table\u001b[39m.\u001b[39mget(node\u001b[39m.\u001b[39mname\u001b[39m.\u001b[39mname, node)) \u001b[39mis\u001b[39;00m \u001b[39mNone\u001b[39;00m:\n\u001b[1;32m--> 340\u001b[0m     raise_from_node(node, \u001b[39mf\u001b[39;49m\u001b[39m\"\u001b[39;49m\u001b[39mgate \u001b[39;49m\u001b[39m'\u001b[39;49m\u001b[39m{\u001b[39;49;00mnode\u001b[39m.\u001b[39;49mname\u001b[39m.\u001b[39;49mname\u001b[39m}\u001b[39;49;00m\u001b[39m'\u001b[39;49m\u001b[39m is not defined.\u001b[39;49m\u001b[39m\"\u001b[39;49m)\n\u001b[0;32m    341\u001b[0m \u001b[39mif\u001b[39;00m \u001b[39mnot\u001b[39;00m \u001b[39misinstance\u001b[39m(gate_symbol\u001b[39m.\u001b[39mtype, types\u001b[39m.\u001b[39mGate):\n",
      "File \u001b[1;32md:\\zsy\\anaconda\\envs\\qiskit\\lib\\site-packages\\qiskit_qasm3_import\\exceptions.py:20\u001b[0m, in \u001b[0;36mraise_from_node\u001b[1;34m(node, message)\u001b[0m\n\u001b[0;32m     19\u001b[0m \u001b[39m\u001b[39m\u001b[39m\"\"\"Raise a :exc:`.ConversionError` caused by the given `node`.\"\"\"\u001b[39;00m\n\u001b[1;32m---> 20\u001b[0m \u001b[39mraise\u001b[39;00m ConversionError(message, node)\n",
      "\u001b[1;31mConversionError\u001b[0m: 9,0: gate 'cnot' is not defined.",
      "\nThe above exception was the direct cause of the following exception:\n",
      "\u001b[1;31mQASM3ImporterError\u001b[0m                        Traceback (most recent call last)",
      "Cell \u001b[1;32mIn[16], line 16\u001b[0m\n\u001b[0;32m      1\u001b[0m \u001b[39mimport\u001b[39;00m \u001b[39mqiskit\u001b[39;00m\u001b[39m.\u001b[39;00m\u001b[39mqasm3\u001b[39;00m\n\u001b[0;32m      3\u001b[0m program \u001b[39m=\u001b[39m  \u001b[39m\"\"\"\u001b[39m\u001b[39m   \u001b[39m\n\u001b[0;32m      4\u001b[0m \u001b[39mOPENQASM 3;\u001b[39m\n\u001b[0;32m      5\u001b[0m \u001b[39m    include \u001b[39m\u001b[39m\"\u001b[39m\u001b[39mstdgates.inc\u001b[39m\u001b[39m\"\u001b[39m\u001b[39m;\u001b[39m\n\u001b[1;32m   (...)\u001b[0m\n\u001b[0;32m     14\u001b[0m \u001b[39mc = measure q;\u001b[39m\n\u001b[0;32m     15\u001b[0m \u001b[39m\"\"\"\u001b[39m\n\u001b[1;32m---> 16\u001b[0m circuit \u001b[39m=\u001b[39m qiskit\u001b[39m.\u001b[39;49mqasm3\u001b[39m.\u001b[39;49mloads(program)\n\u001b[0;32m     17\u001b[0m circuit\u001b[39m.\u001b[39mdraw(\u001b[39m\"\u001b[39m\u001b[39mmpl\u001b[39m\u001b[39m\"\u001b[39m)\n",
      "File \u001b[1;32md:\\zsy\\anaconda\\envs\\qiskit\\lib\\site-packages\\qiskit\\utils\\lazy_tester.py:149\u001b[0m, in \u001b[0;36mLazyDependencyManager.require_in_call.<locals>.decorator.<locals>.out\u001b[1;34m(*args, **kwargs)\u001b[0m\n\u001b[0;32m    146\u001b[0m \u001b[39m@functools\u001b[39m\u001b[39m.\u001b[39mwraps(function)\n\u001b[0;32m    147\u001b[0m \u001b[39mdef\u001b[39;00m \u001b[39mout\u001b[39m(\u001b[39m*\u001b[39margs, \u001b[39m*\u001b[39m\u001b[39m*\u001b[39mkwargs):\n\u001b[0;32m    148\u001b[0m     \u001b[39mself\u001b[39m\u001b[39m.\u001b[39mrequire_now(feature)\n\u001b[1;32m--> 149\u001b[0m     \u001b[39mreturn\u001b[39;00m function(\u001b[39m*\u001b[39margs, \u001b[39m*\u001b[39m\u001b[39m*\u001b[39mkwargs)\n",
      "File \u001b[1;32md:\\zsy\\anaconda\\envs\\qiskit\\lib\\site-packages\\qiskit\\qasm3\\__init__.py:255\u001b[0m, in \u001b[0;36mloads\u001b[1;34m(program)\u001b[0m\n\u001b[0;32m    253\u001b[0m     \u001b[39mreturn\u001b[39;00m qiskit_qasm3_import\u001b[39m.\u001b[39mparse(program)\n\u001b[0;32m    254\u001b[0m \u001b[39mexcept\u001b[39;00m qiskit_qasm3_import\u001b[39m.\u001b[39mConversionError \u001b[39mas\u001b[39;00m exc:\n\u001b[1;32m--> 255\u001b[0m     \u001b[39mraise\u001b[39;00m QASM3ImporterError(\u001b[39mstr\u001b[39m(exc)) \u001b[39mfrom\u001b[39;00m \u001b[39mexc\u001b[39;00m\n",
      "\u001b[1;31mQASM3ImporterError\u001b[0m: \"9,0: gate 'cnot' is not defined.\""
     ]
    }
   ],
   "source": [
    "import qiskit.qasm3\n",
    "\n",
    "program =  \"\"\"   \n",
    "OPENQASM 3;\n",
    "    include \"stdgates.inc\";\n",
    "\n",
    "qubit[3] q;\n",
    "bit[3] out;\n",
    "\n",
    "h q[0];\n",
    "cnot q[0], q[1];\n",
    "cnot q[1], q[2];\n",
    "\n",
    "c = measure q;\n",
    "\"\"\"\n",
    "circuit = qiskit.qasm3.loads(program)\n",
    "circuit.draw(\"mpl\")"
   ]
  },
  {
   "cell_type": "code",
   "execution_count": 11,
   "metadata": {},
   "outputs": [],
   "source": [
    "from qiskit import qasm3, QuantumCircuit, QuantumRegister, ClassicalRegister\n",
    "\n",
    "# Build the circuit\n",
    "qreg = QuantumRegister(3)\n",
    "creg = ClassicalRegister(3)\n",
    "qc = QuantumCircuit(qreg, creg)\n",
    "with qc.switch(creg) as case:\n",
    "    with case(0):\n",
    "        qc.x(0)\n",
    "    with case(1, 2):\n",
    "        qc.x(1)\n",
    "    with case(case.DEFAULT):\n",
    "        qc.x(2)\n",
    "\n",
    "# Export to an OpenQASM 3 string.\n",
    "qasm_string = qasm3.dumps(qc, experimental=qasm3.ExperimentalFeatures.SWITCH_CASE_V1)"
   ]
  },
  {
   "cell_type": "markdown",
   "metadata": {},
   "source": [
    "\n",
    "$H^{\\prime}(1)=U^{\\dagger} (1)H_{1}U(1) $\n"
   ]
  },
  {
   "cell_type": "code",
   "execution_count": null,
   "metadata": {},
   "outputs": [],
   "source": []
  }
 ],
 "metadata": {
  "kernelspec": {
   "display_name": "qiskit",
   "language": "python",
   "name": "python3"
  },
  "language_info": {
   "codemirror_mode": {
    "name": "ipython",
    "version": 3
   },
   "file_extension": ".py",
   "mimetype": "text/x-python",
   "name": "python",
   "nbconvert_exporter": "python",
   "pygments_lexer": "ipython3",
   "version": "3.9.12"
  },
  "orig_nbformat": 4
 },
 "nbformat": 4,
 "nbformat_minor": 2
}
