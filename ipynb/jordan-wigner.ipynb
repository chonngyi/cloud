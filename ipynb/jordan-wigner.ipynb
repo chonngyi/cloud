{
 "cells": [
  {
   "cell_type": "code",
   "execution_count": 1,
   "metadata": {},
   "outputs": [
    {
     "data": {
      "text/plain": [
       "[(-2.2190022279718136+0j),\n",
       " (1.8865891071428451+0j),\n",
       " (6.456236355135897+0j),\n",
       " (12.895697072162626+0j),\n",
       " (20.999118983894004+0j),\n",
       " (31.074277129981787+0j),\n",
       " (43.66161119491027+0j),\n",
       " (59.46796045671033+0j),\n",
       " (79.76851010836347+0j),\n",
       " (107.8224207096706+0j)]"
      ]
     },
     "execution_count": 1,
     "metadata": {},
     "output_type": "execute_result"
    }
   ],
   "source": []
  },
  {
   "cell_type": "code",
   "execution_count": 1,
   "metadata": {},
   "outputs": [],
   "source": [
    "import numpy as np\n",
    "\n",
    "def nested_kronecker_product(a):\n",
    "    if len(a) == 2:\n",
    "        return np.kron(a[0],a[1])\n",
    "    else:\n",
    "        return np.kron(a[0], nested_kronecker_product(a[1:]))\n",
    "\n",
    "\n"
   ]
  },
  {
   "cell_type": "code",
   "execution_count": 2,
   "metadata": {},
   "outputs": [],
   "source": [
    "def jordan_wigner_transform(j, lattice_length):\n",
    "    sigma = np.array([[0, 1], [0, 0]])\n",
    "    sigma_z = np.array([[1, 0], [0, -1]])\n",
    "    I = np.eye(2)\n",
    "    operators = []\n",
    "    for k in range(j):\n",
    "        operators.append(sigma_z)\n",
    "    operators.append(sigma)\n",
    "    for k in range(lattice_length-j-1):\n",
    "        operators.append(I)\n",
    "    return -nested_kronecker_product(operators)\n",
    "lattice_length = 10\n",
    "a = []\n",
    "for i in range(lattice_length):\n",
    "    a.append(jordan_wigner_transform(i, lattice_length))\n"
   ]
  },
  {
   "cell_type": "code",
   "execution_count": 3,
   "metadata": {},
   "outputs": [],
   "source": [
    "def hamiltonian(hbar_times_omega, V0, lattice_length):\n",
    "    for N in range(lattice_length+1):\n",
    "        # 构建哈密顿量矩阵\n",
    "        H = np.zeros((N, N), dtype=complex)\n",
    "\n",
    "        for n in range(N):\n",
    "            for n_prime in range(N):\n",
    "                T_element = (hbar_times_omega / 2) * (\n",
    "                    (2 * n + 3/2) * (n_prime == n) -\n",
    "                    np.sqrt(n * (n + 1/2)) * (n_prime + 1 == n ) -\n",
    "                    np.sqrt((n + 1) * (n + 3/2)) * (n_prime-1 == n )\n",
    "                )\n",
    "                V_element = V0 * (n == 0) * (n_prime == n)\n",
    "                H[n, n_prime] = T_element + V_element\n",
    "    return H"
   ]
  },
  {
   "cell_type": "code",
   "execution_count": 4,
   "metadata": {},
   "outputs": [
    {
     "data": {
      "text/plain": [
       "[(-2.2190022279718136+0j),\n",
       " (1.8865891071428451+0j),\n",
       " (6.456236355135897+0j),\n",
       " (12.895697072162626+0j),\n",
       " (20.999118983894004+0j),\n",
       " (31.074277129981787+0j),\n",
       " (43.66161119491027+0j),\n",
       " (59.46796045671033+0j),\n",
       " (79.76851010836347+0j),\n",
       " (107.8224207096706+0j)]"
      ]
     },
     "execution_count": 4,
     "metadata": {},
     "output_type": "execute_result"
    }
   ],
   "source": [
    "hbar_times_omega = 7.0  # hbar * omega = 7 MeV\n",
    "V0 = -5.68658111  # 势能常数 V0 = -5.68658111 MeV\n",
    "Lambda = 152.0  # 超紫外截断 Λ ≈ 152 MeV\n",
    "H = hamiltonian(hbar_times_omega, V0, lattice_length)\n",
    "eigenvalues = np.linalg.eig(H)[0]\n",
    "sorted(eigenvalues)"
   ]
  }
 ],
 "metadata": {
  "kernelspec": {
   "display_name": "qiskit",
   "language": "python",
   "name": "python3"
  },
  "language_info": {
   "codemirror_mode": {
    "name": "ipython",
    "version": 3
   },
   "file_extension": ".py",
   "mimetype": "text/x-python",
   "name": "python",
   "nbconvert_exporter": "python",
   "pygments_lexer": "ipython3",
   "version": "3.9.12"
  }
 },
 "nbformat": 4,
 "nbformat_minor": 2
}
